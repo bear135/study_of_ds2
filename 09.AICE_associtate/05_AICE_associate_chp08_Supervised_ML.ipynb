{
 "cells": [
  {
   "cell_type": "code",
   "execution_count": 1,
   "metadata": {},
   "outputs": [],
   "source": [
    "import numpy as np \n",
    "import pandas as pd\n",
    "import matplotlib.pyplot as plt \n",
    "import seaborn as sns \n",
    "import random \n",
    "\n",
    "np.random.seed(42)"
   ]
  },
  {
   "cell_type": "markdown",
   "metadata": {},
   "source": [
    "---\n",
    "#### Linear Regression \n",
    "---"
   ]
  },
  {
   "cell_type": "code",
   "execution_count": 2,
   "metadata": {},
   "outputs": [
    {
     "name": "stdout",
     "output_type": "stream",
     "text": [
      "[1, 2, 3, 4, 5, 6, 7, 8, 9, 10] [11, 15, 19, 23, 27, 31, 35, 39, 43, 47]\n"
     ]
    }
   ],
   "source": [
    "## 예제 데이터 생성 \n",
    "x = list(range(1, 11))\n",
    "y = [4 * i + 7 for i in x]\n",
    "\n",
    "print(x, y)"
   ]
  },
  {
   "cell_type": "code",
   "execution_count": 3,
   "metadata": {},
   "outputs": [
    {
     "name": "stdout",
     "output_type": "stream",
     "text": [
      "[4.]\n",
      "6.9999999999999964\n"
     ]
    },
    {
     "data": {
      "image/png": "[encoded data removed]",
      "text/plain": [
       "<Figure size 640x480 with 1 Axes>"
      ]
     },
     "metadata": {},
     "output_type": "display_data"
    }
   ],
   "source": [
    "## model & train \n",
    "from sklearn.linear_model import LinearRegression\n",
    "reg = LinearRegression()\n",
    "\n",
    "## x는 2차원 배열이어야 하므로 reshape(-1,1)을 사용, y는 1차원 배열로 처리되므로 추가 변환 불필요\n",
    "x = np.array(x).reshape(-1,1)  \n",
    "reg.fit(x,y)\n",
    "\n",
    "## 훈련결과 파라미터 확인 \n",
    "print(reg.coef_)\n",
    "print(reg.intercept_)\n",
    "\n",
    "## 차트로 확인 \n",
    "plt.scatter(x,y, color='r', s=20)  # s: size \n",
    "plt.plot(x, reg.coef_*x + reg.intercept_)\n",
    "\n",
    "plt.text(7, 20, f'coef = {reg.coef_}')     # text 함수에 숫자값이 들어가면 오류발생하므로, f' ' 사용\n",
    "plt.text(7, 18, f'intercept = {reg.intercept_}')\n",
    "\n",
    "plt.xlabel('x')\n",
    "plt.ylabel('y')\n",
    "plt.show()"
   ]
  },
  {
   "cell_type": "code",
   "execution_count": 4,
   "metadata": {},
   "outputs": [
    {
     "name": "stdout",
     "output_type": "stream",
     "text": [
      "(1000000, 31)\n"
     ]
    },
    {
     "data": {
      "text/html": [
       "<div>\n",
       "<style scoped>\n",
       "    .dataframe tbody tr th:only-of-type {\n",
       "        vertical-align: middle;\n",
       "    }\n",
       "\n",
       "    .dataframe tbody tr th {\n",
       "        vertical-align: top;\n",
       "    }\n",
       "\n",
       "    .dataframe thead th {\n",
       "        text-align: right;\n",
       "    }\n",
       "</style>\n",
       "<table border=\"1\" class=\"dataframe\">\n",
       "  <thead>\n",
       "    <tr style=\"text-align: right;\">\n",
       "      <th></th>\n",
       "      <th>기준년도</th>\n",
       "      <th>가입자 일련번호</th>\n",
       "      <th>시도코드</th>\n",
       "      <th>성별코드</th>\n",
       "      <th>연령대 코드(5세단위)</th>\n",
       "      <th>신장(5Cm단위)</th>\n",
       "      <th>체중(5Kg 단위)</th>\n",
       "      <th>허리둘레</th>\n",
       "      <th>시력(좌)</th>\n",
       "      <th>시력(우)</th>\n",
       "      <th>청력(좌)</th>\n",
       "      <th>청력(우)</th>\n",
       "      <th>수축기 혈압</th>\n",
       "      <th>이완기 혈압</th>\n",
       "      <th>식전혈당(공복혈당)</th>\n",
       "      <th>총 콜레스테롤</th>\n",
       "      <th>트리글리세라이드</th>\n",
       "      <th>HDL 콜레스테롤</th>\n",
       "      <th>LDL 콜레스테롤</th>\n",
       "      <th>혈색소</th>\n",
       "      <th>요단백</th>\n",
       "      <th>혈청크레아티닌</th>\n",
       "      <th>(혈청지오티)AST</th>\n",
       "      <th>(혈청지오티)ALT</th>\n",
       "      <th>감마 지티피</th>\n",
       "      <th>흡연상태</th>\n",
       "      <th>음주여부</th>\n",
       "      <th>구강검진 수검여부</th>\n",
       "      <th>치아우식증유무</th>\n",
       "      <th>치석</th>\n",
       "      <th>데이터 공개일자</th>\n",
       "    </tr>\n",
       "  </thead>\n",
       "  <tbody>\n",
       "    <tr>\n",
       "      <th>0</th>\n",
       "      <td>2020</td>\n",
       "      <td>1</td>\n",
       "      <td>36</td>\n",
       "      <td>1</td>\n",
       "      <td>9</td>\n",
       "      <td>165</td>\n",
       "      <td>60</td>\n",
       "      <td>72.1</td>\n",
       "      <td>1.2</td>\n",
       "      <td>1.5</td>\n",
       "      <td>1.0</td>\n",
       "      <td>1.0</td>\n",
       "      <td>127.0</td>\n",
       "      <td>79.0</td>\n",
       "      <td>90.0</td>\n",
       "      <td>188.0</td>\n",
       "      <td>58.0</td>\n",
       "      <td>58.0</td>\n",
       "      <td>118.0</td>\n",
       "      <td>15.0</td>\n",
       "      <td>1.0</td>\n",
       "      <td>1.1</td>\n",
       "      <td>21.0</td>\n",
       "      <td>27.0</td>\n",
       "      <td>21.0</td>\n",
       "      <td>1.0</td>\n",
       "      <td>0.0</td>\n",
       "      <td>0</td>\n",
       "      <td>NaN</td>\n",
       "      <td>NaN</td>\n",
       "      <td>2021-12-29</td>\n",
       "    </tr>\n",
       "    <tr>\n",
       "      <th>1</th>\n",
       "      <td>2020</td>\n",
       "      <td>2</td>\n",
       "      <td>27</td>\n",
       "      <td>2</td>\n",
       "      <td>13</td>\n",
       "      <td>150</td>\n",
       "      <td>65</td>\n",
       "      <td>81.0</td>\n",
       "      <td>0.8</td>\n",
       "      <td>0.8</td>\n",
       "      <td>1.0</td>\n",
       "      <td>1.0</td>\n",
       "      <td>110.0</td>\n",
       "      <td>73.0</td>\n",
       "      <td>87.0</td>\n",
       "      <td>NaN</td>\n",
       "      <td>NaN</td>\n",
       "      <td>NaN</td>\n",
       "      <td>NaN</td>\n",
       "      <td>12.7</td>\n",
       "      <td>1.0</td>\n",
       "      <td>0.5</td>\n",
       "      <td>18.0</td>\n",
       "      <td>15.0</td>\n",
       "      <td>15.0</td>\n",
       "      <td>1.0</td>\n",
       "      <td>0.0</td>\n",
       "      <td>0</td>\n",
       "      <td>NaN</td>\n",
       "      <td>NaN</td>\n",
       "      <td>2021-12-29</td>\n",
       "    </tr>\n",
       "    <tr>\n",
       "      <th>2</th>\n",
       "      <td>2020</td>\n",
       "      <td>3</td>\n",
       "      <td>11</td>\n",
       "      <td>2</td>\n",
       "      <td>12</td>\n",
       "      <td>155</td>\n",
       "      <td>55</td>\n",
       "      <td>70.0</td>\n",
       "      <td>0.6</td>\n",
       "      <td>0.7</td>\n",
       "      <td>1.0</td>\n",
       "      <td>1.0</td>\n",
       "      <td>123.0</td>\n",
       "      <td>80.0</td>\n",
       "      <td>102.0</td>\n",
       "      <td>NaN</td>\n",
       "      <td>NaN</td>\n",
       "      <td>NaN</td>\n",
       "      <td>NaN</td>\n",
       "      <td>12.8</td>\n",
       "      <td>1.0</td>\n",
       "      <td>0.7</td>\n",
       "      <td>27.0</td>\n",
       "      <td>25.0</td>\n",
       "      <td>7.0</td>\n",
       "      <td>1.0</td>\n",
       "      <td>0.0</td>\n",
       "      <td>0</td>\n",
       "      <td>NaN</td>\n",
       "      <td>NaN</td>\n",
       "      <td>2021-12-29</td>\n",
       "    </tr>\n",
       "    <tr>\n",
       "      <th>3</th>\n",
       "      <td>2020</td>\n",
       "      <td>4</td>\n",
       "      <td>31</td>\n",
       "      <td>1</td>\n",
       "      <td>13</td>\n",
       "      <td>160</td>\n",
       "      <td>70</td>\n",
       "      <td>90.8</td>\n",
       "      <td>1.0</td>\n",
       "      <td>1.0</td>\n",
       "      <td>1.0</td>\n",
       "      <td>2.0</td>\n",
       "      <td>134.0</td>\n",
       "      <td>84.0</td>\n",
       "      <td>146.0</td>\n",
       "      <td>NaN</td>\n",
       "      <td>NaN</td>\n",
       "      <td>NaN</td>\n",
       "      <td>NaN</td>\n",
       "      <td>16.4</td>\n",
       "      <td>1.0</td>\n",
       "      <td>1.2</td>\n",
       "      <td>65.0</td>\n",
       "      <td>97.0</td>\n",
       "      <td>72.0</td>\n",
       "      <td>1.0</td>\n",
       "      <td>0.0</td>\n",
       "      <td>1</td>\n",
       "      <td>0.0</td>\n",
       "      <td>0.0</td>\n",
       "      <td>2021-12-29</td>\n",
       "    </tr>\n",
       "    <tr>\n",
       "      <th>4</th>\n",
       "      <td>2020</td>\n",
       "      <td>5</td>\n",
       "      <td>41</td>\n",
       "      <td>2</td>\n",
       "      <td>12</td>\n",
       "      <td>155</td>\n",
       "      <td>50</td>\n",
       "      <td>75.2</td>\n",
       "      <td>1.5</td>\n",
       "      <td>1.2</td>\n",
       "      <td>1.0</td>\n",
       "      <td>1.0</td>\n",
       "      <td>144.0</td>\n",
       "      <td>89.0</td>\n",
       "      <td>110.0</td>\n",
       "      <td>220.0</td>\n",
       "      <td>171.0</td>\n",
       "      <td>53.0</td>\n",
       "      <td>133.0</td>\n",
       "      <td>12.4</td>\n",
       "      <td>1.0</td>\n",
       "      <td>0.7</td>\n",
       "      <td>18.0</td>\n",
       "      <td>17.0</td>\n",
       "      <td>14.0</td>\n",
       "      <td>1.0</td>\n",
       "      <td>0.0</td>\n",
       "      <td>0</td>\n",
       "      <td>NaN</td>\n",
       "      <td>NaN</td>\n",
       "      <td>2021-12-29</td>\n",
       "    </tr>\n",
       "  </tbody>\n",
       "</table>\n",
       "</div>"
      ],
      "text/plain": [
       "   기준년도  가입자 일련번호  시도코드  성별코드  연령대 코드(5세단위)  신장(5Cm단위)  체중(5Kg 단위)  허리둘레  \\\n",
       "0  2020         1    36     1             9        165          60  72.1   \n",
       "1  2020         2    27     2            13        150          65  81.0   \n",
       "2  2020         3    11     2            12        155          55  70.0   \n",
       "3  2020         4    31     1            13        160          70  90.8   \n",
       "4  2020         5    41     2            12        155          50  75.2   \n",
       "\n",
       "   시력(좌)  시력(우)  청력(좌)  청력(우)  수축기 혈압  이완기 혈압  식전혈당(공복혈당)  총 콜레스테롤  트리글리세라이드  \\\n",
       "0    1.2    1.5    1.0    1.0   127.0    79.0        90.0    188.0      58.0   \n",
       "1    0.8    0.8    1.0    1.0   110.0    73.0        87.0      NaN       NaN   \n",
       "2    0.6    0.7    1.0    1.0   123.0    80.0       102.0      NaN       NaN   \n",
       "3    1.0    1.0    1.0    2.0   134.0    84.0       146.0      NaN       NaN   \n",
       "4    1.5    1.2    1.0    1.0   144.0    89.0       110.0    220.0     171.0   \n",
       "\n",
       "   HDL 콜레스테롤  LDL 콜레스테롤   혈색소  요단백  혈청크레아티닌  (혈청지오티)AST  (혈청지오티)ALT  감마 지티피  \\\n",
       "0       58.0      118.0  15.0  1.0      1.1        21.0        27.0    21.0   \n",
       "1        NaN        NaN  12.7  1.0      0.5        18.0        15.0    15.0   \n",
       "2        NaN        NaN  12.8  1.0      0.7        27.0        25.0     7.0   \n",
       "3        NaN        NaN  16.4  1.0      1.2        65.0        97.0    72.0   \n",
       "4       53.0      133.0  12.4  1.0      0.7        18.0        17.0    14.0   \n",
       "\n",
       "   흡연상태  음주여부  구강검진 수검여부  치아우식증유무   치석    데이터 공개일자  \n",
       "0   1.0   0.0          0      NaN  NaN  2021-12-29  \n",
       "1   1.0   0.0          0      NaN  NaN  2021-12-29  \n",
       "2   1.0   0.0          0      NaN  NaN  2021-12-29  \n",
       "3   1.0   0.0          1      0.0  0.0  2021-12-29  \n",
       "4   1.0   0.0          0      NaN  NaN  2021-12-29  "
      ]
     },
     "execution_count": 4,
     "metadata": {},
     "output_type": "execute_result"
    }
   ],
   "source": [
    "## 실습 데이터 \n",
    "df = pd.read_csv('data/국민건강보험공단_건강검진정보_20211229.CSV', encoding='cp949')\n",
    "pd.set_option('display.max_columns', None)  # None : 최대 컬럼수 제한 없음 \n",
    "print(df.shape)\n",
    "df.head()"
   ]
  },
  {
   "cell_type": "code",
   "execution_count": 5,
   "metadata": {},
   "outputs": [
    {
     "data": {
      "text/html": [
       "<div>\n",
       "<style scoped>\n",
       "    .dataframe tbody tr th:only-of-type {\n",
       "        vertical-align: middle;\n",
       "    }\n",
       "\n",
       "    .dataframe tbody tr th {\n",
       "        vertical-align: top;\n",
       "    }\n",
       "\n",
       "    .dataframe thead th {\n",
       "        text-align: right;\n",
       "    }\n",
       "</style>\n",
       "<table border=\"1\" class=\"dataframe\">\n",
       "  <thead>\n",
       "    <tr style=\"text-align: right;\">\n",
       "      <th></th>\n",
       "      <th>연령대 코드(5세단위)</th>\n",
       "      <th>신장(5Cm단위)</th>\n",
       "      <th>체중(5Kg 단위)</th>\n",
       "      <th>허리둘레</th>\n",
       "      <th>수축기 혈압</th>\n",
       "      <th>이완기 혈압</th>\n",
       "      <th>식전혈당(공복혈당)</th>\n",
       "      <th>총 콜레스테롤</th>\n",
       "      <th>트리글리세라이드</th>\n",
       "      <th>HDL 콜레스테롤</th>\n",
       "      <th>LDL 콜레스테롤</th>\n",
       "      <th>혈색소</th>\n",
       "      <th>요단백</th>\n",
       "      <th>혈청크레아티닌</th>\n",
       "      <th>(혈청지오티)AST</th>\n",
       "      <th>(혈청지오티)ALT</th>\n",
       "      <th>감마 지티피</th>\n",
       "      <th>흡연상태</th>\n",
       "      <th>음주여부</th>\n",
       "    </tr>\n",
       "  </thead>\n",
       "  <tbody>\n",
       "    <tr>\n",
       "      <th>0</th>\n",
       "      <td>9</td>\n",
       "      <td>165</td>\n",
       "      <td>60</td>\n",
       "      <td>72.1</td>\n",
       "      <td>127.0</td>\n",
       "      <td>79.0</td>\n",
       "      <td>90.0</td>\n",
       "      <td>188.0</td>\n",
       "      <td>58.0</td>\n",
       "      <td>58.0</td>\n",
       "      <td>118.0</td>\n",
       "      <td>15.0</td>\n",
       "      <td>1.0</td>\n",
       "      <td>1.1</td>\n",
       "      <td>21.0</td>\n",
       "      <td>27.0</td>\n",
       "      <td>21.0</td>\n",
       "      <td>1.0</td>\n",
       "      <td>0.0</td>\n",
       "    </tr>\n",
       "  </tbody>\n",
       "</table>\n",
       "</div>"
      ],
      "text/plain": [
       "   연령대 코드(5세단위)  신장(5Cm단위)  체중(5Kg 단위)  허리둘레  수축기 혈압  이완기 혈압  식전혈당(공복혈당)  \\\n",
       "0             9        165          60  72.1   127.0    79.0        90.0   \n",
       "\n",
       "   총 콜레스테롤  트리글리세라이드  HDL 콜레스테롤  LDL 콜레스테롤   혈색소  요단백  혈청크레아티닌  (혈청지오티)AST  \\\n",
       "0    188.0      58.0       58.0      118.0  15.0  1.0      1.1        21.0   \n",
       "\n",
       "   (혈청지오티)ALT  감마 지티피  흡연상태  음주여부  \n",
       "0        27.0    21.0   1.0   0.0  "
      ]
     },
     "metadata": {},
     "output_type": "display_data"
    },
    {
     "data": {
      "text/html": [
       "<div>\n",
       "<style scoped>\n",
       "    .dataframe tbody tr th:only-of-type {\n",
       "        vertical-align: middle;\n",
       "    }\n",
       "\n",
       "    .dataframe tbody tr th {\n",
       "        vertical-align: top;\n",
       "    }\n",
       "\n",
       "    .dataframe thead th {\n",
       "        text-align: right;\n",
       "    }\n",
       "</style>\n",
       "<table border=\"1\" class=\"dataframe\">\n",
       "  <thead>\n",
       "    <tr style=\"text-align: right;\">\n",
       "      <th></th>\n",
       "      <th>연령대 코드(5세단위)</th>\n",
       "      <th>신장(5Cm단위)</th>\n",
       "      <th>체중(5Kg 단위)</th>\n",
       "      <th>허리둘레</th>\n",
       "      <th>수축기 혈압</th>\n",
       "      <th>이완기 혈압</th>\n",
       "      <th>식전혈당(공복혈당)</th>\n",
       "      <th>총 콜레스테롤</th>\n",
       "      <th>트리글리세라이드</th>\n",
       "      <th>HDL 콜레스테롤</th>\n",
       "      <th>LDL 콜레스테롤</th>\n",
       "      <th>혈색소</th>\n",
       "      <th>요단백</th>\n",
       "      <th>혈청크레아티닌</th>\n",
       "      <th>(혈청지오티)AST</th>\n",
       "      <th>(혈청지오티)ALT</th>\n",
       "      <th>감마 지티피</th>\n",
       "      <th>흡연상태</th>\n",
       "      <th>음주여부</th>\n",
       "    </tr>\n",
       "  </thead>\n",
       "  <tbody>\n",
       "    <tr>\n",
       "      <th>1</th>\n",
       "      <td>13</td>\n",
       "      <td>150</td>\n",
       "      <td>65</td>\n",
       "      <td>81.0</td>\n",
       "      <td>110.0</td>\n",
       "      <td>73.0</td>\n",
       "      <td>87.0</td>\n",
       "      <td>NaN</td>\n",
       "      <td>NaN</td>\n",
       "      <td>NaN</td>\n",
       "      <td>NaN</td>\n",
       "      <td>12.7</td>\n",
       "      <td>1.0</td>\n",
       "      <td>0.5</td>\n",
       "      <td>18.0</td>\n",
       "      <td>15.0</td>\n",
       "      <td>15.0</td>\n",
       "      <td>1.0</td>\n",
       "      <td>0.0</td>\n",
       "    </tr>\n",
       "  </tbody>\n",
       "</table>\n",
       "</div>"
      ],
      "text/plain": [
       "   연령대 코드(5세단위)  신장(5Cm단위)  체중(5Kg 단위)  허리둘레  수축기 혈압  이완기 혈압  식전혈당(공복혈당)  \\\n",
       "1            13        150          65  81.0   110.0    73.0        87.0   \n",
       "\n",
       "   총 콜레스테롤  트리글리세라이드  HDL 콜레스테롤  LDL 콜레스테롤   혈색소  요단백  혈청크레아티닌  (혈청지오티)AST  \\\n",
       "1      NaN       NaN        NaN        NaN  12.7  1.0      0.5        18.0   \n",
       "\n",
       "   (혈청지오티)ALT  감마 지티피  흡연상태  음주여부  \n",
       "1        15.0    15.0   1.0   0.0  "
      ]
     },
     "metadata": {},
     "output_type": "display_data"
    }
   ],
   "source": [
    "'''\n",
    "- 건강검진에 중요한 변수 찾기 \n",
    "- 기준년도(모두 2020년 데이터), 가입자 일련번호, 시도코드, 성별코드, 데이터 공개일자 --> 불필요 \n",
    "- 임의의 가설 : 시력, 청력, 치아관련은 크게 중요하지 않다. --> 변수제외 \n",
    "'''\n",
    "# 불필요한 데이터 삭제\n",
    "drop_list = ['기준년도', '가입자 일련번호', '시도코드', '성별코드', '데이터 공개일자', '시력(좌)', '시력(우)', '청력(좌)', '청력(우)', '구강검진 수검여부', '치아우식증유무', '치석']\n",
    "df.drop(drop_list, axis=1, inplace=True)\n",
    "\n",
    "# train/test dataset\n",
    "train = df.dropna(axis=0)\n",
    "test = df[df['LDL 콜레스테롤'].isnull()]\n",
    "\n",
    "display(train.head(1))\n",
    "display(test.head(1))"
   ]
  },
  {
   "cell_type": "code",
   "execution_count": 6,
   "metadata": {},
   "outputs": [
    {
     "name": "stdout",
     "output_type": "stream",
     "text": [
      "(262749, 18) (129415, 18) (262749,) (129415,)\n"
     ]
    }
   ],
   "source": [
    "# target data \n",
    "y = train['LDL 콜레스테롤']\n",
    "# train data \n",
    "x = train.drop('LDL 콜레스테롤', axis=1)\n",
    "\n",
    "# train, validation dataset split \n",
    "from sklearn.model_selection import train_test_split\n",
    "X_train, X_test, y_train, y_test = train_test_split(x, y, test_size=0.33, random_state=42)\n",
    "\n",
    "print(X_train.shape, X_test.shape, y_train.shape, y_test.shape)"
   ]
  },
  {
   "cell_type": "code",
   "execution_count": 7,
   "metadata": {},
   "outputs": [
    {
     "name": "stdout",
     "output_type": "stream",
     "text": [
      "[ 0.10940698  0.01482723  0.03846911  0.04390587 -0.01075239 -0.00400628\n",
      " -0.00250987  0.96960416 -0.17471532 -0.7285143   0.14793707  0.02093034\n",
      "  0.30343003 -0.01334047  0.01410607 -0.00855896  0.26395722 -0.70237274]\n",
      "-22.424253230418515\n"
     ]
    }
   ],
   "source": [
    "# model training \n",
    "from sklearn.linear_model import LinearRegression\n",
    "reg = LinearRegression()\n",
    "\n",
    "reg.fit(X_train, y_train)\n",
    "\n",
    "print(reg.coef_)\n",
    "print(reg.intercept_)"
   ]
  },
  {
   "cell_type": "code",
   "execution_count": 8,
   "metadata": {},
   "outputs": [
    {
     "data": {
      "text/plain": [
       "8.126575716555271"
      ]
     },
     "execution_count": 8,
     "metadata": {},
     "output_type": "execute_result"
    }
   ],
   "source": [
    "# predict by RMSE \n",
    "y_pred = reg.predict(X_test)\n",
    "\n",
    "from sklearn.metrics import root_mean_squared_error\n",
    "rmse = root_mean_squared_error(y_test, y_pred)  \n",
    "rmse"
   ]
  },
  {
   "cell_type": "markdown",
   "metadata": {},
   "source": [
    "---\n",
    "#### Logistic Regression \n",
    "---"
   ]
  },
  {
   "cell_type": "code",
   "execution_count": 9,
   "metadata": {},
   "outputs": [
    {
     "name": "stdout",
     "output_type": "stream",
     "text": [
      "(15, 1) (15,) (5, 1) (5,)\n"
     ]
    }
   ],
   "source": [
    "# 샘플데이터 \n",
    "x_train = [3,4,5,6,7,8,9,10,11,12,13,14,15,16,17]\n",
    "y_train = [0,0,0,0,0,0,0,1,1,1,1,1,1,1,1]\n",
    "x_test = [0,1,2,18,19]\n",
    "y_test = [0,0,0,1,1]\n",
    "\n",
    "# x 데이터 reshape 및 전체 데이터 array로 변경\n",
    "x_train = np.array(x_train).reshape([-1,1])\n",
    "y_train = np.array(y_train)\n",
    "x_test = np.array(x_test).reshape([-1,1])\n",
    "y_test = np.array(y_test)\n",
    "\n",
    "print(x_train.shape, y_train.shape, x_test.shape, y_test.shape)"
   ]
  },
  {
   "cell_type": "code",
   "execution_count": 10,
   "metadata": {},
   "outputs": [
    {
     "name": "stdout",
     "output_type": "stream",
     "text": [
      "[[1.19388731]] [-11.34176791]\n"
     ]
    }
   ],
   "source": [
    "# model train \n",
    "from sklearn.linear_model import LogisticRegression\n",
    "logi_reg = LogisticRegression() \n",
    "\n",
    "logi_reg.fit(x_train, y_train)\n",
    "\n",
    "print(logi_reg.coef_, logi_reg.intercept_)"
   ]
  },
  {
   "cell_type": "code",
   "execution_count": 11,
   "metadata": {},
   "outputs": [
    {
     "data": {
      "text/plain": [
       "1.0"
      ]
     },
     "execution_count": 11,
     "metadata": {},
     "output_type": "execute_result"
    }
   ],
   "source": [
    "# accuracy score\n",
    "logi_reg.score(x_test, y_test)"
   ]
  },
  {
   "cell_type": "markdown",
   "metadata": {},
   "source": [
    "---\n",
    "##### Decision Tree \n",
    "---"
   ]
  },
  {
   "cell_type": "code",
   "execution_count": 12,
   "metadata": {},
   "outputs": [
    {
     "data": {
      "text/html": [
       "<div>\n",
       "<style scoped>\n",
       "    .dataframe tbody tr th:only-of-type {\n",
       "        vertical-align: middle;\n",
       "    }\n",
       "\n",
       "    .dataframe tbody tr th {\n",
       "        vertical-align: top;\n",
       "    }\n",
       "\n",
       "    .dataframe thead th {\n",
       "        text-align: right;\n",
       "    }\n",
       "</style>\n",
       "<table border=\"1\" class=\"dataframe\">\n",
       "  <thead>\n",
       "    <tr style=\"text-align: right;\">\n",
       "      <th></th>\n",
       "      <th>기준년도</th>\n",
       "      <th>가입자 일련번호</th>\n",
       "      <th>시도코드</th>\n",
       "      <th>성별코드</th>\n",
       "      <th>연령대 코드(5세단위)</th>\n",
       "      <th>신장(5Cm단위)</th>\n",
       "      <th>체중(5Kg 단위)</th>\n",
       "      <th>허리둘레</th>\n",
       "      <th>시력(좌)</th>\n",
       "      <th>시력(우)</th>\n",
       "      <th>청력(좌)</th>\n",
       "      <th>청력(우)</th>\n",
       "      <th>수축기 혈압</th>\n",
       "      <th>이완기 혈압</th>\n",
       "      <th>식전혈당(공복혈당)</th>\n",
       "      <th>총 콜레스테롤</th>\n",
       "      <th>트리글리세라이드</th>\n",
       "      <th>HDL 콜레스테롤</th>\n",
       "      <th>LDL 콜레스테롤</th>\n",
       "      <th>혈색소</th>\n",
       "      <th>요단백</th>\n",
       "      <th>혈청크레아티닌</th>\n",
       "      <th>(혈청지오티)AST</th>\n",
       "      <th>(혈청지오티)ALT</th>\n",
       "      <th>감마 지티피</th>\n",
       "      <th>흡연상태</th>\n",
       "      <th>음주여부</th>\n",
       "      <th>구강검진 수검여부</th>\n",
       "      <th>치아우식증유무</th>\n",
       "      <th>치석</th>\n",
       "      <th>데이터 공개일자</th>\n",
       "    </tr>\n",
       "  </thead>\n",
       "  <tbody>\n",
       "    <tr>\n",
       "      <th>0</th>\n",
       "      <td>2020</td>\n",
       "      <td>1</td>\n",
       "      <td>36</td>\n",
       "      <td>1</td>\n",
       "      <td>9</td>\n",
       "      <td>165</td>\n",
       "      <td>60</td>\n",
       "      <td>72.1</td>\n",
       "      <td>1.2</td>\n",
       "      <td>1.5</td>\n",
       "      <td>1.0</td>\n",
       "      <td>1.0</td>\n",
       "      <td>127.0</td>\n",
       "      <td>79.0</td>\n",
       "      <td>90.0</td>\n",
       "      <td>188.0</td>\n",
       "      <td>58.0</td>\n",
       "      <td>58.0</td>\n",
       "      <td>118.0</td>\n",
       "      <td>15.0</td>\n",
       "      <td>1.0</td>\n",
       "      <td>1.1</td>\n",
       "      <td>21.0</td>\n",
       "      <td>27.0</td>\n",
       "      <td>21.0</td>\n",
       "      <td>1.0</td>\n",
       "      <td>0.0</td>\n",
       "      <td>0</td>\n",
       "      <td>NaN</td>\n",
       "      <td>NaN</td>\n",
       "      <td>2021-12-29</td>\n",
       "    </tr>\n",
       "  </tbody>\n",
       "</table>\n",
       "</div>"
      ],
      "text/plain": [
       "   기준년도  가입자 일련번호  시도코드  성별코드  연령대 코드(5세단위)  신장(5Cm단위)  체중(5Kg 단위)  허리둘레  \\\n",
       "0  2020         1    36     1             9        165          60  72.1   \n",
       "\n",
       "   시력(좌)  시력(우)  청력(좌)  청력(우)  수축기 혈압  이완기 혈압  식전혈당(공복혈당)  총 콜레스테롤  트리글리세라이드  \\\n",
       "0    1.2    1.5    1.0    1.0   127.0    79.0        90.0    188.0      58.0   \n",
       "\n",
       "   HDL 콜레스테롤  LDL 콜레스테롤   혈색소  요단백  혈청크레아티닌  (혈청지오티)AST  (혈청지오티)ALT  감마 지티피  \\\n",
       "0       58.0      118.0  15.0  1.0      1.1        21.0        27.0    21.0   \n",
       "\n",
       "   흡연상태  음주여부  구강검진 수검여부  치아우식증유무  치석    데이터 공개일자  \n",
       "0   1.0   0.0          0      NaN NaN  2021-12-29  "
      ]
     },
     "metadata": {},
     "output_type": "display_data"
    },
    {
     "data": {
      "text/html": [
       "<div>\n",
       "<style scoped>\n",
       "    .dataframe tbody tr th:only-of-type {\n",
       "        vertical-align: middle;\n",
       "    }\n",
       "\n",
       "    .dataframe tbody tr th {\n",
       "        vertical-align: top;\n",
       "    }\n",
       "\n",
       "    .dataframe thead th {\n",
       "        text-align: right;\n",
       "    }\n",
       "</style>\n",
       "<table border=\"1\" class=\"dataframe\">\n",
       "  <thead>\n",
       "    <tr style=\"text-align: right;\">\n",
       "      <th></th>\n",
       "      <th>신장(5Cm단위)</th>\n",
       "      <th>성별코드</th>\n",
       "      <th>체중(5Kg 단위)</th>\n",
       "      <th>음주여부</th>\n",
       "    </tr>\n",
       "  </thead>\n",
       "  <tbody>\n",
       "    <tr>\n",
       "      <th>0</th>\n",
       "      <td>165</td>\n",
       "      <td>1</td>\n",
       "      <td>60</td>\n",
       "      <td>0.0</td>\n",
       "    </tr>\n",
       "  </tbody>\n",
       "</table>\n",
       "</div>"
      ],
      "text/plain": [
       "   신장(5Cm단위)  성별코드  체중(5Kg 단위)  음주여부\n",
       "0        165     1          60   0.0"
      ]
     },
     "metadata": {},
     "output_type": "display_data"
    }
   ],
   "source": [
    "## 실습 데이터 \n",
    "df = pd.read_csv('data/국민건강보험공단_건강검진정보_20211229.CSV', encoding='cp949')\n",
    "display(df.head(1))\n",
    "\n",
    "## 일부 변수만 사용 \n",
    "sample_df = df[['신장(5Cm단위)', '성별코드', '체중(5Kg 단위)', '음주여부']]\n",
    "display(sample_df.head(1))"
   ]
  },
  {
   "cell_type": "code",
   "execution_count": 13,
   "metadata": {},
   "outputs": [
    {
     "name": "stdout",
     "output_type": "stream",
     "text": [
      "<class 'pandas.core.frame.DataFrame'>\n",
      "RangeIndex: 1000000 entries, 0 to 999999\n",
      "Data columns (total 4 columns):\n",
      " #   Column      Non-Null Count    Dtype  \n",
      "---  ------      --------------    -----  \n",
      " 0   신장(5Cm단위)   1000000 non-null  int64  \n",
      " 1   성별코드        1000000 non-null  int64  \n",
      " 2   체중(5Kg 단위)  1000000 non-null  int64  \n",
      " 3   음주여부        999804 non-null   float64\n",
      "dtypes: float64(1), int64(3)\n",
      "memory usage: 30.5 MB\n"
     ]
    },
    {
     "data": {
      "text/plain": [
       "None"
      ]
     },
     "metadata": {},
     "output_type": "display_data"
    },
    {
     "name": "stdout",
     "output_type": "stream",
     "text": [
      "<class 'pandas.core.frame.DataFrame'>\n",
      "Index: 999804 entries, 0 to 999999\n",
      "Data columns (total 4 columns):\n",
      " #   Column      Non-Null Count   Dtype  \n",
      "---  ------      --------------   -----  \n",
      " 0   신장(5Cm단위)   999804 non-null  int64  \n",
      " 1   성별코드        999804 non-null  int64  \n",
      " 2   체중(5Kg 단위)  999804 non-null  int64  \n",
      " 3   음주여부        999804 non-null  float64\n",
      "dtypes: float64(1), int64(3)\n",
      "memory usage: 38.1 MB\n"
     ]
    },
    {
     "data": {
      "text/plain": [
       "None"
      ]
     },
     "metadata": {},
     "output_type": "display_data"
    }
   ],
   "source": [
    "#결측치 처리 \n",
    "display(sample_df.info())\n",
    "\n",
    "sample = sample_df.dropna()\n",
    "display(sample.info())"
   ]
  },
  {
   "cell_type": "code",
   "execution_count": 14,
   "metadata": {},
   "outputs": [
    {
     "name": "stdout",
     "output_type": "stream",
     "text": [
      "(799843, 3) (199961, 3) (799843,) (199961,)\n"
     ]
    }
   ],
   "source": [
    "# one-hot encoding을 위해 변수값들을 문자열로 변경 \n",
    "sample = sample.astype('str')\n",
    "\n",
    "y = sample.음주여부\n",
    "X = sample.drop('음주여부', axis=1)\n",
    "\n",
    "# train/valid split\n",
    "from sklearn.model_selection import train_test_split\n",
    "x_train, x_valid, y_train, y_valid = train_test_split(X, y, \n",
    "                                                      test_size = 0.2, shuffle = True, random_state=42\n",
    "                                                      )\n",
    "\n",
    "print(x_train.shape, x_valid.shape, y_train.shape, y_valid.shape)"
   ]
  },
  {
   "cell_type": "code",
   "execution_count": 15,
   "metadata": {},
   "outputs": [
    {
     "name": "stdout",
     "output_type": "stream",
     "text": [
      "Train Accuracy=  0.6757701198860276\n",
      "Valid Accuracy=  0.6751466535974515\n"
     ]
    }
   ],
   "source": [
    "# model\n",
    "from sklearn.tree import DecisionTreeClassifier\n",
    "dt = DecisionTreeClassifier(max_depth = 3, random_state=42) \n",
    "dt_model = dt.fit(x_train, y_train)\n",
    "\n",
    "print('Train Accuracy= ', dt_model.score(x_train, y_train))\n",
    "print('Valid Accuracy= ', dt_model.score(x_valid, y_valid))"
   ]
  },
  {
   "cell_type": "code",
   "execution_count": 16,
   "metadata": {},
   "outputs": [
    {
     "data": {
      "image/svg+xml": [
       "<?xml version=\"1.0\" encoding=\"UTF-8\" standalone=\"no\"?>\n",
       "<!DOCTYPE svg PUBLIC \"-//W3C//DTD SVG 1.1//EN\"\n",
       " \"http://www.w3.org/Graphics/SVG/1.1/DTD/svg11.dtd\">\n",
       "<!-- Generated by graphviz version 8.0.5 (20230430.1635)\n",
       " -->\n",
       "<!-- Title: Tree Pages: 1 -->\n",
       "<svg width=\"1438pt\" height=\"462pt\"\n",
       " viewBox=\"0.00 0.00 1438.25 461.50\" xmlns=\"http://www.w3.org/2000/svg\" xmlns:xlink=\"http://www.w3.org/1999/xlink\">\n",
       "<g id=\"graph0\" class=\"graph\" transform=\"scale(1 1) rotate(0) translate(4 457.5)\">\n",
       "<title>Tree</title>\n",
       "<polygon fill=\"white\" stroke=\"none\" points=\"-4,4 -4,-457.5 1434.25,-457.5 1434.25,4 -4,4\"/>\n",
       "<!-- 0 -->\n",
       "<g id=\"node1\" class=\"node\">\n",
       "<title>0</title>\n",
       "<polygon fill=\"#c6e3f7\" stroke=\"black\" points=\"780.5,-453.5 577.75,-453.5 577.75,-363 780.5,-363 780.5,-453.5\"/>\n",
       "<text text-anchor=\"middle\" x=\"679.12\" y=\"-436.2\" font-family=\"Helvetica,sans-Serif\" font-size=\"14.00\">sex &lt;= 1.5</text>\n",
       "<text text-anchor=\"middle\" x=\"679.12\" y=\"-419.7\" font-family=\"Helvetica,sans-Serif\" font-size=\"14.00\">gini = 0.486</text>\n",
       "<text text-anchor=\"middle\" x=\"679.12\" y=\"-403.2\" font-family=\"Helvetica,sans-Serif\" font-size=\"14.00\">samples = 799843</text>\n",
       "<text text-anchor=\"middle\" x=\"679.12\" y=\"-386.7\" font-family=\"Helvetica,sans-Serif\" font-size=\"14.00\">value = [332181.0, 467662.0]</text>\n",
       "<text text-anchor=\"middle\" x=\"679.12\" y=\"-370.2\" font-family=\"Helvetica,sans-Serif\" font-size=\"14.00\">class = 0</text>\n",
       "</g>\n",
       "<!-- 1 -->\n",
       "<g id=\"node2\" class=\"node\">\n",
       "<title>1</title>\n",
       "<polygon fill=\"#7ebfee\" stroke=\"black\" points=\"668.5,-327 489.75,-327 489.75,-236.5 668.5,-236.5 668.5,-327\"/>\n",
       "<text text-anchor=\"middle\" x=\"579.12\" y=\"-309.7\" font-family=\"Helvetica,sans-Serif\" font-size=\"14.00\">height &lt;= 162.5</text>\n",
       "<text text-anchor=\"middle\" x=\"579.12\" y=\"-293.2\" font-family=\"Helvetica,sans-Serif\" font-size=\"14.00\">gini = 0.383</text>\n",
       "<text text-anchor=\"middle\" x=\"579.12\" y=\"-276.7\" font-family=\"Helvetica,sans-Serif\" font-size=\"14.00\">samples = 408347</text>\n",
       "<text text-anchor=\"middle\" x=\"579.12\" y=\"-260.2\" font-family=\"Helvetica,sans-Serif\" font-size=\"14.00\">value = [105407, 302940]</text>\n",
       "<text text-anchor=\"middle\" x=\"579.12\" y=\"-243.7\" font-family=\"Helvetica,sans-Serif\" font-size=\"14.00\">class = 0</text>\n",
       "</g>\n",
       "<!-- 0&#45;&gt;1 -->\n",
       "<g id=\"edge1\" class=\"edge\">\n",
       "<title>0&#45;&gt;1</title>\n",
       "<path fill=\"none\" stroke=\"black\" d=\"M643.31,-362.65C636.34,-353.98 628.97,-344.81 621.81,-335.9\"/>\n",
       "<polygon fill=\"black\" stroke=\"black\" points=\"624.02,-334.06 615.03,-328.45 618.56,-338.44 624.02,-334.06\"/>\n",
       "<text text-anchor=\"middle\" x=\"612.32\" y=\"-347.26\" font-family=\"Helvetica,sans-Serif\" font-size=\"14.00\">True</text>\n",
       "</g>\n",
       "<!-- 8 -->\n",
       "<g id=\"node9\" class=\"node\">\n",
       "<title>8</title>\n",
       "<polygon fill=\"#f8ddc9\" stroke=\"black\" points=\"944.5,-327 765.75,-327 765.75,-236.5 944.5,-236.5 944.5,-327\"/>\n",
       "<text text-anchor=\"middle\" x=\"855.12\" y=\"-309.7\" font-family=\"Helvetica,sans-Serif\" font-size=\"14.00\">height &lt;= 152.5</text>\n",
       "<text text-anchor=\"middle\" x=\"855.12\" y=\"-293.2\" font-family=\"Helvetica,sans-Serif\" font-size=\"14.00\">gini = 0.487</text>\n",
       "<text text-anchor=\"middle\" x=\"855.12\" y=\"-276.7\" font-family=\"Helvetica,sans-Serif\" font-size=\"14.00\">samples = 391496</text>\n",
       "<text text-anchor=\"middle\" x=\"855.12\" y=\"-260.2\" font-family=\"Helvetica,sans-Serif\" font-size=\"14.00\">value = [226774, 164722]</text>\n",
       "<text text-anchor=\"middle\" x=\"855.12\" y=\"-243.7\" font-family=\"Helvetica,sans-Serif\" font-size=\"14.00\">class = X</text>\n",
       "</g>\n",
       "<!-- 0&#45;&gt;8 -->\n",
       "<g id=\"edge8\" class=\"edge\">\n",
       "<title>0&#45;&gt;8</title>\n",
       "<path fill=\"none\" stroke=\"black\" d=\"M742.17,-362.65C755.44,-353.27 769.53,-343.3 783.1,-333.7\"/>\n",
       "<polygon fill=\"black\" stroke=\"black\" points=\"784.79,-336.09 790.93,-327.45 780.75,-330.37 784.79,-336.09\"/>\n",
       "<text text-anchor=\"middle\" x=\"787.71\" y=\"-347.04\" font-family=\"Helvetica,sans-Serif\" font-size=\"14.00\">False</text>\n",
       "</g>\n",
       "<!-- 2 -->\n",
       "<g id=\"node3\" class=\"node\">\n",
       "<title>2</title>\n",
       "<polygon fill=\"#aad5f4\" stroke=\"black\" points=\"342.25,-200.5 180,-200.5 180,-110 342.25,-110 342.25,-200.5\"/>\n",
       "<text text-anchor=\"middle\" x=\"261.12\" y=\"-183.2\" font-family=\"Helvetica,sans-Serif\" font-size=\"14.00\">height &lt;= 157.5</text>\n",
       "<text text-anchor=\"middle\" x=\"261.12\" y=\"-166.7\" font-family=\"Helvetica,sans-Serif\" font-size=\"14.00\">gini = 0.463</text>\n",
       "<text text-anchor=\"middle\" x=\"261.12\" y=\"-150.2\" font-family=\"Helvetica,sans-Serif\" font-size=\"14.00\">samples = 87942</text>\n",
       "<text text-anchor=\"middle\" x=\"261.12\" y=\"-133.7\" font-family=\"Helvetica,sans-Serif\" font-size=\"14.00\">value = [32014, 55928]</text>\n",
       "<text text-anchor=\"middle\" x=\"261.12\" y=\"-117.2\" font-family=\"Helvetica,sans-Serif\" font-size=\"14.00\">class = 0</text>\n",
       "</g>\n",
       "<!-- 1&#45;&gt;2 -->\n",
       "<g id=\"edge2\" class=\"edge\">\n",
       "<title>1&#45;&gt;2</title>\n",
       "<path fill=\"none\" stroke=\"black\" d=\"M489.27,-245.57C446.6,-228.86 395.66,-208.92 352.76,-192.13\"/>\n",
       "<polygon fill=\"black\" stroke=\"black\" points=\"354.19,-188.54 343.6,-188.15 351.64,-195.05 354.19,-188.54\"/>\n",
       "</g>\n",
       "<!-- 5 -->\n",
       "<g id=\"node6\" class=\"node\">\n",
       "<title>5</title>\n",
       "<polygon fill=\"#74baed\" stroke=\"black\" points=\"676.38,-200.5 481.88,-200.5 481.88,-110 676.38,-110 676.38,-200.5\"/>\n",
       "<text text-anchor=\"middle\" x=\"579.12\" y=\"-183.2\" font-family=\"Helvetica,sans-Serif\" font-size=\"14.00\">height &lt;= 167.5</text>\n",
       "<text text-anchor=\"middle\" x=\"579.12\" y=\"-166.7\" font-family=\"Helvetica,sans-Serif\" font-size=\"14.00\">gini = 0.353</text>\n",
       "<text text-anchor=\"middle\" x=\"579.12\" y=\"-150.2\" font-family=\"Helvetica,sans-Serif\" font-size=\"14.00\">samples = 320405</text>\n",
       "<text text-anchor=\"middle\" x=\"579.12\" y=\"-133.7\" font-family=\"Helvetica,sans-Serif\" font-size=\"14.00\">value = [73393.0, 247012.0]</text>\n",
       "<text text-anchor=\"middle\" x=\"579.12\" y=\"-117.2\" font-family=\"Helvetica,sans-Serif\" font-size=\"14.00\">class = 0</text>\n",
       "</g>\n",
       "<!-- 1&#45;&gt;5 -->\n",
       "<g id=\"edge5\" class=\"edge\">\n",
       "<title>1&#45;&gt;5</title>\n",
       "<path fill=\"none\" stroke=\"black\" d=\"M579.12,-236.15C579.12,-228.29 579.12,-220.01 579.12,-211.89\"/>\n",
       "<polygon fill=\"black\" stroke=\"black\" points=\"582.63,-211.95 579.12,-201.95 575.63,-211.95 582.63,-211.95\"/>\n",
       "</g>\n",
       "<!-- 3 -->\n",
       "<g id=\"node4\" class=\"node\">\n",
       "<title>3</title>\n",
       "<polygon fill=\"#cfe7f9\" stroke=\"black\" points=\"162.25,-74 0,-74 0,0 162.25,0 162.25,-74\"/>\n",
       "<text text-anchor=\"middle\" x=\"81.12\" y=\"-56.7\" font-family=\"Helvetica,sans-Serif\" font-size=\"14.00\">gini = 0.49</text>\n",
       "<text text-anchor=\"middle\" x=\"81.12\" y=\"-40.2\" font-family=\"Helvetica,sans-Serif\" font-size=\"14.00\">samples = 23418</text>\n",
       "<text text-anchor=\"middle\" x=\"81.12\" y=\"-23.7\" font-family=\"Helvetica,sans-Serif\" font-size=\"14.00\">value = [10079, 13339]</text>\n",
       "<text text-anchor=\"middle\" x=\"81.12\" y=\"-7.2\" font-family=\"Helvetica,sans-Serif\" font-size=\"14.00\">class = 0</text>\n",
       "</g>\n",
       "<!-- 2&#45;&gt;3 -->\n",
       "<g id=\"edge3\" class=\"edge\">\n",
       "<title>2&#45;&gt;3</title>\n",
       "<path fill=\"none\" stroke=\"black\" d=\"M192.05,-109.64C177.1,-99.99 161.35,-89.81 146.55,-80.25\"/>\n",
       "<polygon fill=\"black\" stroke=\"black\" points=\"148.78,-76.88 138.48,-74.39 144.98,-82.76 148.78,-76.88\"/>\n",
       "</g>\n",
       "<!-- 4 -->\n",
       "<g id=\"node5\" class=\"node\">\n",
       "<title>4</title>\n",
       "<polygon fill=\"#9fcff2\" stroke=\"black\" points=\"342.25,-74 180,-74 180,0 342.25,0 342.25,-74\"/>\n",
       "<text text-anchor=\"middle\" x=\"261.12\" y=\"-56.7\" font-family=\"Helvetica,sans-Serif\" font-size=\"14.00\">gini = 0.449</text>\n",
       "<text text-anchor=\"middle\" x=\"261.12\" y=\"-40.2\" font-family=\"Helvetica,sans-Serif\" font-size=\"14.00\">samples = 64524</text>\n",
       "<text text-anchor=\"middle\" x=\"261.12\" y=\"-23.7\" font-family=\"Helvetica,sans-Serif\" font-size=\"14.00\">value = [21935, 42589]</text>\n",
       "<text text-anchor=\"middle\" x=\"261.12\" y=\"-7.2\" font-family=\"Helvetica,sans-Serif\" font-size=\"14.00\">class = 0</text>\n",
       "</g>\n",
       "<!-- 2&#45;&gt;4 -->\n",
       "<g id=\"edge4\" class=\"edge\">\n",
       "<title>2&#45;&gt;4</title>\n",
       "<path fill=\"none\" stroke=\"black\" d=\"M261.12,-109.64C261.12,-101.63 261.12,-93.25 261.12,-85.17\"/>\n",
       "<polygon fill=\"black\" stroke=\"black\" points=\"264.63,-85.39 261.12,-75.39 257.63,-85.39 264.63,-85.39\"/>\n",
       "</g>\n",
       "<!-- 6 -->\n",
       "<g id=\"node7\" class=\"node\">\n",
       "<title>6</title>\n",
       "<polygon fill=\"#84c2ef\" stroke=\"black\" points=\"522.25,-74 360,-74 360,0 522.25,0 522.25,-74\"/>\n",
       "<text text-anchor=\"middle\" x=\"441.12\" y=\"-56.7\" font-family=\"Helvetica,sans-Serif\" font-size=\"14.00\">gini = 0.398</text>\n",
       "<text text-anchor=\"middle\" x=\"441.12\" y=\"-40.2\" font-family=\"Helvetica,sans-Serif\" font-size=\"14.00\">samples = 116513</text>\n",
       "<text text-anchor=\"middle\" x=\"441.12\" y=\"-23.7\" font-family=\"Helvetica,sans-Serif\" font-size=\"14.00\">value = [31892, 84621]</text>\n",
       "<text text-anchor=\"middle\" x=\"441.12\" y=\"-7.2\" font-family=\"Helvetica,sans-Serif\" font-size=\"14.00\">class = 0</text>\n",
       "</g>\n",
       "<!-- 5&#45;&gt;6 -->\n",
       "<g id=\"edge6\" class=\"edge\">\n",
       "<title>5&#45;&gt;6</title>\n",
       "<path fill=\"none\" stroke=\"black\" d=\"M526.17,-109.64C515.14,-100.35 503.54,-90.58 492.57,-81.34\"/>\n",
       "<polygon fill=\"black\" stroke=\"black\" points=\"495.23,-78.16 485.33,-74.39 490.72,-83.51 495.23,-78.16\"/>\n",
       "</g>\n",
       "<!-- 7 -->\n",
       "<g id=\"node8\" class=\"node\">\n",
       "<title>7</title>\n",
       "<polygon fill=\"#6cb6ec\" stroke=\"black\" points=\"710.38,-74 539.88,-74 539.88,0 710.38,0 710.38,-74\"/>\n",
       "<text text-anchor=\"middle\" x=\"625.12\" y=\"-56.7\" font-family=\"Helvetica,sans-Serif\" font-size=\"14.00\">gini = 0.324</text>\n",
       "<text text-anchor=\"middle\" x=\"625.12\" y=\"-40.2\" font-family=\"Helvetica,sans-Serif\" font-size=\"14.00\">samples = 203892</text>\n",
       "<text text-anchor=\"middle\" x=\"625.12\" y=\"-23.7\" font-family=\"Helvetica,sans-Serif\" font-size=\"14.00\">value = [41501, 162391]</text>\n",
       "<text text-anchor=\"middle\" x=\"625.12\" y=\"-7.2\" font-family=\"Helvetica,sans-Serif\" font-size=\"14.00\">class = 0</text>\n",
       "</g>\n",
       "<!-- 5&#45;&gt;7 -->\n",
       "<g id=\"edge7\" class=\"edge\">\n",
       "<title>5&#45;&gt;7</title>\n",
       "<path fill=\"none\" stroke=\"black\" d=\"M596.78,-109.64C600.02,-101.44 603.41,-92.87 606.68,-84.62\"/>\n",
       "<polygon fill=\"black\" stroke=\"black\" points=\"610.3,-85.98 610.72,-75.39 603.79,-83.4 610.3,-85.98\"/>\n",
       "</g>\n",
       "<!-- 9 -->\n",
       "<g id=\"node10\" class=\"node\">\n",
       "<title>9</title>\n",
       "<polygon fill=\"#f1b991\" stroke=\"black\" points=\"940.38,-200.5 769.88,-200.5 769.88,-110 940.38,-110 940.38,-200.5\"/>\n",
       "<text text-anchor=\"middle\" x=\"855.12\" y=\"-183.2\" font-family=\"Helvetica,sans-Serif\" font-size=\"14.00\">height &lt;= 147.5</text>\n",
       "<text text-anchor=\"middle\" x=\"855.12\" y=\"-166.7\" font-family=\"Helvetica,sans-Serif\" font-size=\"14.00\">gini = 0.426</text>\n",
       "<text text-anchor=\"middle\" x=\"855.12\" y=\"-150.2\" font-family=\"Helvetica,sans-Serif\" font-size=\"14.00\">samples = 150349</text>\n",
       "<text text-anchor=\"middle\" x=\"855.12\" y=\"-133.7\" font-family=\"Helvetica,sans-Serif\" font-size=\"14.00\">value = [104188, 46161]</text>\n",
       "<text text-anchor=\"middle\" x=\"855.12\" y=\"-117.2\" font-family=\"Helvetica,sans-Serif\" font-size=\"14.00\">class = X</text>\n",
       "</g>\n",
       "<!-- 8&#45;&gt;9 -->\n",
       "<g id=\"edge9\" class=\"edge\">\n",
       "<title>8&#45;&gt;9</title>\n",
       "<path fill=\"none\" stroke=\"black\" d=\"M855.12,-236.15C855.12,-228.29 855.12,-220.01 855.12,-211.89\"/>\n",
       "<polygon fill=\"black\" stroke=\"black\" points=\"858.63,-211.95 855.12,-201.95 851.63,-211.95 858.63,-211.95\"/>\n",
       "</g>\n",
       "<!-- 12 -->\n",
       "<g id=\"node13\" class=\"node\">\n",
       "<title>12</title>\n",
       "<polygon fill=\"#fefbf8\" stroke=\"black\" points=\"1258.5,-200.5 1079.75,-200.5 1079.75,-110 1258.5,-110 1258.5,-200.5\"/>\n",
       "<text text-anchor=\"middle\" x=\"1169.12\" y=\"-183.2\" font-family=\"Helvetica,sans-Serif\" font-size=\"14.00\">height &lt;= 157.5</text>\n",
       "<text text-anchor=\"middle\" x=\"1169.12\" y=\"-166.7\" font-family=\"Helvetica,sans-Serif\" font-size=\"14.00\">gini = 0.5</text>\n",
       "<text text-anchor=\"middle\" x=\"1169.12\" y=\"-150.2\" font-family=\"Helvetica,sans-Serif\" font-size=\"14.00\">samples = 241147</text>\n",
       "<text text-anchor=\"middle\" x=\"1169.12\" y=\"-133.7\" font-family=\"Helvetica,sans-Serif\" font-size=\"14.00\">value = [122586, 118561]</text>\n",
       "<text text-anchor=\"middle\" x=\"1169.12\" y=\"-117.2\" font-family=\"Helvetica,sans-Serif\" font-size=\"14.00\">class = X</text>\n",
       "</g>\n",
       "<!-- 8&#45;&gt;12 -->\n",
       "<g id=\"edge12\" class=\"edge\">\n",
       "<title>8&#45;&gt;12</title>\n",
       "<path fill=\"none\" stroke=\"black\" d=\"M944.68,-245.24C983.62,-229.8 1029.39,-211.65 1069.4,-195.79\"/>\n",
       "<polygon fill=\"black\" stroke=\"black\" points=\"1070.44,-198.75 1078.45,-191.81 1067.86,-192.24 1070.44,-198.75\"/>\n",
       "</g>\n",
       "<!-- 10 -->\n",
       "<g id=\"node11\" class=\"node\">\n",
       "<title>10</title>\n",
       "<polygon fill=\"#eda673\" stroke=\"black\" points=\"890.25,-74 728,-74 728,0 890.25,0 890.25,-74\"/>\n",
       "<text text-anchor=\"middle\" x=\"809.12\" y=\"-56.7\" font-family=\"Helvetica,sans-Serif\" font-size=\"14.00\">gini = 0.351</text>\n",
       "<text text-anchor=\"middle\" x=\"809.12\" y=\"-40.2\" font-family=\"Helvetica,sans-Serif\" font-size=\"14.00\">samples = 51224</text>\n",
       "<text text-anchor=\"middle\" x=\"809.12\" y=\"-23.7\" font-family=\"Helvetica,sans-Serif\" font-size=\"14.00\">value = [39591, 11633]</text>\n",
       "<text text-anchor=\"middle\" x=\"809.12\" y=\"-7.2\" font-family=\"Helvetica,sans-Serif\" font-size=\"14.00\">class = X</text>\n",
       "</g>\n",
       "<!-- 9&#45;&gt;10 -->\n",
       "<g id=\"edge10\" class=\"edge\">\n",
       "<title>9&#45;&gt;10</title>\n",
       "<path fill=\"none\" stroke=\"black\" d=\"M837.47,-109.64C834.23,-101.44 830.84,-92.87 827.57,-84.62\"/>\n",
       "<polygon fill=\"black\" stroke=\"black\" points=\"830.46,-83.4 823.53,-75.39 823.95,-85.98 830.46,-83.4\"/>\n",
       "</g>\n",
       "<!-- 11 -->\n",
       "<g id=\"node12\" class=\"node\">\n",
       "<title>11</title>\n",
       "<polygon fill=\"#f3c4a3\" stroke=\"black\" points=\"1070.25,-74 908,-74 908,0 1070.25,0 1070.25,-74\"/>\n",
       "<text text-anchor=\"middle\" x=\"989.12\" y=\"-56.7\" font-family=\"Helvetica,sans-Serif\" font-size=\"14.00\">gini = 0.454</text>\n",
       "<text text-anchor=\"middle\" x=\"989.12\" y=\"-40.2\" font-family=\"Helvetica,sans-Serif\" font-size=\"14.00\">samples = 99125</text>\n",
       "<text text-anchor=\"middle\" x=\"989.12\" y=\"-23.7\" font-family=\"Helvetica,sans-Serif\" font-size=\"14.00\">value = [64597, 34528]</text>\n",
       "<text text-anchor=\"middle\" x=\"989.12\" y=\"-7.2\" font-family=\"Helvetica,sans-Serif\" font-size=\"14.00\">class = X</text>\n",
       "</g>\n",
       "<!-- 9&#45;&gt;11 -->\n",
       "<g id=\"edge11\" class=\"edge\">\n",
       "<title>9&#45;&gt;11</title>\n",
       "<path fill=\"none\" stroke=\"black\" d=\"M906.55,-109.64C917.25,-100.35 928.52,-90.58 939.17,-81.34\"/>\n",
       "<polygon fill=\"black\" stroke=\"black\" points=\"940.91,-83.59 946.17,-74.39 936.33,-78.3 940.91,-83.59\"/>\n",
       "</g>\n",
       "<!-- 13 -->\n",
       "<g id=\"node14\" class=\"node\">\n",
       "<title>13</title>\n",
       "<polygon fill=\"#fae4d5\" stroke=\"black\" points=\"1250.25,-74 1088,-74 1088,0 1250.25,0 1250.25,-74\"/>\n",
       "<text text-anchor=\"middle\" x=\"1169.12\" y=\"-56.7\" font-family=\"Helvetica,sans-Serif\" font-size=\"14.00\">gini = 0.493</text>\n",
       "<text text-anchor=\"middle\" x=\"1169.12\" y=\"-40.2\" font-family=\"Helvetica,sans-Serif\" font-size=\"14.00\">samples = 125743</text>\n",
       "<text text-anchor=\"middle\" x=\"1169.12\" y=\"-23.7\" font-family=\"Helvetica,sans-Serif\" font-size=\"14.00\">value = [70282, 55461]</text>\n",
       "<text text-anchor=\"middle\" x=\"1169.12\" y=\"-7.2\" font-family=\"Helvetica,sans-Serif\" font-size=\"14.00\">class = X</text>\n",
       "</g>\n",
       "<!-- 12&#45;&gt;13 -->\n",
       "<g id=\"edge13\" class=\"edge\">\n",
       "<title>12&#45;&gt;13</title>\n",
       "<path fill=\"none\" stroke=\"black\" d=\"M1169.12,-109.64C1169.12,-101.63 1169.12,-93.25 1169.12,-85.17\"/>\n",
       "<polygon fill=\"black\" stroke=\"black\" points=\"1172.63,-85.39 1169.12,-75.39 1165.63,-85.39 1172.63,-85.39\"/>\n",
       "</g>\n",
       "<!-- 14 -->\n",
       "<g id=\"node15\" class=\"node\">\n",
       "<title>14</title>\n",
       "<polygon fill=\"#ddeefb\" stroke=\"black\" points=\"1430.25,-74 1268,-74 1268,0 1430.25,0 1430.25,-74\"/>\n",
       "<text text-anchor=\"middle\" x=\"1349.12\" y=\"-56.7\" font-family=\"Helvetica,sans-Serif\" font-size=\"14.00\">gini = 0.496</text>\n",
       "<text text-anchor=\"middle\" x=\"1349.12\" y=\"-40.2\" font-family=\"Helvetica,sans-Serif\" font-size=\"14.00\">samples = 115404</text>\n",
       "<text text-anchor=\"middle\" x=\"1349.12\" y=\"-23.7\" font-family=\"Helvetica,sans-Serif\" font-size=\"14.00\">value = [52304, 63100]</text>\n",
       "<text text-anchor=\"middle\" x=\"1349.12\" y=\"-7.2\" font-family=\"Helvetica,sans-Serif\" font-size=\"14.00\">class = 0</text>\n",
       "</g>\n",
       "<!-- 12&#45;&gt;14 -->\n",
       "<g id=\"edge14\" class=\"edge\">\n",
       "<title>12&#45;&gt;14</title>\n",
       "<path fill=\"none\" stroke=\"black\" d=\"M1238.2,-109.64C1253.15,-99.99 1268.9,-89.81 1283.7,-80.25\"/>\n",
       "<polygon fill=\"black\" stroke=\"black\" points=\"1285.27,-82.76 1291.77,-74.39 1281.47,-76.88 1285.27,-82.76\"/>\n",
       "</g>\n",
       "</g>\n",
       "</svg>\n"
      ],
      "text/plain": [
       "<graphviz.sources.Source at 0x1d2820d34d0>"
      ]
     },
     "execution_count": 16,
     "metadata": {},
     "output_type": "execute_result"
    }
   ],
   "source": [
    "# chart \n",
    "#!pip install graphviz\n",
    "import graphviz \n",
    "from sklearn.tree import export_graphviz\n",
    "\n",
    "tree_graph = graphviz.Source(export_graphviz(dt_model, \n",
    "                                             class_names = ['X', '0'], \n",
    "                                             feature_names = ['height', 'sex', 'weight'], \n",
    "                                             impurity = True, \n",
    "                                             filled = True)\n",
    "                                             )\n",
    "\n",
    "tree_graph"
   ]
  },
  {
   "cell_type": "markdown",
   "metadata": {},
   "source": [
    "---\n",
    "#### Ensemble \n",
    "- ensemble 기법에는 voting, bagging, boosting이 있다. \n",
    "1) voting : 여러 모델의 결과기반 투표. Hard voting(다수결)과 Soft voting(각 모델의 확률값 평균) 방식이 있다. \n",
    "2) bagging : 부트스트랩(원본에서 샘플을 여러번 복원추출) 기반 샘플링 기법으로 생성된 여러 모델의 결과 결합 -> Random Forrest가 대표적 \n",
    "3) boosting : 여러 모델을 직렬 결합하고, 앞선 모델이 예측한 것중 틀린것에 가중치를 부여, 틀린 데이터를 더 잘맞추도록 훈련 -> Gradient Boosting, XGBoost, LightGBM 등이 대표적 \n",
    "---"
   ]
  },
  {
   "cell_type": "markdown",
   "metadata": {},
   "source": [
    "---\n",
    "#### Random Forrest \n",
    "- 다수의 decision tree를 앙상블 하여 overfitting을 방지 \n",
    "---"
   ]
  },
  {
   "cell_type": "code",
   "execution_count": 18,
   "metadata": {},
   "outputs": [
    {
     "name": "stdout",
     "output_type": "stream",
     "text": [
      "원본데이터 형태 = torch.Size([60000, 28, 28]) torch.Size([60000]) torch.Size([10000, 28, 28]) torch.Size([10000])\n"
     ]
    }
   ],
   "source": [
    "# 실습 데이터 (mnist)\n",
    "import torch\n",
    "from torchvision import datasets\n",
    "from torchvision.transforms import ToTensor\n",
    "\n",
    "# MNIST 데이터셋 로드\n",
    "train_data = datasets.MNIST(\n",
    "    root=\"data\",\n",
    "    train=True,\n",
    "    download=True,\n",
    "    transform=ToTensor()  # 데이터를 텐서로 변환\n",
    ")\n",
    "\n",
    "test_data = datasets.MNIST(\n",
    "    root=\"data\",\n",
    "    train=False,\n",
    "    download=True,\n",
    "    transform=ToTensor()\n",
    ")\n",
    "\n",
    "# 학습 및 테스트 데이터를 분리\n",
    "x_train = train_data.data\n",
    "y_train = train_data.targets\n",
    "x_test = test_data.data\n",
    "y_test = test_data.targets\n",
    "\n",
    "print('원본데이터 형태 =', x_train.shape, y_train.shape, x_test.shape, y_test.shape)"
   ]
  },
  {
   "cell_type": "code",
   "execution_count": null,
   "metadata": {},
   "outputs": [
    {
     "name": "stdout",
     "output_type": "stream",
     "text": [
      "변경된 데이터 형태 = torch.Size([60000, 784]) torch.Size([10000, 784])\n"
     ]
    }
   ],
   "source": [
    "# 이미지 데이터는 3차원 행렬 -> 2차원으로 변경 필요\n",
    "X_train = x_train.reshape(-1, 784)\n",
    "X_test = x_test.reshape(-1, 784)\n",
    "\n",
    "print('변경된 데이터 형태 =', X_train.shape, X_test.shape)"
   ]
  },
  {
   "cell_type": "code",
   "execution_count": 26,
   "metadata": {},
   "outputs": [
    {
     "name": "stdout",
     "output_type": "stream",
     "text": [
      "Decision Tree :  train score =  1.0 / test score =  0.8755\n",
      "Random Forrest :  train score =  1.0 / test score =  0.9705\n"
     ]
    }
   ],
   "source": [
    "# modeling \n",
    "from sklearn.tree import DecisionTreeClassifier\n",
    "from sklearn.ensemble import RandomForestClassifier\n",
    "\n",
    "## Decision tree 모델 학습 및 결과 확인 \n",
    "dct = DecisionTreeClassifier(random_state=42)\n",
    "dct.fit(X_train, y_train)\n",
    "\n",
    "acc_train_dct = dct.score(X_train, y_train)\n",
    "acc_test_dct = dct.score(X_test, y_test)\n",
    "\n",
    "print('Decision Tree : ', 'train score = ', acc_train_dct, '/', 'test score = ', acc_test_dct)\n",
    "\n",
    "## Random Forrest 모델 학습 및 결과 확인 \n",
    "rfc = RandomForestClassifier(random_state=42)\n",
    "rfc.fit(X_train, y_train)\n",
    "\n",
    "acc_train_rfc = rfc.score(X_train, y_train)\n",
    "acc_test_rfc = rfc.score(X_test, y_test)\n",
    "\n",
    "print('Random Forrest : ', 'train score = ', acc_train_rfc, '/', 'test score = ', acc_test_rfc)"
   ]
  },
  {
   "cell_type": "code",
   "execution_count": 36,
   "metadata": {},
   "outputs": [
    {
     "name": "stdout",
     "output_type": "stream",
     "text": [
      "[1.0, 0.8755, 1.0, 0.9705]\n"
     ]
    },
    {
     "data": {
      "image/png": "[encoded data removed]",
      "text/plain": [
       "<Figure size 400x300 with 1 Axes>"
      ]
     },
     "metadata": {},
     "output_type": "display_data"
    }
   ],
   "source": [
    "## chart\n",
    "acc_list_x = ['DT_train', 'DT_test', 'RF_train', 'RF_test']\n",
    "acc_list_y = [acc_train_dct, acc_test_dct, acc_train_rfc, acc_test_rfc]\n",
    "colors = ['Orange', 'Orange', 'Blue', 'Blue']\n",
    "print(acc_list_y)\n",
    "\n",
    "plt.figure(figsize=(4,3))\n",
    "plt.bar(acc_list_x, acc_list_y, color=colors)\n",
    "plt.grid(axis='both', linestyle='--', alpha=0.7)\n",
    "             \n",
    "plt.show()"
   ]
  },
  {
   "cell_type": "code",
   "execution_count": 37,
   "metadata": {},
   "outputs": [
    {
     "name": "stdout",
     "output_type": "stream",
     "text": [
      "40\n",
      "max_features = 40 : train_acc = 1.0, test_acc = 0.9721\n",
      "50\n",
      "max_features = 50 : train_acc = 1.0, test_acc = 0.9719\n",
      "60\n",
      "max_features = 60 : train_acc = 1.0, test_acc = 0.9723\n"
     ]
    }
   ],
   "source": [
    "## 참고. Random Forrest의 옵션들 : max_features, n_estimators, n_jobs\n",
    "\n",
    "max_features = [40, 50, 60]     \n",
    "\n",
    "for max_feature in max_features:           \n",
    "    rfc = RandomForestClassifier(max_features=max_feature,  ## 최대 변수 갯수 지정 \n",
    "                                 n_estimators=100,          ## 트리의 갯수 (기본값 = 100, 생략하면 기본값 적용)\n",
    "                                 n_jobs=-1,                 ## 사용할 코어 갯수 (-1이면 모든 가용한 코어 사용)\n",
    "                                 random_state=42)\n",
    "    \n",
    "    rfc.fit(X_train, y_train)\n",
    "    acc_train_dct = rfc.score(X_train, y_train)\n",
    "    acc_test_dct = rfc.score(X_test, y_test)\n",
    "    \n",
    "    print(f\"\"\"max_features = {max_feature} : train_acc = {acc_train_dct}, test_acc = {acc_test_dct}\"\"\")"
   ]
  },
  {
   "cell_type": "markdown",
   "metadata": {},
   "source": [
    "---\n",
    "#### Gradient Boosting \n",
    "- Random Forrest가 tree의 병렬연결인데 반해(bagging), GB는 직렬 연결(boosting)   \n",
    "- 앞선 모델에서 틀린 부분에 가중치를 부여하는 방식 -> 모델 성능 향상에 유리   \n",
    "- 직렬 연결이므로 순차적 학습 -> 훈련시간이 오래 걸리는 단점 존재   \n",
    "- 트리 기반 모델이므로, 변수 scaling 불필요 \n",
    "---"
   ]
  },
  {
   "cell_type": "code",
   "execution_count": 39,
   "metadata": {},
   "outputs": [
    {
     "name": "stdout",
     "output_type": "stream",
     "text": [
      "원본데이터 형태 = torch.Size([2000, 28, 28]) torch.Size([2000]) torch.Size([2000, 28, 28]) torch.Size([2000])\n"
     ]
    },
    {
     "data": {
      "image/png": "[encoded data removed]",
      "text/plain": [
       "<Figure size 640x480 with 1 Axes>"
      ]
     },
     "metadata": {},
     "output_type": "display_data"
    },
    {
     "data": {
      "image/png": "[encoded data removed]",
      "text/plain": [
       "<Figure size 640x480 with 1 Axes>"
      ]
     },
     "metadata": {},
     "output_type": "display_data"
    }
   ],
   "source": [
    "# 실습 데이터 (mnist에서 2000건만 사용)\n",
    "import torch\n",
    "from torchvision import datasets\n",
    "from torchvision.transforms import ToTensor\n",
    "\n",
    "# MNIST 데이터셋 로드\n",
    "train_data = datasets.MNIST(\n",
    "    root=\"data\",\n",
    "    train=True,\n",
    "    download=True,\n",
    "    transform=ToTensor()  # 데이터를 텐서로 변환\n",
    ")\n",
    "\n",
    "test_data = datasets.MNIST(\n",
    "    root=\"data\",\n",
    "    train=False,\n",
    "    download=True,\n",
    "    transform=ToTensor()\n",
    ")\n",
    "\n",
    "# 학습 및 테스트 데이터를 분리\n",
    "x_train = train_data.data[:2000]\n",
    "y_train = train_data.targets[:2000]\n",
    "x_test = test_data.data[:2000]\n",
    "y_test = test_data.targets[:2000]\n",
    "\n",
    "# 데이터 확인\n",
    "print('원본데이터 형태 =', x_train.shape, y_train.shape, x_test.shape, y_test.shape)\n",
    "\n",
    "plt.imshow(x_train[1], cmap='Greys')\n",
    "plt.show()\n",
    "plt.imshow(x_train[7], cmap='Greys')\n",
    "plt.show()"
   ]
  },
  {
   "cell_type": "code",
   "execution_count": 40,
   "metadata": {},
   "outputs": [
    {
     "name": "stdout",
     "output_type": "stream",
     "text": [
      "변경된 데이터 형태 = torch.Size([2000, 784]) torch.Size([2000]) torch.Size([2000, 784]) torch.Size([2000])\n"
     ]
    }
   ],
   "source": [
    "# 이미지는 3차원 데이터 -> 2차원으로 변경 \n",
    "X_train = x_train.reshape(-1, 28*28)\n",
    "X_test = x_test.reshape(-1, 28*28)\n",
    "\n",
    "print('변경된 데이터 형태 =', X_train.shape, y_train.shape, X_test.shape, y_test.shape)"
   ]
  },
  {
   "cell_type": "code",
   "execution_count": 41,
   "metadata": {},
   "outputs": [
    {
     "name": "stdout",
     "output_type": "stream",
     "text": [
      "1.Decision Tree :  Train score=  1.0 Test score=  0.6635\n",
      "2.Raddom Forrest :  Train score=  1.0 Test score=  0.878\n",
      "3.Gradient Boost :  Train score=  1.0 Test score=  0.828\n"
     ]
    }
   ],
   "source": [
    "# modeling \n",
    "from sklearn.tree import DecisionTreeClassifier\n",
    "from sklearn.ensemble import RandomForestClassifier\n",
    "from sklearn.ensemble import GradientBoostingClassifier\n",
    "\n",
    "## 1. Decision Tree \n",
    "dct = DecisionTreeClassifier(random_state=42)\n",
    "dct.fit(X_train, y_train)\n",
    "\n",
    "acc_train_dct = dct.score(X_train, y_train)\n",
    "acc_test_dct = dct.score(X_test, y_test)\n",
    "\n",
    "## 2. Random Forrest \n",
    "rfc = RandomForestClassifier(random_state=42)\n",
    "rfc.fit(X_train, y_train)\n",
    "\n",
    "acc_train_rfc = rfc.score(X_train, y_train)\n",
    "acc_test_rfc = rfc.score(X_test, y_test)\n",
    "\n",
    "## 3. Gradient Boost\n",
    "gbc = GradientBoostingClassifier(random_state=42)\n",
    "gbc.fit(X_train, y_train)\n",
    "\n",
    "acc_train_gbc = gbc.score(X_train, y_train)\n",
    "acc_test_gbc = gbc.score(X_test, y_test)\n",
    "\n",
    "## 3모델의 성능 비교 \n",
    "print('1.Decision Tree : ', 'Train score= ', acc_train_dct, 'Test score= ', acc_test_dct)\n",
    "print('2.Raddom Forrest : ', 'Train score= ', acc_train_rfc, 'Test score= ', acc_test_rfc)\n",
    "print('3.Gradient Boost : ', 'Train score= ', acc_train_gbc, 'Test score= ', acc_test_gbc)"
   ]
  },
  {
   "cell_type": "code",
   "execution_count": 43,
   "metadata": {},
   "outputs": [
    {
     "name": "stdout",
     "output_type": "stream",
     "text": [
      "      Iter       Train Loss   Remaining Time \n",
      "         1           1.8398            2.24m\n",
      "         2           1.5879            2.20m\n",
      "         3           1.4024            2.20m\n",
      "         4           1.2584            2.18m\n",
      "         5           1.1338            2.17m\n",
      "         6           1.0258            2.15m\n",
      "         7           0.9359            2.14m\n",
      "         8           0.8556            2.13m\n",
      "         9           0.7863            2.12m\n",
      "        10           0.7247            2.11m\n",
      "        20           0.3653            2.00m\n",
      "        30           0.2167            1.90m\n",
      "        40           0.1423            1.81m\n",
      "        50           0.0982            1.71m\n",
      "        60           0.0720            1.61m\n",
      "        70           0.0540            1.49m\n",
      "        80           0.0410            1.37m\n",
      "        90           0.0321            1.26m\n",
      "       100           0.0252            1.14m\n",
      "       200           0.0024            0.00s\n",
      "4.Gradient Boost 2 :  Train score=  1.0 Test score=  0.8465\n"
     ]
    }
   ],
   "source": [
    "## 참고. 위에서 Random Forrest > Gradient Boost > Decision Tree 순으로 우수한 모델임이 나타남 \n",
    "## Gradient Boost의 성능개선을 위해 옵션 조정해보기 (GB는 다중코어 지원 불가 -> n_jobs = -1 옵션 사용 불가 )\n",
    "gbc2 = GradientBoostingClassifier(random_state=42, \n",
    "                                 n_estimators=200,   ## tree 갯수를 기본 100 -> 200개로                                  \n",
    "                                 verbose=1           ## 진행률 출력 \n",
    "                                 )\n",
    "gbc2.fit(X_train, y_train)\n",
    "\n",
    "acc_train_gbc2 = gbc2.score(X_train, y_train)\n",
    "acc_test_gbc2 = gbc2.score(X_test, y_test)\n",
    "\n",
    "print('4.Gradient Boost 2 : ', 'Train score= ', acc_train_gbc2, 'Test score= ', acc_test_gbc2)"
   ]
  },
  {
   "cell_type": "code",
   "execution_count": null,
   "metadata": {},
   "outputs": [],
   "source": []
  }
 ],
 "metadata": {
  "kernelspec": {
   "display_name": "Python 3",
   "language": "python",
   "name": "python3"
  },
  "language_info": {
   "codemirror_mode": {
    "name": "ipython",
    "version": 3
   },
   "file_extension": ".py",
   "mimetype": "text/x-python",
   "name": "python",
   "nbconvert_exporter": "python",
   "pygments_lexer": "ipython3",
   "version": "3.12.0"
  }
 },
 "nbformat": 4,
 "nbformat_minor": 2
}
