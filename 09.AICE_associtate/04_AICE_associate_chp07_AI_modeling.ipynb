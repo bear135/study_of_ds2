{
 "cells": [
  {
   "cell_type": "markdown",
   "metadata": {},
   "source": [
    "#### Part1. 기본학습 - AI 핵심이론 및 활용         \n",
    "    chp07 - AI 모델링 필수개념 "
   ]
  },
  {
   "cell_type": "markdown",
   "metadata": {},
   "source": [
    "- AI 학습의 종류 : 지도학습, 비지도학습, 강화학습  \n",
    "- 지도학습은 크게 회귀와 분류로 문제로 나뉨  \n",
    "- 비지도학습은 주로 군집화를 사용  \n",
    "- AI 모델링 프로세스 : 1) 데이터확인 -> 2) 데이터 전처리 -> 3) 모델링 -> 4) 데이터분할 -> 5) 학습 -> 6) 평가  "
   ]
  },
  {
   "cell_type": "markdown",
   "metadata": {},
   "source": [
    "#### Confusion Matrix\n",
    "![Confusion Matrix](img/confusion_matrix.png)",
    "#### ROC curve, AUC\n",
    "![ROC_and_AUC](img/roc_auc.png)",
    "#### Validation\n",
    "![val_1](img/validation_1.png)",
    "![val_2](img/validation_2.png)"
   ]
  },
  {
   "cell_type": "markdown",
   "metadata": {},
   "source": [
    ">> 확인문제 \n",
    "- 분류모델 성능평가를 정확도(accuracy)로만 판단해서는 안되는 까닭은?  \n",
    "  -> 편중된 데이터의 경우 정확도의 성능이 떨어진다(정확도의 함정). 재현율과 정밀도를 종합적으로 고려하는(조화평균) F1 score를 사용하는 것이 더 적합하다.  \n",
    "\n",
    "- 다음 중 회귀모델 성능 평가에 대한 설명으로 바르지 않은것은? (정답:4 ~ RMSE = MSE root squre)   \n",
    "     1) R2 score가 1에 가까울 수록 성능이 좋다.   \n",
    "     2) R2 score가 0보다 작다면, 예측값 대신 평균값을 넣는 것이 더 효과적이다.   \n",
    "     3) MSE는 MAE보다 이상치에 민감하다.   \n",
    "     4) RMSE는 MSE의 제곱이다.   "
   ]
  },
  {
   "cell_type": "markdown",
   "metadata": {},
   "source": []
  }
 ],
 "metadata": {
  "kernelspec": {
   "display_name": "Python 3",
   "language": "python",
   "name": "python3"
  },
  "language_info": {
   "name": "python",
   "version": "3.12.0"
  }
 },
 "nbformat": 4,
 "nbformat_minor": 2
}
