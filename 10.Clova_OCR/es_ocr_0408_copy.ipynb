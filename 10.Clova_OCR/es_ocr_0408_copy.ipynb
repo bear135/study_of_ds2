{
 "cells": [
  {
   "cell_type": "markdown",
   "id": "0d134ce6",
   "metadata": {},
   "source": [
    "--- \n",
    "### ES A/S report OCR \n",
    "- 작성일/작성자 : 2025. 04. 09  / 디지털담당 최영부\n",
    "- 작업순서 : PDF 파일 png 변환 -> NCP OCR 호출 -> Text 결합하여 csv파일 생성\n",
    "- 텍스트 추출 목록 :   \n",
    "  (1) 고객성명  \n",
    "  (2) 기기형식  \n",
    "  (3) 제조번호  \n",
    "  (4) 설치장소  \n",
    "  (5) 출동일, 완료일   \n",
    "  (6) 보고사항(특기사항)  \n",
    "--- "
   ]
  },
  {
   "cell_type": "code",
   "execution_count": 1,
   "id": "915fd78a",
   "metadata": {},
   "outputs": [],
   "source": [
    "# pkg's \n",
    "import fitz  \n",
    "import os\n",
    "import pandas as pd\n",
    "import json\n",
    "import requests\n",
    "import uuid\n",
    "import time"
   ]
  },
  {
   "cell_type": "code",
   "execution_count": 2,
   "id": "2ecb1bf6",
   "metadata": {},
   "outputs": [],
   "source": [
    "# 1. raw 폴더의 PDF 파일을, 페이지당 png파일로 변환하여 scan폴더에 저장 \n",
    "\n",
    "def pdf_to_images(pdf_path, output_folder):\n",
    "    pdf = fitz.open(pdf_path)\n",
    "    for i in range(len(pdf)):\n",
    "        page = pdf[i]\n",
    "        pix = page.get_pixmap(matrix=fitz.Matrix(300/72, 300/72))\n",
    "        pix.save(f\"{output_folder}/page_{i+1:03d}.png\")\n",
    "    pdf.close()\n",
    "\n",
    "if __name__ == \"__main__\":\n",
    "    pdf_to_images(\"raw/sample.pdf\", \"scan\")"
   ]
  },
  {
   "cell_type": "code",
   "execution_count": null,
   "id": "8043680c",
   "metadata": {},
   "outputs": [],
   "source": [
    "# 2. Naver OCR을 이용하여, 텍스트 추출 \n",
    "\n",
    "# NCP OCR API 설정\n",
    "secret_key = 'my secret key'\n",
    "api_url = 'my invoke url address'\n",
    "\n",
    "# 스캔 이미지가 저장된 폴더 지정\n",
    "scan_folder = 'scan/'\n",
    "\n",
    "# 각 파일의 텍스트 데이터를 저장할 딕셔너리\n",
    "extracted_data = {}\n",
    "\n",
    "# 폴더 내 모든 이미지 처리\n",
    "for img_file in os.listdir(scan_folder):\n",
    "    if img_file.endswith('.png'):\n",
    "        img_path = os.path.join(scan_folder, img_file)\n",
    "        filename = os.path.splitext(img_file)[0]  # 확장자 제거하여 파일명 추출\n",
    "        \n",
    "        # OCR API 호출\n",
    "        files = [('file', open(img_path, 'rb'))]\n",
    "        request_json = {\n",
    "            'images': [\n",
    "                {\n",
    "                    'format': 'png',\n",
    "                    'name': img_file,\n",
    "                    'templateIds': [36898]\n",
    "                }\n",
    "            ],\n",
    "            'requestId': str(uuid.uuid4()),\n",
    "            'version': 'V2',\n",
    "            'timestamp': int(round(time.time() * 1000))\n",
    "        }\n",
    "        \n",
    "        payload = {'message': json.dumps(request_json).encode('UTF-8')}\n",
    "        headers = {'X-OCR-SECRET': secret_key}\n",
    "\n",
    "        response = requests.request(\"POST\", api_url, headers=headers, data=payload, files=files)\n",
    "        result = response.json()\n",
    "\n",
    "        # 각 파일별 텍스트 저장\n",
    "        extracted_data[filename] = [field['inferText'] for field in result['images'][0]['fields']]"
   ]
  },
  {
   "cell_type": "code",
   "execution_count": 4,
   "id": "beb32301",
   "metadata": {},
   "outputs": [
    {
     "name": "stdout",
     "output_type": "stream",
     "text": [
      "텍스트 추출 완료! output/extracted_texts.csv 파일을 확인하세요.\n"
     ]
    }
   ],
   "source": [
    "# 3. 추출된 텍스트를 하나의 엑셀 파일에 결합하여 저장 \n",
    "# 최대 길이 설정하여 DataFrame 변환\n",
    "max_length = max(len(texts) for texts in extracted_data.values())\n",
    "for key in extracted_data:\n",
    "    extracted_data[key] += [''] * (max_length - len(extracted_data[key]))  # 길이 맞추기\n",
    "\n",
    "df = pd.DataFrame(extracted_data)\n",
    "df.index.name = \"Index\"\n",
    "\n",
    "# CSV 파일로 저장 (인덱스 유지)\n",
    "df.to_csv('output/extracted_texts.csv', index=True, encoding='utf-8-sig')\n",
    "\n",
    "print(\"텍스트 추출 완료! output/extracted_texts.csv 파일을 확인하세요.\")"
   ]
  },
  {
   "cell_type": "markdown",
   "id": "d32062d0",
   "metadata": {},
   "source": []
  }
 ],
 "metadata": {
  "kernelspec": {
   "display_name": "Python 3",
   "language": "python",
   "name": "python3"
  },
  "language_info": {
   "codemirror_mode": {
    "name": "ipython",
    "version": 3
   },
   "file_extension": ".py",
   "mimetype": "text/x-python",
   "name": "python",
   "nbconvert_exporter": "python",
   "pygments_lexer": "ipython3",
   "version": "3.12.0"
  }
 },
 "nbformat": 4,
 "nbformat_minor": 5
}
