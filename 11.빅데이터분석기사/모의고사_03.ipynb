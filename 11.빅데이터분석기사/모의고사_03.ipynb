{
 "cells": [
  {
   "cell_type": "markdown",
   "id": "a5c90b1e",
   "metadata": {},
   "source": [
    "### 작업 1유형 \n",
    "데이터 출처 : link (후처리 작업)  \n",
    "데이터 설명 : 2010-2019 스포티파이 TOP100 노래  \n",
    "dataurl : https://raw.githubusercontent.com/Datamanim/datarepo/main/spotify/spotify.csv  "
   ]
  },
  {
   "cell_type": "code",
   "execution_count": 1,
   "id": "8b8544b3",
   "metadata": {},
   "outputs": [
    {
     "name": "stdout",
     "output_type": "stream",
     "text": [
      "(1003, 17)\n"
     ]
    },
    {
     "data": {
      "text/html": [
       "<div>\n",
       "<style scoped>\n",
       "    .dataframe tbody tr th:only-of-type {\n",
       "        vertical-align: middle;\n",
       "    }\n",
       "\n",
       "    .dataframe tbody tr th {\n",
       "        vertical-align: top;\n",
       "    }\n",
       "\n",
       "    .dataframe thead th {\n",
       "        text-align: right;\n",
       "    }\n",
       "</style>\n",
       "<table border=\"1\" class=\"dataframe\">\n",
       "  <thead>\n",
       "    <tr style=\"text-align: right;\">\n",
       "      <th></th>\n",
       "      <th>title</th>\n",
       "      <th>artist</th>\n",
       "      <th>top genre</th>\n",
       "      <th>year released</th>\n",
       "      <th>added</th>\n",
       "      <th>bpm</th>\n",
       "      <th>nrgy</th>\n",
       "      <th>dnce</th>\n",
       "      <th>dB</th>\n",
       "      <th>live</th>\n",
       "      <th>val</th>\n",
       "      <th>dur</th>\n",
       "      <th>acous</th>\n",
       "      <th>spch</th>\n",
       "      <th>pop</th>\n",
       "      <th>top year</th>\n",
       "      <th>artist type</th>\n",
       "    </tr>\n",
       "  </thead>\n",
       "  <tbody>\n",
       "    <tr>\n",
       "      <th>0</th>\n",
       "      <td>STARSTRUKK (feat. Katy Perry)</td>\n",
       "      <td>3OH!3</td>\n",
       "      <td>dance pop</td>\n",
       "      <td>2009.0</td>\n",
       "      <td>2022‑02‑17</td>\n",
       "      <td>140.0</td>\n",
       "      <td>81.0</td>\n",
       "      <td>61.0</td>\n",
       "      <td>-6.0</td>\n",
       "      <td>23.0</td>\n",
       "      <td>23.0</td>\n",
       "      <td>203.0</td>\n",
       "      <td>0.0</td>\n",
       "      <td>6.0</td>\n",
       "      <td>70.0</td>\n",
       "      <td>2010.0</td>\n",
       "      <td>Duo</td>\n",
       "    </tr>\n",
       "    <tr>\n",
       "      <th>1</th>\n",
       "      <td>My First Kiss (feat. Ke$ha)</td>\n",
       "      <td>3OH!3</td>\n",
       "      <td>dance pop</td>\n",
       "      <td>2010.0</td>\n",
       "      <td>2022‑02‑17</td>\n",
       "      <td>138.0</td>\n",
       "      <td>89.0</td>\n",
       "      <td>68.0</td>\n",
       "      <td>-4.0</td>\n",
       "      <td>36.0</td>\n",
       "      <td>83.0</td>\n",
       "      <td>192.0</td>\n",
       "      <td>1.0</td>\n",
       "      <td>8.0</td>\n",
       "      <td>68.0</td>\n",
       "      <td>2010.0</td>\n",
       "      <td>Duo</td>\n",
       "    </tr>\n",
       "    <tr>\n",
       "      <th>2</th>\n",
       "      <td>I Need A Dollar</td>\n",
       "      <td>Aloe Blacc</td>\n",
       "      <td>pop soul</td>\n",
       "      <td>2010.0</td>\n",
       "      <td>2022‑02‑17</td>\n",
       "      <td>95.0</td>\n",
       "      <td>48.0</td>\n",
       "      <td>84.0</td>\n",
       "      <td>-7.0</td>\n",
       "      <td>9.0</td>\n",
       "      <td>96.0</td>\n",
       "      <td>243.0</td>\n",
       "      <td>20.0</td>\n",
       "      <td>3.0</td>\n",
       "      <td>72.0</td>\n",
       "      <td>2010.0</td>\n",
       "      <td>Solo</td>\n",
       "    </tr>\n",
       "    <tr>\n",
       "      <th>3</th>\n",
       "      <td>Airplanes (feat. Hayley Williams of Paramore)</td>\n",
       "      <td>B.o.B</td>\n",
       "      <td>atl hip hop</td>\n",
       "      <td>2010.0</td>\n",
       "      <td>2022‑02‑17</td>\n",
       "      <td>93.0</td>\n",
       "      <td>87.0</td>\n",
       "      <td>66.0</td>\n",
       "      <td>-4.0</td>\n",
       "      <td>4.0</td>\n",
       "      <td>38.0</td>\n",
       "      <td>180.0</td>\n",
       "      <td>11.0</td>\n",
       "      <td>12.0</td>\n",
       "      <td>80.0</td>\n",
       "      <td>2010.0</td>\n",
       "      <td>Solo</td>\n",
       "    </tr>\n",
       "    <tr>\n",
       "      <th>4</th>\n",
       "      <td>Nothin' on You (feat. Bruno Mars)</td>\n",
       "      <td>B.o.B</td>\n",
       "      <td>atl hip hop</td>\n",
       "      <td>2010.0</td>\n",
       "      <td>2022‑02‑17</td>\n",
       "      <td>104.0</td>\n",
       "      <td>85.0</td>\n",
       "      <td>69.0</td>\n",
       "      <td>-6.0</td>\n",
       "      <td>9.0</td>\n",
       "      <td>74.0</td>\n",
       "      <td>268.0</td>\n",
       "      <td>39.0</td>\n",
       "      <td>5.0</td>\n",
       "      <td>79.0</td>\n",
       "      <td>2010.0</td>\n",
       "      <td>Solo</td>\n",
       "    </tr>\n",
       "  </tbody>\n",
       "</table>\n",
       "</div>"
      ],
      "text/plain": [
       "                                           title      artist    top genre  \\\n",
       "0                  STARSTRUKK (feat. Katy Perry)       3OH!3    dance pop   \n",
       "1                    My First Kiss (feat. Ke$ha)       3OH!3    dance pop   \n",
       "2                                I Need A Dollar  Aloe Blacc     pop soul   \n",
       "3  Airplanes (feat. Hayley Williams of Paramore)       B.o.B  atl hip hop   \n",
       "4              Nothin' on You (feat. Bruno Mars)       B.o.B  atl hip hop   \n",
       "\n",
       "   year released       added    bpm  nrgy  dnce   dB  live   val    dur  \\\n",
       "0         2009.0  2022‑02‑17  140.0  81.0  61.0 -6.0  23.0  23.0  203.0   \n",
       "1         2010.0  2022‑02‑17  138.0  89.0  68.0 -4.0  36.0  83.0  192.0   \n",
       "2         2010.0  2022‑02‑17   95.0  48.0  84.0 -7.0   9.0  96.0  243.0   \n",
       "3         2010.0  2022‑02‑17   93.0  87.0  66.0 -4.0   4.0  38.0  180.0   \n",
       "4         2010.0  2022‑02‑17  104.0  85.0  69.0 -6.0   9.0  74.0  268.0   \n",
       "\n",
       "   acous  spch   pop  top year artist type  \n",
       "0    0.0   6.0  70.0    2010.0         Duo  \n",
       "1    1.0   8.0  68.0    2010.0         Duo  \n",
       "2   20.0   3.0  72.0    2010.0        Solo  \n",
       "3   11.0  12.0  80.0    2010.0        Solo  \n",
       "4   39.0   5.0  79.0    2010.0        Solo  "
      ]
     },
     "execution_count": 1,
     "metadata": {},
     "output_type": "execute_result"
    }
   ],
   "source": [
    "import numpy as np\n",
    "import pandas as pd\n",
    "df = pd.read_csv('https://raw.githubusercontent.com/Datamanim/datarepo/main/spotify/spotify.csv')\n",
    "print(df.shape)\n",
    "df.head()"
   ]
  },
  {
   "cell_type": "code",
   "execution_count": 2,
   "id": "49b1a5a6",
   "metadata": {},
   "outputs": [
    {
     "name": "stdout",
     "output_type": "stream",
     "text": [
      "[2010. 2011. 2012. 2013. 2014. 2015. 2016. 2017. 2018. 2019.   nan]\n"
     ]
    },
    {
     "data": {
      "text/html": [
       "<div>\n",
       "<style scoped>\n",
       "    .dataframe tbody tr th:only-of-type {\n",
       "        vertical-align: middle;\n",
       "    }\n",
       "\n",
       "    .dataframe tbody tr th {\n",
       "        vertical-align: top;\n",
       "    }\n",
       "\n",
       "    .dataframe thead th {\n",
       "        text-align: right;\n",
       "    }\n",
       "</style>\n",
       "<table border=\"1\" class=\"dataframe\">\n",
       "  <thead>\n",
       "    <tr style=\"text-align: right;\">\n",
       "      <th></th>\n",
       "      <th>title</th>\n",
       "      <th>artist</th>\n",
       "      <th>top genre</th>\n",
       "      <th>year released</th>\n",
       "      <th>added</th>\n",
       "      <th>bpm</th>\n",
       "      <th>nrgy</th>\n",
       "      <th>dnce</th>\n",
       "      <th>dB</th>\n",
       "      <th>live</th>\n",
       "      <th>val</th>\n",
       "      <th>dur</th>\n",
       "      <th>acous</th>\n",
       "      <th>spch</th>\n",
       "      <th>pop</th>\n",
       "      <th>top year</th>\n",
       "      <th>artist type</th>\n",
       "      <th>rank</th>\n",
       "    </tr>\n",
       "  </thead>\n",
       "  <tbody>\n",
       "    <tr>\n",
       "      <th>0</th>\n",
       "      <td>STARSTRUKK (feat. Katy Perry)</td>\n",
       "      <td>3OH!3</td>\n",
       "      <td>dance pop</td>\n",
       "      <td>2009.0</td>\n",
       "      <td>2022‑02‑17</td>\n",
       "      <td>140.0</td>\n",
       "      <td>81.0</td>\n",
       "      <td>61.0</td>\n",
       "      <td>-6.0</td>\n",
       "      <td>23.0</td>\n",
       "      <td>23.0</td>\n",
       "      <td>203.0</td>\n",
       "      <td>0.0</td>\n",
       "      <td>6.0</td>\n",
       "      <td>70.0</td>\n",
       "      <td>2010.0</td>\n",
       "      <td>Duo</td>\n",
       "      <td>1</td>\n",
       "    </tr>\n",
       "    <tr>\n",
       "      <th>1</th>\n",
       "      <td>My First Kiss (feat. Ke$ha)</td>\n",
       "      <td>3OH!3</td>\n",
       "      <td>dance pop</td>\n",
       "      <td>2010.0</td>\n",
       "      <td>2022‑02‑17</td>\n",
       "      <td>138.0</td>\n",
       "      <td>89.0</td>\n",
       "      <td>68.0</td>\n",
       "      <td>-4.0</td>\n",
       "      <td>36.0</td>\n",
       "      <td>83.0</td>\n",
       "      <td>192.0</td>\n",
       "      <td>1.0</td>\n",
       "      <td>8.0</td>\n",
       "      <td>68.0</td>\n",
       "      <td>2010.0</td>\n",
       "      <td>Duo</td>\n",
       "      <td>2</td>\n",
       "    </tr>\n",
       "    <tr>\n",
       "      <th>2</th>\n",
       "      <td>I Need A Dollar</td>\n",
       "      <td>Aloe Blacc</td>\n",
       "      <td>pop soul</td>\n",
       "      <td>2010.0</td>\n",
       "      <td>2022‑02‑17</td>\n",
       "      <td>95.0</td>\n",
       "      <td>48.0</td>\n",
       "      <td>84.0</td>\n",
       "      <td>-7.0</td>\n",
       "      <td>9.0</td>\n",
       "      <td>96.0</td>\n",
       "      <td>243.0</td>\n",
       "      <td>20.0</td>\n",
       "      <td>3.0</td>\n",
       "      <td>72.0</td>\n",
       "      <td>2010.0</td>\n",
       "      <td>Solo</td>\n",
       "      <td>3</td>\n",
       "    </tr>\n",
       "    <tr>\n",
       "      <th>3</th>\n",
       "      <td>Airplanes (feat. Hayley Williams of Paramore)</td>\n",
       "      <td>B.o.B</td>\n",
       "      <td>atl hip hop</td>\n",
       "      <td>2010.0</td>\n",
       "      <td>2022‑02‑17</td>\n",
       "      <td>93.0</td>\n",
       "      <td>87.0</td>\n",
       "      <td>66.0</td>\n",
       "      <td>-4.0</td>\n",
       "      <td>4.0</td>\n",
       "      <td>38.0</td>\n",
       "      <td>180.0</td>\n",
       "      <td>11.0</td>\n",
       "      <td>12.0</td>\n",
       "      <td>80.0</td>\n",
       "      <td>2010.0</td>\n",
       "      <td>Solo</td>\n",
       "      <td>4</td>\n",
       "    </tr>\n",
       "    <tr>\n",
       "      <th>4</th>\n",
       "      <td>Nothin' on You (feat. Bruno Mars)</td>\n",
       "      <td>B.o.B</td>\n",
       "      <td>atl hip hop</td>\n",
       "      <td>2010.0</td>\n",
       "      <td>2022‑02‑17</td>\n",
       "      <td>104.0</td>\n",
       "      <td>85.0</td>\n",
       "      <td>69.0</td>\n",
       "      <td>-6.0</td>\n",
       "      <td>9.0</td>\n",
       "      <td>74.0</td>\n",
       "      <td>268.0</td>\n",
       "      <td>39.0</td>\n",
       "      <td>5.0</td>\n",
       "      <td>79.0</td>\n",
       "      <td>2010.0</td>\n",
       "      <td>Solo</td>\n",
       "      <td>5</td>\n",
       "    </tr>\n",
       "  </tbody>\n",
       "</table>\n",
       "</div>"
      ],
      "text/plain": [
       "                                           title      artist    top genre  \\\n",
       "0                  STARSTRUKK (feat. Katy Perry)       3OH!3    dance pop   \n",
       "1                    My First Kiss (feat. Ke$ha)       3OH!3    dance pop   \n",
       "2                                I Need A Dollar  Aloe Blacc     pop soul   \n",
       "3  Airplanes (feat. Hayley Williams of Paramore)       B.o.B  atl hip hop   \n",
       "4              Nothin' on You (feat. Bruno Mars)       B.o.B  atl hip hop   \n",
       "\n",
       "   year released       added    bpm  nrgy  dnce   dB  live   val    dur  \\\n",
       "0         2009.0  2022‑02‑17  140.0  81.0  61.0 -6.0  23.0  23.0  203.0   \n",
       "1         2010.0  2022‑02‑17  138.0  89.0  68.0 -4.0  36.0  83.0  192.0   \n",
       "2         2010.0  2022‑02‑17   95.0  48.0  84.0 -7.0   9.0  96.0  243.0   \n",
       "3         2010.0  2022‑02‑17   93.0  87.0  66.0 -4.0   4.0  38.0  180.0   \n",
       "4         2010.0  2022‑02‑17  104.0  85.0  69.0 -6.0   9.0  74.0  268.0   \n",
       "\n",
       "   acous  spch   pop  top year artist type  rank  \n",
       "0    0.0   6.0  70.0    2010.0         Duo     1  \n",
       "1    1.0   8.0  68.0    2010.0         Duo     2  \n",
       "2   20.0   3.0  72.0    2010.0        Solo     3  \n",
       "3   11.0  12.0  80.0    2010.0        Solo     4  \n",
       "4   39.0   5.0  79.0    2010.0        Solo     5  "
      ]
     },
     "metadata": {},
     "output_type": "display_data"
    },
    {
     "data": {
      "text/plain": [
       "125.6"
      ]
     },
     "execution_count": 2,
     "metadata": {},
     "output_type": "execute_result"
    }
   ],
   "source": [
    "#Q1. 데이터는 현재 년도별 100곡이 인기순으로 정렬되어 있다. \n",
    "# 각 년도별 1~100위의 랭킹을 나타내는 rank컬럼을 만들고 매년도 1위의 bpm컬럼의 평균값을 구하여라\n",
    "# 현재 top year(2010~2019년)를 기준으로 1~100위가 순서대로 나열되어 있음, top year가 nan인 것도 있음  \n",
    "print(df['top year'].unique())\n",
    "\n",
    "# 1~100의 숫자열을 10번 반복해서 만들어 rank 컬럼에 넣는다. \n",
    "df = df.dropna()\n",
    "df.loc[:,'rank'] = list(range(1,101))*10\n",
    "display(df.head())\n",
    "\n",
    "df[df['rank'] ==1].bpm.mean()"
   ]
  },
  {
   "cell_type": "code",
   "execution_count": 3,
   "id": "81854f38",
   "metadata": {},
   "outputs": [
    {
     "data": {
      "text/plain": [
       "artist\n",
       "Taylor Swift      4\n",
       "The Weeknd        4\n",
       "Selena Gomez      3\n",
       "Fetty Wap         3\n",
       "Avicii            2\n",
       "                 ..\n",
       "Mark Ronson       1\n",
       "Alessia Cara      1\n",
       "Meek Mill         1\n",
       "Mumford & Sons    1\n",
       "Zedd              1\n",
       "Name: count, Length: 78, dtype: int64"
      ]
     },
     "execution_count": 3,
     "metadata": {},
     "output_type": "execute_result"
    }
   ],
   "source": [
    "#Q2. 2015년도에 가장많은 top100곡을 올린 artist는 누구인가?\n",
    "df_2015 = df[df['top year'] == 2015 ]['artist'].value_counts()\n",
    "df_2015\n",
    "#Ans = Taylor Swift, The Weeknd   "
   ]
  },
  {
   "cell_type": "code",
   "execution_count": 4,
   "id": "060ce6af",
   "metadata": {},
   "outputs": [
    {
     "data": {
      "text/plain": [
       "top genre\n",
       "dance pop                    40\n",
       "atl hip hop                   7\n",
       "british soul                  7\n",
       "boy band                      4\n",
       "garage rock                   3\n",
       "detroit hip hop               3\n",
       "melodic rap                   3\n",
       "emo rap                       2\n",
       "modern rock                   2\n",
       "pop soul                      2\n",
       "canadian contemporary r&b     2\n",
       "latin                         2\n",
       "canadian pop                  2\n",
       "gangster rap                  1\n",
       "grime                         1\n",
       "art pop                       1\n",
       "electropop                    1\n",
       "basshall                      1\n",
       "afroswing                     1\n",
       "london rap                    1\n",
       "social media pop              1\n",
       "hip hop                       1\n",
       "israeli pop                   1\n",
       "east coast hip hop            1\n",
       "metropopolis                  1\n",
       "alt z                         1\n",
       "kentucky hip hop              1\n",
       "contemporary country          1\n",
       "modern alternative rock       1\n",
       "indie poptimism               1\n",
       "indie rock                    1\n",
       "bass trap                     1\n",
       "la indie                      1\n",
       "pop                           1\n",
       "Name: count, dtype: int64"
      ]
     },
     "execution_count": 4,
     "metadata": {},
     "output_type": "execute_result"
    }
   ],
   "source": [
    "#Q3. 년도별 rank값이 1~10위 까지의 곡들 중 두번째로 많은 top genre는 무엇인가?\n",
    "df_top10 = df[df['rank'] <= 10]\n",
    "df_top10['top genre'].value_counts()\n",
    "\n",
    "#Ans = atl hip hop, british soul "
   ]
  },
  {
   "cell_type": "code",
   "execution_count": 5,
   "id": "76047604",
   "metadata": {},
   "outputs": [
    {
     "name": "stdout",
     "output_type": "stream",
     "text": [
      "0                      Katy Perry\n",
      "1                           Ke$ha\n",
      "3     Hayley Williams of Paramore\n",
      "4                      Bruno Mars\n",
      "5                    Rivers Cuomo\n",
      "Name: title, dtype: object\n"
     ]
    },
    {
     "data": {
      "text/plain": [
       "' Bruno Mars'"
      ]
     },
     "execution_count": 5,
     "metadata": {},
     "output_type": "execute_result"
    }
   ],
   "source": [
    "#Q4. 피처링의 경우 title에 표시된다. 피처링을 가장 많이 해준 가수는 누구인가?\n",
    "result = df.title.str.split('feat.').str[1].dropna().str[:-1]\n",
    "print(result[:5]) \n",
    "\n",
    "Ans = result.value_counts().index[0]\n",
    "Ans"
   ]
  },
  {
   "cell_type": "code",
   "execution_count": 6,
   "id": "31909718",
   "metadata": {},
   "outputs": [
    {
     "data": {
      "text/plain": [
       "top year\n",
       "2016.0    37\n",
       "2011.0    34\n",
       "2010.0    33\n",
       "2013.0    33\n",
       "2015.0    31\n",
       "2012.0    28\n",
       "2017.0    26\n",
       "2014.0    23\n",
       "2019.0    21\n",
       "2018.0    19\n",
       "Name: count, dtype: int64"
      ]
     },
     "execution_count": 6,
     "metadata": {},
     "output_type": "execute_result"
    }
   ],
   "source": [
    "#Q5. top year 년도를 기준으로 발매일(year released)과 top100에 진입한 일자 (top year)가 다른 곡의 숫자를 count 했을때 가장 많은 년도는?\n",
    "temp = df[df['year released'] != df['top year']]\n",
    "temp['top year'].value_counts()\n",
    "\n",
    "#Ans = 2016 "
   ]
  },
  {
   "cell_type": "code",
   "execution_count": 7,
   "id": "63b5df2a",
   "metadata": {},
   "outputs": [
    {
     "data": {
      "text/plain": [
       "6"
      ]
     },
     "execution_count": 7,
     "metadata": {},
     "output_type": "execute_result"
    }
   ],
   "source": [
    "#Q6. artist 컬럼의 값에 대소문자 상관없이 q 단어가 들어가는 아티스트는 몇명인가?\n",
    "df_q = df[df['artist'].str.contains('q', case=False, na=False)] \n",
    "## 옵션 : case=T/F ~ 대소문자 구분/비구분, na=T/F ~ 결축치 포함/제외\n",
    "df_q['artist'].nunique()"
   ]
  },
  {
   "cell_type": "code",
   "execution_count": 9,
   "id": "17f89412",
   "metadata": {},
   "outputs": [
    {
     "data": {
      "text/plain": [
       "0.896000000000015"
      ]
     },
     "execution_count": 9,
     "metadata": {},
     "output_type": "execute_result"
    }
   ],
   "source": [
    "#Q7. 년도 상관없이 전체데이터에서 1~50위와 51~100위간의 dur 컬럼의 평균값의 차이는?\n",
    "df_1050 = df[(df['rank'] >= 1) & (df['rank'] <= 50) ]\n",
    "df_51100 = df[(df['rank'] >= 51) & (df['rank'] <= 100) ]\n",
    "Ans = df_1050['dur'].mean() - df_51100['dur'].mean()\n",
    "Ans\n",
    "\n",
    "## isin()을 사용하는 코드 \n",
    "#df[df['rank'].isin(range(1,51))].dur.mean() - df[df['rank'].isin(range(51,101))].dur.mean()"
   ]
  },
  {
   "cell_type": "code",
   "execution_count": 38,
   "id": "8cbed81d",
   "metadata": {},
   "outputs": [
    {
     "name": "stdout",
     "output_type": "stream",
     "text": [
      "0        STARSTRUKK \n",
      "1     My First Kiss \n",
      "2    I Need A Dollar\n",
      "3         Airplanes \n",
      "4    Nothin' on You \n",
      "Name: title_1st, dtype: object\n",
      "0    STARSTRUKK\n",
      "1            My\n",
      "1         First\n",
      "1          Kiss\n",
      "2             I\n",
      "Name: title_1st, dtype: object\n"
     ]
    },
    {
     "data": {
      "text/plain": [
       "title_1st\n",
       "the        84\n",
       "you        58\n",
       "-          53\n",
       "love       53\n",
       "me         50\n",
       "           ..\n",
       "bottom      1\n",
       "(100%)      1\n",
       "monster     1\n",
       "berzerk     1\n",
       "pose        1\n",
       "Name: count, Length: 1196, dtype: int64"
      ]
     },
     "execution_count": 38,
     "metadata": {},
     "output_type": "execute_result"
    }
   ],
   "source": [
    "#Q8. title을 띄어쓰기 단어로 구분 했을때 가장 많이 나온 단어는 무엇인가? (대소문자 구분 x, 피처링 제외)\n",
    "\n",
    "## \"(feat\"를 기준으로 컬럼을 구분하고, 앞쪽을 선택 \n",
    "df['title_1st']= df['title'].str.split(r'\\(feat').str[0] \n",
    "print(df['title_1st'][:5])\n",
    "\n",
    "## 띄어쓰기로 구분하고, explode() ~ 구분된 문자열 각각을 행으로 변환 \n",
    "temp = df['title_1st'].str.split().explode()\n",
    "print(temp[:5])\n",
    "\n",
    "## 모두 소문자로 변환후 카운드 \n",
    "temp.str.lower().value_counts()\n",
    "\n",
    "# Ans = the "
   ]
  },
  {
   "cell_type": "code",
   "execution_count": 42,
   "id": "f2c95ec7",
   "metadata": {},
   "outputs": [
    {
     "data": {
      "text/plain": [
       "13.860000000000007"
      ]
     },
     "execution_count": 42,
     "metadata": {},
     "output_type": "execute_result"
    }
   ],
   "source": [
    "#Q9. 년도별 nrgy값의 평균값을 구할때 최대 평균값과 최소 평균값의 차이를 구하여라\n",
    "t_max = df.groupby('top year')['nrgy'].agg('mean').max()\n",
    "t_min = df.groupby('top year')['nrgy'].agg('mean').min()\n",
    "\n",
    "t_max - t_min"
   ]
  },
  {
   "cell_type": "code",
   "execution_count": 58,
   "id": "89ada718",
   "metadata": {},
   "outputs": [
    {
     "data": {
      "text/plain": [
       "artist\n",
       "Rudimental       2\n",
       "2 Chainz         1\n",
       "O.T. Genasis     1\n",
       "Owl City         1\n",
       "Otto Knows       1\n",
       "                ..\n",
       "Gotye            1\n",
       "Gorgon City      1\n",
       "Gesaffelstein    1\n",
       "George Ezra      1\n",
       "will.i.am        1\n",
       "Name: artist type, Length: 444, dtype: int64"
      ]
     },
     "execution_count": 58,
     "metadata": {},
     "output_type": "execute_result"
    }
   ],
   "source": [
    "#Q10. artist중 artist type 타입을 여러개 가지고 있는 artist는 누구인가\n",
    "df.groupby('artist')['artist type'].nunique().sort_values(ascending=False)\n",
    "#Ans = Rudimental"
   ]
  },
  {
   "cell_type": "markdown",
   "id": "dd0ee3dd",
   "metadata": {},
   "source": [
    "### 작업 2유형 \n",
    "데이터 설명 : 센서데이터로 동작 유형 분류 (종속변수 pose : 0 ,1 구분)  \n",
    "x_train: https://raw.githubusercontent.com/Datamanim/datarepo/main/muscle/x_train.csv  \n",
    "y_train: https://raw.githubusercontent.com/Datamanim/datarepo/main/muscle/y_train.csv  \n",
    "x_test: https://raw.githubusercontent.com/Datamanim/datarepo/main/muscle/x_test.csv  "
   ]
  },
  {
   "cell_type": "code",
   "execution_count": 59,
   "id": "949aa803",
   "metadata": {},
   "outputs": [
    {
     "data": {
      "text/html": [
       "<div>\n",
       "<style scoped>\n",
       "    .dataframe tbody tr th:only-of-type {\n",
       "        vertical-align: middle;\n",
       "    }\n",
       "\n",
       "    .dataframe tbody tr th {\n",
       "        vertical-align: top;\n",
       "    }\n",
       "\n",
       "    .dataframe thead th {\n",
       "        text-align: right;\n",
       "    }\n",
       "</style>\n",
       "<table border=\"1\" class=\"dataframe\">\n",
       "  <thead>\n",
       "    <tr style=\"text-align: right;\">\n",
       "      <th></th>\n",
       "      <th>ID</th>\n",
       "      <th>motion_0</th>\n",
       "      <th>motion_1</th>\n",
       "      <th>motion_2</th>\n",
       "      <th>motion_3</th>\n",
       "      <th>motion_4</th>\n",
       "      <th>motion_5</th>\n",
       "      <th>motion_6</th>\n",
       "      <th>motion_7</th>\n",
       "      <th>motion_8</th>\n",
       "      <th>...</th>\n",
       "      <th>motion_54</th>\n",
       "      <th>motion_55</th>\n",
       "      <th>motion_56</th>\n",
       "      <th>motion_57</th>\n",
       "      <th>motion_58</th>\n",
       "      <th>motion_59</th>\n",
       "      <th>motion_60</th>\n",
       "      <th>motion_61</th>\n",
       "      <th>motion_62</th>\n",
       "      <th>motion_63</th>\n",
       "    </tr>\n",
       "  </thead>\n",
       "  <tbody>\n",
       "    <tr>\n",
       "      <th>0</th>\n",
       "      <td>0</td>\n",
       "      <td>1.0</td>\n",
       "      <td>-2.0</td>\n",
       "      <td>-1.0</td>\n",
       "      <td>4.0</td>\n",
       "      <td>-5.0</td>\n",
       "      <td>-4.0</td>\n",
       "      <td>1.0</td>\n",
       "      <td>0.0</td>\n",
       "      <td>-15.0</td>\n",
       "      <td>...</td>\n",
       "      <td>0.0</td>\n",
       "      <td>-1.0</td>\n",
       "      <td>-13.0</td>\n",
       "      <td>-3.0</td>\n",
       "      <td>1.0</td>\n",
       "      <td>-1.0</td>\n",
       "      <td>-32.0</td>\n",
       "      <td>-22.0</td>\n",
       "      <td>-2.0</td>\n",
       "      <td>-3.0</td>\n",
       "    </tr>\n",
       "    <tr>\n",
       "      <th>1</th>\n",
       "      <td>2</td>\n",
       "      <td>20.0</td>\n",
       "      <td>0.0</td>\n",
       "      <td>0.0</td>\n",
       "      <td>1.0</td>\n",
       "      <td>5.0</td>\n",
       "      <td>6.0</td>\n",
       "      <td>-52.0</td>\n",
       "      <td>18.0</td>\n",
       "      <td>15.0</td>\n",
       "      <td>...</td>\n",
       "      <td>-70.0</td>\n",
       "      <td>-55.0</td>\n",
       "      <td>-38.0</td>\n",
       "      <td>-14.0</td>\n",
       "      <td>-12.0</td>\n",
       "      <td>-8.0</td>\n",
       "      <td>-34.0</td>\n",
       "      <td>-63.0</td>\n",
       "      <td>-87.0</td>\n",
       "      <td>-77.0</td>\n",
       "    </tr>\n",
       "    <tr>\n",
       "      <th>2</th>\n",
       "      <td>4</td>\n",
       "      <td>1.0</td>\n",
       "      <td>-1.0</td>\n",
       "      <td>1.0</td>\n",
       "      <td>4.0</td>\n",
       "      <td>-5.0</td>\n",
       "      <td>-8.0</td>\n",
       "      <td>1.0</td>\n",
       "      <td>-3.0</td>\n",
       "      <td>-14.0</td>\n",
       "      <td>...</td>\n",
       "      <td>1.0</td>\n",
       "      <td>12.0</td>\n",
       "      <td>-25.0</td>\n",
       "      <td>0.0</td>\n",
       "      <td>0.0</td>\n",
       "      <td>3.0</td>\n",
       "      <td>2.0</td>\n",
       "      <td>-27.0</td>\n",
       "      <td>1.0</td>\n",
       "      <td>0.0</td>\n",
       "    </tr>\n",
       "    <tr>\n",
       "      <th>3</th>\n",
       "      <td>5</td>\n",
       "      <td>13.0</td>\n",
       "      <td>2.0</td>\n",
       "      <td>1.0</td>\n",
       "      <td>-3.0</td>\n",
       "      <td>1.0</td>\n",
       "      <td>3.0</td>\n",
       "      <td>28.0</td>\n",
       "      <td>3.0</td>\n",
       "      <td>12.0</td>\n",
       "      <td>...</td>\n",
       "      <td>0.0</td>\n",
       "      <td>-21.0</td>\n",
       "      <td>-17.0</td>\n",
       "      <td>-2.0</td>\n",
       "      <td>0.0</td>\n",
       "      <td>-4.0</td>\n",
       "      <td>-17.0</td>\n",
       "      <td>-21.0</td>\n",
       "      <td>-21.0</td>\n",
       "      <td>25.0</td>\n",
       "    </tr>\n",
       "    <tr>\n",
       "      <th>4</th>\n",
       "      <td>6</td>\n",
       "      <td>-2.0</td>\n",
       "      <td>-7.0</td>\n",
       "      <td>-4.0</td>\n",
       "      <td>-8.0</td>\n",
       "      <td>16.0</td>\n",
       "      <td>44.0</td>\n",
       "      <td>1.0</td>\n",
       "      <td>3.0</td>\n",
       "      <td>-16.0</td>\n",
       "      <td>...</td>\n",
       "      <td>-1.0</td>\n",
       "      <td>2.0</td>\n",
       "      <td>-1.0</td>\n",
       "      <td>1.0</td>\n",
       "      <td>4.0</td>\n",
       "      <td>4.0</td>\n",
       "      <td>-17.0</td>\n",
       "      <td>-38.0</td>\n",
       "      <td>-3.0</td>\n",
       "      <td>3.0</td>\n",
       "    </tr>\n",
       "  </tbody>\n",
       "</table>\n",
       "<p>5 rows × 65 columns</p>\n",
       "</div>"
      ],
      "text/plain": [
       "   ID  motion_0  motion_1  motion_2  motion_3  motion_4  motion_5  motion_6  \\\n",
       "0   0       1.0      -2.0      -1.0       4.0      -5.0      -4.0       1.0   \n",
       "1   2      20.0       0.0       0.0       1.0       5.0       6.0     -52.0   \n",
       "2   4       1.0      -1.0       1.0       4.0      -5.0      -8.0       1.0   \n",
       "3   5      13.0       2.0       1.0      -3.0       1.0       3.0      28.0   \n",
       "4   6      -2.0      -7.0      -4.0      -8.0      16.0      44.0       1.0   \n",
       "\n",
       "   motion_7  motion_8  ...  motion_54  motion_55  motion_56  motion_57  \\\n",
       "0       0.0     -15.0  ...        0.0       -1.0      -13.0       -3.0   \n",
       "1      18.0      15.0  ...      -70.0      -55.0      -38.0      -14.0   \n",
       "2      -3.0     -14.0  ...        1.0       12.0      -25.0        0.0   \n",
       "3       3.0      12.0  ...        0.0      -21.0      -17.0       -2.0   \n",
       "4       3.0     -16.0  ...       -1.0        2.0       -1.0        1.0   \n",
       "\n",
       "   motion_58  motion_59  motion_60  motion_61  motion_62  motion_63  \n",
       "0        1.0       -1.0      -32.0      -22.0       -2.0       -3.0  \n",
       "1      -12.0       -8.0      -34.0      -63.0      -87.0      -77.0  \n",
       "2        0.0        3.0        2.0      -27.0        1.0        0.0  \n",
       "3        0.0       -4.0      -17.0      -21.0      -21.0       25.0  \n",
       "4        4.0        4.0      -17.0      -38.0       -3.0        3.0  \n",
       "\n",
       "[5 rows x 65 columns]"
      ]
     },
     "metadata": {},
     "output_type": "display_data"
    },
    {
     "data": {
      "text/html": [
       "<div>\n",
       "<style scoped>\n",
       "    .dataframe tbody tr th:only-of-type {\n",
       "        vertical-align: middle;\n",
       "    }\n",
       "\n",
       "    .dataframe tbody tr th {\n",
       "        vertical-align: top;\n",
       "    }\n",
       "\n",
       "    .dataframe thead th {\n",
       "        text-align: right;\n",
       "    }\n",
       "</style>\n",
       "<table border=\"1\" class=\"dataframe\">\n",
       "  <thead>\n",
       "    <tr style=\"text-align: right;\">\n",
       "      <th></th>\n",
       "      <th>ID</th>\n",
       "      <th>pose</th>\n",
       "    </tr>\n",
       "  </thead>\n",
       "  <tbody>\n",
       "    <tr>\n",
       "      <th>0</th>\n",
       "      <td>0</td>\n",
       "      <td>1</td>\n",
       "    </tr>\n",
       "    <tr>\n",
       "      <th>1</th>\n",
       "      <td>2</td>\n",
       "      <td>0</td>\n",
       "    </tr>\n",
       "    <tr>\n",
       "      <th>2</th>\n",
       "      <td>4</td>\n",
       "      <td>1</td>\n",
       "    </tr>\n",
       "    <tr>\n",
       "      <th>3</th>\n",
       "      <td>5</td>\n",
       "      <td>0</td>\n",
       "    </tr>\n",
       "    <tr>\n",
       "      <th>4</th>\n",
       "      <td>6</td>\n",
       "      <td>1</td>\n",
       "    </tr>\n",
       "  </tbody>\n",
       "</table>\n",
       "</div>"
      ],
      "text/plain": [
       "   ID  pose\n",
       "0   0     1\n",
       "1   2     0\n",
       "2   4     1\n",
       "3   5     0\n",
       "4   6     1"
      ]
     },
     "metadata": {},
     "output_type": "display_data"
    }
   ],
   "source": [
    "#데이터 로드\n",
    "x_train = pd.read_csv(\"https://raw.githubusercontent.com/Datamanim/datarepo/main/muscle/x_train.csv\")\n",
    "y_train = pd.read_csv(\"https://raw.githubusercontent.com/Datamanim/datarepo/main/muscle/y_train.csv\")\n",
    "test= pd.read_csv(\"https://raw.githubusercontent.com/Datamanim/datarepo/main/muscle/x_test.csv\")\n",
    "\n",
    "display(x_train.head())\n",
    "display(y_train.head())"
   ]
  },
  {
   "cell_type": "code",
   "execution_count": 64,
   "id": "cc12b52b",
   "metadata": {},
   "outputs": [],
   "source": [
    "from sklearn.model_selection import train_test_split\n",
    "from sklearn.preprocessing import StandardScaler\n",
    "from sklearn.linear_model import LogisticRegression\n",
    "from sklearn.metrics import roc_auc_score\n",
    "from sklearn.metrics import classification_report\n",
    "\n",
    "#ID는 불필요하므로 제외 \n",
    "y = y_train.drop('ID', axis=1)\n",
    "X = x_train.drop('ID', axis=1)\n",
    "test_drop = test.drop('ID', axis=1)"
   ]
  },
  {
   "cell_type": "code",
   "execution_count": 65,
   "id": "27f97e7e",
   "metadata": {},
   "outputs": [
    {
     "name": "stdout",
     "output_type": "stream",
     "text": [
      "(3115, 64) (1535, 64) (3115, 1) (1535, 1)\n"
     ]
    }
   ],
   "source": [
    "# 변수 스케일링 후, 분리 \n",
    "scaler = StandardScaler()\n",
    "X_scaled = scaler.fit_transform(X)\n",
    "X_test_scaled = scaler.transform(test_drop)\n",
    "\n",
    "X_train, X_test, y_train, y_test = train_test_split(X_scaled, y, test_size=0.33, random_state=42)\n",
    "print(X_train.shape, X_test.shape, y_train.shape, y_test.shape)"
   ]
  },
  {
   "cell_type": "code",
   "execution_count": 70,
   "id": "560d3d6f",
   "metadata": {},
   "outputs": [
    {
     "name": "stderr",
     "output_type": "stream",
     "text": [
      "c:\\Users\\Seoyeon\\AppData\\Local\\Programs\\Python\\Python312\\Lib\\site-packages\\sklearn\\utils\\validation.py:1310: DataConversionWarning: A column-vector y was passed when a 1d array was expected. Please change the shape of y to (n_samples, ), for example using ravel().\n",
      "  y = column_or_1d(y, warn=True)\n"
     ]
    },
    {
     "data": {
      "text/plain": [
       "array([[0.37834377, 0.62165623],\n",
       "       [0.49780271, 0.50219729],\n",
       "       [0.190869  , 0.809131  ],\n",
       "       ...,\n",
       "       [0.52925625, 0.47074375],\n",
       "       [0.56814884, 0.43185116],\n",
       "       [0.48140692, 0.51859308]])"
      ]
     },
     "execution_count": 70,
     "metadata": {},
     "output_type": "execute_result"
    }
   ],
   "source": [
    "# 훈련 \n",
    "lr = LogisticRegression()\n",
    "lr.fit(X_train, y_train)\n",
    "\n",
    "pred = lr.predict_proba(X_test)\n",
    "pred"
   ]
  },
  {
   "cell_type": "code",
   "execution_count": 72,
   "id": "6e667b4c",
   "metadata": {},
   "outputs": [
    {
     "name": "stdout",
     "output_type": "stream",
     "text": [
      "validation_auc :  0.563216400478053\n"
     ]
    }
   ],
   "source": [
    "# 평가 \n",
    "print('validation_auc : ', roc_auc_score(y_test, pred[:,1]))"
   ]
  },
  {
   "cell_type": "code",
   "execution_count": 73,
   "id": "45bacde0",
   "metadata": {},
   "outputs": [],
   "source": [
    "# 제출 \n",
    "pd.DataFrame({'id': test.ID, 'pose': lr.predict_proba(X_test_scaled)[:,1]}).to_csv('submission3.csv', index=False)"
   ]
  },
  {
   "cell_type": "code",
   "execution_count": null,
   "id": "98a7f384",
   "metadata": {},
   "outputs": [],
   "source": []
  }
 ],
 "metadata": {
  "kernelspec": {
   "display_name": "Python 3",
   "language": "python",
   "name": "python3"
  },
  "language_info": {
   "codemirror_mode": {
    "name": "ipython",
    "version": 3
   },
   "file_extension": ".py",
   "mimetype": "text/x-python",
   "name": "python",
   "nbconvert_exporter": "python",
   "pygments_lexer": "ipython3",
   "version": "3.12.0"
  }
 },
 "nbformat": 4,
 "nbformat_minor": 5
}
