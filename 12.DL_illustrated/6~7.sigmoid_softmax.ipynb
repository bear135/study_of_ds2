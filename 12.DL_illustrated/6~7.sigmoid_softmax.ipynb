{
 "cells": [
  {
   "cell_type": "markdown",
   "id": "cf59b422",
   "metadata": {},
   "source": [
    "## 시그모이드 활성화 함수"
   ]
  },
  {
   "cell_type": "code",
   "execution_count": 3,
   "id": "47ae378e",
   "metadata": {},
   "outputs": [],
   "source": [
    "# 시그모이드 함수 정의 \n",
    "import numpy as np\n",
    "\n",
    "def sigmoid(z): \n",
    "    return 1 / (1 + np.exp(-z))"
   ]
  },
  {
   "cell_type": "code",
   "execution_count": 4,
   "id": "1a4abad2",
   "metadata": {},
   "outputs": [
    {
     "data": {
      "text/plain": [
       "(0.2689414213699951, 0.5, 0.9999546021312976, 1.0)"
      ]
     },
     "execution_count": 4,
     "metadata": {},
     "output_type": "execute_result"
    }
   ],
   "source": [
    "# z값이 작아질수록 0에 가깞고, 커질수록 1에 가까워 진다. \n",
    "# z = 0 이면 0.5가 된다. \n",
    "sigmoid(-1), sigmoid(0), sigmoid(10), sigmoid(100)"
   ]
  },
  {
   "cell_type": "markdown",
   "id": "5aec52d7",
   "metadata": {},
   "source": [
    "- 시그모이드 함수는 훈련속도가 느리다. \n",
    "- tanh : 시그모이드가 0~1 사이의 값인데 비해, tanh는 -1~1 사이의 값을 가진다. \n",
    "- ReLU : z가 양수이면 그대로 반환하고, 음수이면 0을 반환한다. --> 계산속도가 매우 빠르다. "
   ]
  },
  {
   "cell_type": "markdown",
   "id": "5a16c4c7",
   "metadata": {},
   "source": [
    "---"
   ]
  },
  {
   "cell_type": "markdown",
   "id": "3fccafca",
   "metadata": {},
   "source": [
    "## Softmax\n",
    "- sigmoid는 이진분류에 한정, mnist와 같은 다중분류를 위해서는 softmax 사용\n",
    "- softmax는 대상이 다중 클래스의 어느 하나일 가능성을 확률로써 표시함 "
   ]
  },
  {
   "cell_type": "code",
   "execution_count": 5,
   "id": "dbd073b4",
   "metadata": {},
   "outputs": [],
   "source": [
    "z = [-1.0, 1.0, 5.0]"
   ]
  },
  {
   "cell_type": "code",
   "execution_count": 7,
   "id": "a5409495",
   "metadata": {},
   "outputs": [
    {
     "data": {
      "text/plain": [
       "(0.36787944117144233, 2.718281828459045, 148.4131591025766)"
      ]
     },
     "execution_count": 7,
     "metadata": {},
     "output_type": "execute_result"
    }
   ],
   "source": [
    "np.exp(z[0]), np.exp(z[1]), np.exp(z[2])"
   ]
  },
  {
   "cell_type": "code",
   "execution_count": 8,
   "id": "03e90e85",
   "metadata": {},
   "outputs": [
    {
     "data": {
      "text/plain": [
       "151.49932037220708"
      ]
     },
     "execution_count": 8,
     "metadata": {},
     "output_type": "execute_result"
    }
   ],
   "source": [
    "total = np.exp(z[0]) + np.exp(z[1]) + np.exp(z[2])\n",
    "total"
   ]
  },
  {
   "cell_type": "code",
   "execution_count": 9,
   "id": "8d2cc594",
   "metadata": {},
   "outputs": [
    {
     "data": {
      "text/plain": [
       "(0.0024282580295913376, 0.017942534803329194, 0.9796292071670795)"
      ]
     },
     "execution_count": 9,
     "metadata": {},
     "output_type": "execute_result"
    }
   ],
   "source": [
    "np.exp(z[0])/total, np.exp(z[1])/total, np.exp(z[2])/total"
   ]
  },
  {
   "cell_type": "code",
   "execution_count": 10,
   "id": "c5a53d12",
   "metadata": {},
   "outputs": [
    {
     "data": {
      "text/plain": [
       "1.0"
      ]
     },
     "execution_count": 10,
     "metadata": {},
     "output_type": "execute_result"
    }
   ],
   "source": [
    "np.exp(z[0])/total + np.exp(z[1])/total + np.exp(z[2])/total"
   ]
  },
  {
   "cell_type": "code",
   "execution_count": null,
   "id": "fa5e3f4d",
   "metadata": {},
   "outputs": [],
   "source": []
  }
 ],
 "metadata": {
  "kernelspec": {
   "display_name": "Python (tf_metal)",
   "language": "python",
   "name": "tf_metal"
  },
  "language_info": {
   "codemirror_mode": {
    "name": "ipython",
    "version": 3
   },
   "file_extension": ".py",
   "mimetype": "text/x-python",
   "name": "python",
   "nbconvert_exporter": "python",
   "pygments_lexer": "ipython3",
   "version": "3.12.10"
  }
 },
 "nbformat": 4,
 "nbformat_minor": 5
}
