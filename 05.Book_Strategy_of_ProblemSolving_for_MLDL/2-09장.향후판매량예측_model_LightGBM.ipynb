{
 "cells": [
  {
   "cell_type": "markdown",
   "metadata": {},
   "source": [
    "---\n",
    "#### Basic LightGBM modeling \n",
    "---"
   ]
  },
  {
   "cell_type": "code",
   "execution_count": 30,
   "metadata": {},
   "outputs": [],
   "source": [
    "import numpy as np \n",
    "import pandas as pd\n",
    "import matplotlib.pyplot as plt \n",
    "import seaborn as sns\n",
    "sns.set_theme(style=\"whitegrid\", palette=\"pastel\", \n",
    "              rc={\"font.size\": 9, \"axes.titlesize\": 9, \"axes.labelsize\": 9,\n",
    "              \"xtick.labelsize\": 9, \"ytick.labelsize\": 9})  \n",
    "\n",
    "import warnings\n",
    "warnings.filterwarnings(action='ignore')  ## 경고문구 생략 \n",
    "import koreanize_matplotlib               ## 한글사용 \n",
    "\n",
    "#data loading\n",
    "data_path = 'kaggle/input/competitive-data-science-predict-future-sales/'\n",
    "submission = pd.read_csv(data_path + 'sample_submission.csv')\n",
    "\n",
    "X_train = pd.read_csv('temp_data/X_train.csv') \n",
    "X_valid = pd.read_csv('temp_data/X_valid.csv') \n",
    "X_test = pd.read_csv('temp_data/X_test.csv') \n",
    "y_train = pd.read_csv('temp_data/y_train.csv') \n",
    "y_valid = pd.read_csv('temp_data/y_valid.csv') "
   ]
  },
  {
   "cell_type": "code",
   "execution_count": 31,
   "metadata": {},
   "outputs": [
    {
     "name": "stdout",
     "output_type": "stream",
     "text": [
      "(10675678, 4) (238172, 4) (214200, 4) (10675678, 1) (238172, 1)\n"
     ]
    }
   ],
   "source": [
    "print(X_train.shape, X_valid.shape, X_test.shape, y_train.shape, y_valid.shape) "
   ]
  },
  {
   "cell_type": "code",
   "execution_count": 32,
   "metadata": {},
   "outputs": [],
   "source": [
    "import lightgbm as lgb \n",
    "\n",
    "## Light GBM parameters setting \n",
    "params = {'metric' : 'rmse', \n",
    "          'num_leaves' : 255, \n",
    "          'learning_rate' : 0.01, \n",
    "          'force_col_wise' : True, \n",
    "          'random_state' : 10,\n",
    "          'verbose': -1     # verbose -1/0/1 ~ 로그출력 x / 에러만 출력 / 모든로그 출력\n",
    "           }\n",
    "\n",
    "## categorical features setting \n",
    "cat_features = ['상점ID', '상품분류ID']\n",
    "\n",
    "## Light GBM train/valid dataset \n",
    "dtrain = lgb.Dataset(X_train, y_train)\n",
    "dvalid = lgb.Dataset(X_valid, y_valid)\n",
    "\n",
    "## model training \n",
    "lgb_model = lgb.train(params=params,\n",
    "                      train_set=dtrain,\n",
    "                      num_boost_round=500,\n",
    "                      valid_sets=(dtrain, dvalid),\n",
    "                      categorical_feature=cat_features)                      "
   ]
  },
  {
   "cell_type": "code",
   "execution_count": 33,
   "metadata": {},
   "outputs": [
    {
     "name": "stdout",
     "output_type": "stream",
     "text": [
      "Final training RMSE: 1.0479198713313367\n",
      "Final validation RMSE: 1.007217092789256\n"
     ]
    }
   ],
   "source": [
    "## 훈련결과 확인 \n",
    "from sklearn.metrics import mean_squared_error\n",
    "\n",
    "# 훈련 데이터와 검증 데이터에 대한 예측 수행\n",
    "train_pred = lgb_model.predict(X_train)\n",
    "valid_pred = lgb_model.predict(X_valid)\n",
    "\n",
    "# RMSE 계산\n",
    "train_rmse = np.sqrt(mean_squared_error(y_train, train_pred))\n",
    "valid_rmse = np.sqrt(mean_squared_error(y_valid, valid_pred))\n",
    "\n",
    "# 최종 훈련 및 검증 RMSE 출력\n",
    "print(f\"Final training RMSE: {train_rmse}\")\n",
    "print(f\"Final validation RMSE: {valid_rmse}\")"
   ]
  },
  {
   "cell_type": "code",
   "execution_count": 35,
   "metadata": {},
   "outputs": [
    {
     "name": "stdout",
     "output_type": "stream",
     "text": [
      "   ID  item_cnt_month\n",
      "0   0             0.5\n",
      "1   1             0.5\n",
      "2   2             0.5\n",
      "3   3             0.5\n",
      "4   4             0.5\n"
     ]
    }
   ],
   "source": [
    "## 제출파일 생성 (0~20 사이의 값이어야 함) \n",
    "print(submission.head())\n",
    "\n",
    "preds = lgb_model.predict(X_test).clip(0,20)\n",
    "submission['item_cnt_month'] = preds  \n",
    "submission.to_csv('submission.csv', index=False)"
   ]
  },
  {
   "cell_type": "code",
   "execution_count": 36,
   "metadata": {},
   "outputs": [
    {
     "data": {
      "image/png": "[encoded data removed]",
      "text/plain": [
       "<IPython.core.display.Image object>"
      ]
     },
     "execution_count": 36,
     "metadata": {},
     "output_type": "execute_result"
    }
   ],
   "source": [
    "from IPython.display import Image\n",
    "Image('images/score_2_09.PNG')"
   ]
  },
  {
   "cell_type": "code",
   "execution_count": null,
   "metadata": {},
   "outputs": [],
   "source": []
  }
 ],
 "metadata": {
  "kernelspec": {
   "display_name": "Python 3",
   "language": "python",
   "name": "python3"
  },
  "language_info": {
   "codemirror_mode": {
    "name": "ipython",
    "version": 3
   },
   "file_extension": ".py",
   "mimetype": "text/x-python",
   "name": "python",
   "nbconvert_exporter": "python",
   "pygments_lexer": "ipython3",
   "version": "3.12.0"
  }
 },
 "nbformat": 4,
 "nbformat_minor": 2
}
