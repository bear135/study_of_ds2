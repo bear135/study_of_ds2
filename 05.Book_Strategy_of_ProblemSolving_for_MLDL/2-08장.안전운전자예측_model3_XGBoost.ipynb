{
 "cells": [
  {
   "cell_type": "markdown",
   "metadata": {},
   "source": [
    "---\n",
    "### model 3 : XGBoost\n",
    "---"
   ]
  },
  {
   "cell_type": "code",
   "execution_count": 10,
   "metadata": {},
   "outputs": [],
   "source": [
    "#앞서와 동일하게 데이터 전처리 \n",
    "import numpy as np \n",
    "import pandas as pd\n",
    "import matplotlib.pyplot as plt \n",
    "import seaborn as sns\n",
    "sns.set_theme(style=\"whitegrid\", palette=\"pastel\", \n",
    "              rc={\"font.size\": 9, \"axes.titlesize\": 9, \"axes.labelsize\": 9,\n",
    "              \"xtick.labelsize\": 9, \"ytick.labelsize\": 9})  \n",
    "\n",
    "#data loading\n",
    "data_path = 'kaggle/input/porto-seguro-safe-driver-prediction/'\n",
    "train = pd.read_csv(data_path + 'train.csv', index_col = 'id')\n",
    "test = pd.read_csv(data_path + 'test.csv', index_col = 'id')\n",
    "submission = pd.read_csv(data_path + 'sample_submission.csv', index_col = 'id')\n",
    "\n",
    "#인코딩을 위한 데이터 합치기 \n",
    "all_data = pd.concat([train, test], ignore_index=True)\n",
    "all_data = all_data.drop('target', axis=1)\n",
    "#전체 변수리스트  \n",
    "all_features = all_data.columns \n",
    "\n",
    "#nominal features --> one-hot encoding \n",
    "from sklearn.preprocessing import OneHotEncoder\n",
    "cat_features = [feature for feature in all_features if 'cat' in feature]\n",
    "\n",
    "onehot_encoder = OneHotEncoder()\n",
    "encoded_cat_matrix = onehot_encoder.fit_transform(all_data[cat_features])\n",
    "\n",
    "#결측값 갯수를 파생변수로 \n",
    "all_data['num_missing'] = (all_data == -1).sum(axis=1)\n",
    "\n",
    "#remaining_features 정의 : nominal, calc이 아닌 변수\n",
    "remaining_features = [feature for feature in all_features\n",
    "                      if ('cat' not in feature and 'calc' not in feature) ]\n",
    "\n",
    "#결측값 파생변수(num_minning) 추가\n",
    "remaining_features.append('num_missing')\n",
    "\n",
    "#모든 ind 변수들의 값을 _로 연결한 mix_ind 생성 \n",
    "ind_features = [feature for feature in all_features\n",
    "                if 'ind' in feature] \n",
    "\n",
    "is_first_feature = True \n",
    "for ind_feature in ind_features : \n",
    "    if is_first_feature : \n",
    "        all_data['mix_ind'] = all_data[ind_feature].astype(str) + '_'\n",
    "        is_first_feature = False\n",
    "    else : \n",
    "        all_data['mix_ind'] += all_data[ind_feature].astype(str) + '_'\n",
    "\n",
    "\n",
    "#명목형 변수들(cat, mix_ind)의 고유값별 갯수를 파생변수로 만들기 \n",
    "cat_count_features = []\n",
    "for feature in cat_features+['mix_ind'] :\n",
    "    val_counts_dict = all_data[feature].value_counts().to_dict()\n",
    "    all_data[f'{feature}_count'] = all_data[feature].apply(lambda x : val_counts_dict[x])\n",
    "    cat_count_features.append(f'{feature}_count')\n",
    "\n",
    "## 생성된 변수들 \n",
    "  #1) encoded_cat_matrix : 원핫 인코딩된 명목변수 \n",
    "  #2) remaining_features : 명목형과 calc분류를 제외한 변수들 (num_missing 변수 추가)\n",
    "  #3) cat_count_featues : max_ind를 포함한 명목평 변수들의 고유값별 갯수 \n",
    "\n",
    "#불필요한 변수들 제거하고, 데이터 합치기 \n",
    "from scipy import sparse \n",
    "\n",
    "drop_features = ['ps_ind_14', 'ps_ind_10_bin', 'ps_ind_11_bin', 'ps_ind_12_bin', 'ps_ind_13_bin', 'ps_car_14']\n",
    "all_data_remaining = all_data[remaining_features + cat_count_features].drop(drop_features, axis=1)\n",
    "\n",
    "all_data_sprs = sparse.hstack([sparse.csr_matrix(all_data_remaining), \n",
    "                               encoded_cat_matrix], format = 'csr')\n",
    "\n",
    "#다시 train/test 데이터 분리 \n",
    "num_train = len(train)\n",
    "\n",
    "X = all_data_sprs[:num_train]\n",
    "X_test = all_data_sprs[num_train:]\n",
    "y = train['target'].values\n"
   ]
  },
  {
   "cell_type": "markdown",
   "metadata": {},
   "source": [
    "- LightGBM과 XGBoost의 코드 차이 \n",
    "  1) lgb.Dataset() --> xgb.DMatrix()\n",
    "  2) gini() 함수 : lgb는 평가지표(gini)/평가점수(score)/점수가 높으면 좋은지 여부(True) 반환 --> xgb는 평가지표/평가점수 만 반환 \n",
    "  3) eval_function() : 파라미터 문법 "
   ]
  },
  {
   "cell_type": "code",
   "execution_count": 11,
   "metadata": {},
   "outputs": [],
   "source": [
    "#dataset \n",
    "import xgboost as xgb\n",
    "from sklearn.model_selection import train_test_split\n",
    "\n",
    "X_train, X_valid, y_train, y_valid = train_test_split(X, y, test_size=0.2, random_state=0)\n",
    "\n",
    "#베이지안 최적화용 데이터셋\n",
    "bayes_dtrain = xgb.DMatrix(X_train, y_train)\n",
    "bayes_dvalid = xgb.DMatrix(X_valid, y_valid)"
   ]
  },
  {
   "cell_type": "code",
   "execution_count": 12,
   "metadata": {},
   "outputs": [],
   "source": [
    "#파라미터 설정 \n",
    "params_bounds = {'max_depth': (4,8),               ##트리의 최대깊이 \n",
    "                 'subsample': (0.6, 0.9),          ##각 트리의 학습에 사용되는 데이터 샘플의 비율. 1보다 작으면 과적합을 줄이는 데 도움\n",
    "                 'colsample_bytree': (0.7, 1.0),   ##각 트리의 학습에 사용되는 피처의 비율\n",
    "                 'min_child_weight': (5, 7),       ##리프 노드가 되기 위해 필요한 최소한의 데이터 가중치 합. 값이 클수록 과적합이 감소\n",
    "                 'gamma': (8, 11),                 ##트리의 리프 노드를 추가적으로 분할하기 위한 최소 손실 감소 값. 값이 클수록 모델의 복잡도가 낮아짐\n",
    "                 'reg_alpha': (7, 9),              ##정규화 항의 가중치. 모델의 복잡도를 줄이기 위해 사용\n",
    "                 'reg_lambda':(1.1, 1.5),          ##정규화 항의 가중치. 모델의 복잡도를 줄이기 위해 사용\n",
    "                 'scale_pos_weight': (1.4, 1.6)}   ##불균형 데이터셋의 균형을 맞추기 위해 사용되는 양성 클래스의 가중치\n",
    "\n",
    "fixed_params = {'objective': 'binary:logistic',    ##이진분류를 위해 로지스틱을 사용함 \n",
    "                'learning_rate': 0.02, \n",
    "                'random_state': 1991 }"
   ]
  },
  {
   "cell_type": "code",
   "execution_count": 13,
   "metadata": {},
   "outputs": [],
   "source": [
    "#XGBoost용 gini 함수 : 신백균 (https://www.kaggle.com/code/werooring/ch8-xgb-modeling)\n",
    "def gini(preds, dtrain): \n",
    "    labels = dtrain.get_label()\n",
    "    return 'gini', eval_gini(labels, preds)\n",
    "\n",
    "def eval_gini(y_true, y_pred):\n",
    "    # 실제값과 예측값의 크기가 같은지 확인 (값이 다르면 오류 발생)\n",
    "    assert y_true.shape == y_pred.shape\n",
    "\n",
    "    n_samples = y_true.shape[0]                      # 데이터 개수\n",
    "    L_mid = np.linspace(1 / n_samples, 1, n_samples) # 대각선 값\n",
    "\n",
    "    # 1) 예측값에 대한 지니계수\n",
    "    pred_order = y_true[y_pred.argsort()] # y_pred 크기순으로 y_true 값 정렬\n",
    "    L_pred = np.cumsum(pred_order) / np.sum(pred_order) # 로렌츠 곡선\n",
    "    G_pred = np.sum(L_mid - L_pred)       # 예측 값에 대한 지니계수\n",
    "\n",
    "    # 2) 예측이 완벽할 때 지니계수\n",
    "    true_order = y_true[y_true.argsort()] # y_true 크기순으로 y_true 값 정렬\n",
    "    L_true = np.cumsum(true_order) / np.sum(true_order) # 로렌츠 곡선\n",
    "    G_true = np.sum(L_mid - L_true)       # 예측이 완벽할 때 지니계수\n",
    "\n",
    "    # 정규화된 지니계수\n",
    "    return G_pred / G_true"
   ]
  },
  {
   "cell_type": "code",
   "execution_count": 17,
   "metadata": {},
   "outputs": [],
   "source": [
    "#베이지안 최적화를 위한 평가지표 계산 함수 \n",
    "def eval_function(max_depth, subsample, colsample_bytree, min_child_weight,\n",
    "                 reg_alpha, gamma, reg_lambda, scale_pos_weight):\n",
    "    '''최적화하려는 평가지표(지니계수) 계산 함수'''\n",
    "    # 베이지안 최적화를 수행할 하이퍼파라미터\n",
    "    params = {'max_depth': int(round(max_depth)),      ##트리의 최대 깊이 \n",
    "              'subsample': subsample,                  ##각 트리의 학습에 사용되는 데이터 샘플의 비율 설정. 1보다 작으면 과적합을 줄이는 데 도움\n",
    "              'colsample_bytree': colsample_bytree,    ##각 트리의 학습에 사용되는 피처의 비율을 설정. 피처 샘플링을 통해 모델의 다변성을 높이고 과적합 감소\n",
    "              'min_child_weight': min_child_weight,    ##리프 노드가 되기 위해 필요한 최소한의 데이터 가중치 합을 설정. 값이 클수록 모델이 더 보수적이게 되어 과적합 감소\n",
    "              'gamma': gamma,                          ##트리의 리프 노드를 추가적으로 분할하기 위한 최소 손실 감소 값을 설정. 값이 클수록 모델의 복잡도가 낮아짐 \n",
    "              'reg_alpha':reg_alpha,                   ##L1 정규화 항의 가중치를 설정\n",
    "              'reg_lambda': reg_lambda,                ##L2 정규화 항의 가중치를 설정\n",
    "              'scale_pos_weight': scale_pos_weight}    ##불균형 데이터셋의 균형을 맞추기 위해 사용되는 양성 클래스의 가중치를 설정. 클래스 불균형 문제를 해결하는 데 유용\n",
    "    # 값이 고정된 하이퍼파라미터도 추가\n",
    "    params.update(fixed_params)\n",
    "    \n",
    "    print('하이퍼파라미터 :', params)    \n",
    "        \n",
    "    # XGBoost 모델 훈련\n",
    "    xgb_model = xgb.train(params=params, \n",
    "                          dtrain=bayes_dtrain,\n",
    "                          num_boost_round=2000,\n",
    "                          evals=[(bayes_dvalid, 'bayes_dvalid')],\n",
    "                          maximize=True,\n",
    "                          feval=gini,\n",
    "                          early_stopping_rounds=200,\n",
    "                          verbose_eval=False\n",
    "                          )\n",
    "                           \n",
    "    best_iter = xgb_model.best_iteration # 최적 반복 횟수\n",
    "    # 검증 데이터로 예측 수행\n",
    "    preds = xgb_model.predict(bayes_dvalid, \n",
    "                              iteration_range=(0, best_iter))\n",
    "    # 지니계수 계산\n",
    "    gini_score = eval_gini(y_valid, preds)\n",
    "    print(f'지니계수 : {gini_score}\\n')\n",
    "    \n",
    "    return gini_score"
   ]
  },
  {
   "cell_type": "code",
   "execution_count": 18,
   "metadata": {},
   "outputs": [
    {
     "name": "stdout",
     "output_type": "stream",
     "text": [
      "|   iter    |  target   | colsam... |   gamma   | max_depth | min_ch... | reg_alpha | reg_la... | scale_... | subsample |\n",
      "-------------------------------------------------------------------------------------------------------------------------\n",
      "하이퍼파라미터 : {'max_depth': 6, 'subsample': 0.867531900234624, 'colsample_bytree': 0.8646440511781974, 'min_child_weight': 6.0897663659937935, 'gamma': 10.14556809911726, 'reg_alpha': 7.84730959867781, 'reg_lambda': 1.3583576452266626, 'scale_pos_weight': 1.4875174422525386, 'objective': 'binary:logistic', 'learning_rate': 0.02, 'random_state': 1991}\n"
     ]
    },
    {
     "name": "stderr",
     "output_type": "stream",
     "text": [
      "c:\\Users\\Seoyeon\\AppData\\Local\\Programs\\Python\\Python312\\Lib\\site-packages\\xgboost\\training.py:38: UserWarning: `feval` is deprecated, use `custom_metric` instead.  They have different behavior when custom objective is also used.See https://xgboost.readthedocs.io/en/latest/tutorials/custom_metric_obj.html for details on the `custom_metric`.\n",
      "  warnings.warn(\n"
     ]
    },
    {
     "name": "stdout",
     "output_type": "stream",
     "text": [
      "지니계수 : 0.2770918995329271\n",
      "\n",
      "| \u001b[0m1        \u001b[0m | \u001b[0m0.2771   \u001b[0m | \u001b[0m0.8646   \u001b[0m | \u001b[0m10.15    \u001b[0m | \u001b[0m6.411    \u001b[0m | \u001b[0m6.09     \u001b[0m | \u001b[0m7.847    \u001b[0m | \u001b[0m1.358    \u001b[0m | \u001b[0m1.488    \u001b[0m | \u001b[0m0.8675   \u001b[0m |\n",
      "하이퍼파라미터 : {'max_depth': 7, 'subsample': 0.6261387899104622, 'colsample_bytree': 0.9890988281503088, 'min_child_weight': 6.0577898395058085, 'gamma': 9.150324556477333, 'reg_alpha': 8.136089122187865, 'reg_lambda': 1.4702386553170643, 'scale_pos_weight': 1.4142072116395774, 'objective': 'binary:logistic', 'learning_rate': 0.02, 'random_state': 1991}\n",
      "지니계수 : 0.2785348596472599\n",
      "\n",
      "| \u001b[95m2        \u001b[0m | \u001b[95m0.2785   \u001b[0m | \u001b[95m0.9891   \u001b[0m | \u001b[95m9.15     \u001b[0m | \u001b[95m7.167    \u001b[0m | \u001b[95m6.058    \u001b[0m | \u001b[95m8.136    \u001b[0m | \u001b[95m1.47     \u001b[0m | \u001b[95m1.414    \u001b[0m | \u001b[95m0.6261   \u001b[0m |\n",
      "하이퍼파라미터 : {'max_depth': 7, 'subsample': 0.8341587528859367, 'colsample_bytree': 0.7060655192320977, 'min_child_weight': 6.7400242964936385, 'gamma': 10.497859536643814, 'reg_alpha': 8.957236684465528, 'reg_lambda': 1.4196634256866894, 'scale_pos_weight': 1.4922958724505864, 'objective': 'binary:logistic', 'learning_rate': 0.02, 'random_state': 1991}\n",
      "지니계수 : 0.2763707045490492\n",
      "\n",
      "| \u001b[0m3        \u001b[0m | \u001b[0m0.2764   \u001b[0m | \u001b[0m0.7061   \u001b[0m | \u001b[0m10.5     \u001b[0m | \u001b[0m7.113    \u001b[0m | \u001b[0m6.74     \u001b[0m | \u001b[0m8.957    \u001b[0m | \u001b[0m1.42     \u001b[0m | \u001b[0m1.492    \u001b[0m | \u001b[0m0.8342   \u001b[0m |\n",
      "하이퍼파라미터 : {'max_depth': 7, 'subsample': 0.7001630536555632, 'colsample_bytree': 0.8843124587484356, 'min_child_weight': 6.494091293383359, 'gamma': 10.452246227672624, 'reg_alpha': 8.551838810159788, 'reg_lambda': 1.3814765995549108, 'scale_pos_weight': 1.423280772455086, 'objective': 'binary:logistic', 'learning_rate': 0.02, 'random_state': 1991}\n"
     ]
    },
    {
     "name": "stderr",
     "output_type": "stream",
     "text": [
      "c:\\Users\\Seoyeon\\AppData\\Local\\Programs\\Python\\Python312\\Lib\\site-packages\\xgboost\\training.py:38: UserWarning: `feval` is deprecated, use `custom_metric` instead.  They have different behavior when custom objective is also used.See https://xgboost.readthedocs.io/en/latest/tutorials/custom_metric_obj.html for details on the `custom_metric`.\n",
      "  warnings.warn(\n"
     ]
    },
    {
     "name": "stdout",
     "output_type": "stream",
     "text": [
      "지니계수 : 0.27763413318913566\n",
      "\n",
      "| \u001b[0m4        \u001b[0m | \u001b[0m0.2776   \u001b[0m | \u001b[0m0.8843   \u001b[0m | \u001b[0m10.45    \u001b[0m | \u001b[0m6.838    \u001b[0m | \u001b[0m6.494    \u001b[0m | \u001b[0m8.552    \u001b[0m | \u001b[0m1.381    \u001b[0m | \u001b[0m1.423    \u001b[0m | \u001b[0m0.7002   \u001b[0m |\n",
      "하이퍼파라미터 : {'max_depth': 7, 'subsample': 0.8535233675350644, 'colsample_bytree': 0.92975858050776, 'min_child_weight': 6.249564429359247, 'gamma': 9.95563546750357, 'reg_alpha': 8.411512219837842, 'reg_lambda': 1.424460008293778, 'scale_pos_weight': 1.5416807226581535, 'objective': 'binary:logistic', 'learning_rate': 0.02, 'random_state': 1991}\n"
     ]
    },
    {
     "name": "stderr",
     "output_type": "stream",
     "text": [
      "c:\\Users\\Seoyeon\\AppData\\Local\\Programs\\Python\\Python312\\Lib\\site-packages\\xgboost\\training.py:38: UserWarning: `feval` is deprecated, use `custom_metric` instead.  They have different behavior when custom objective is also used.See https://xgboost.readthedocs.io/en/latest/tutorials/custom_metric_obj.html for details on the `custom_metric`.\n",
      "  warnings.warn(\n"
     ]
    },
    {
     "name": "stdout",
     "output_type": "stream",
     "text": [
      "지니계수 : 0.27812576532574423\n",
      "\n",
      "| \u001b[0m5        \u001b[0m | \u001b[0m0.2781   \u001b[0m | \u001b[0m0.9298   \u001b[0m | \u001b[0m9.956    \u001b[0m | \u001b[0m6.809    \u001b[0m | \u001b[0m6.25     \u001b[0m | \u001b[0m8.412    \u001b[0m | \u001b[0m1.424    \u001b[0m | \u001b[0m1.542    \u001b[0m | \u001b[0m0.8535   \u001b[0m |\n",
      "하이퍼파라미터 : {'max_depth': 7, 'subsample': 0.6462619019069298, 'colsample_bytree': 0.80929192865947, 'min_child_weight': 6.079999276892042, 'gamma': 9.553916776586505, 'reg_alpha': 8.860396362258099, 'reg_lambda': 1.4050740023119348, 'scale_pos_weight': 1.4668544695338273, 'objective': 'binary:logistic', 'learning_rate': 0.02, 'random_state': 1991}\n"
     ]
    },
    {
     "name": "stderr",
     "output_type": "stream",
     "text": [
      "c:\\Users\\Seoyeon\\AppData\\Local\\Programs\\Python\\Python312\\Lib\\site-packages\\xgboost\\training.py:38: UserWarning: `feval` is deprecated, use `custom_metric` instead.  They have different behavior when custom objective is also used.See https://xgboost.readthedocs.io/en/latest/tutorials/custom_metric_obj.html for details on the `custom_metric`.\n",
      "  warnings.warn(\n"
     ]
    },
    {
     "name": "stdout",
     "output_type": "stream",
     "text": [
      "지니계수 : 0.27915174611271043\n",
      "\n",
      "| \u001b[95m6        \u001b[0m | \u001b[95m0.2792   \u001b[0m | \u001b[95m0.8093   \u001b[0m | \u001b[95m9.554    \u001b[0m | \u001b[95m6.532    \u001b[0m | \u001b[95m6.08     \u001b[0m | \u001b[95m8.86     \u001b[0m | \u001b[95m1.405    \u001b[0m | \u001b[95m1.467    \u001b[0m | \u001b[95m0.6463   \u001b[0m |\n",
      "하이퍼파라미터 : {'max_depth': 7, 'subsample': 0.6931141936797243, 'colsample_bytree': 0.8817801730078565, 'min_child_weight': 6.992334203641873, 'gamma': 9.013424730095146, 'reg_alpha': 7.640858389939128, 'reg_lambda': 1.3562805915715632, 'scale_pos_weight': 1.449446257931491, 'objective': 'binary:logistic', 'learning_rate': 0.02, 'random_state': 1991}\n"
     ]
    },
    {
     "name": "stderr",
     "output_type": "stream",
     "text": [
      "c:\\Users\\Seoyeon\\AppData\\Local\\Programs\\Python\\Python312\\Lib\\site-packages\\xgboost\\training.py:38: UserWarning: `feval` is deprecated, use `custom_metric` instead.  They have different behavior when custom objective is also used.See https://xgboost.readthedocs.io/en/latest/tutorials/custom_metric_obj.html for details on the `custom_metric`.\n",
      "  warnings.warn(\n"
     ]
    },
    {
     "name": "stdout",
     "output_type": "stream",
     "text": [
      "지니계수 : 0.2810739973185967\n",
      "\n",
      "| \u001b[95m7        \u001b[0m | \u001b[95m0.2811   \u001b[0m | \u001b[95m0.8818   \u001b[0m | \u001b[95m9.013    \u001b[0m | \u001b[95m6.927    \u001b[0m | \u001b[95m6.992    \u001b[0m | \u001b[95m7.641    \u001b[0m | \u001b[95m1.356    \u001b[0m | \u001b[95m1.449    \u001b[0m | \u001b[95m0.6931   \u001b[0m |\n",
      "하이퍼파라미터 : {'max_depth': 7, 'subsample': 0.6189980960881654, 'colsample_bytree': 0.7878446238314734, 'min_child_weight': 7.0, 'gamma': 8.48342121044768, 'reg_alpha': 7.6248397474491245, 'reg_lambda': 1.271681379512945, 'scale_pos_weight': 1.4627902889435795, 'objective': 'binary:logistic', 'learning_rate': 0.02, 'random_state': 1991}\n"
     ]
    },
    {
     "name": "stderr",
     "output_type": "stream",
     "text": [
      "c:\\Users\\Seoyeon\\AppData\\Local\\Programs\\Python\\Python312\\Lib\\site-packages\\xgboost\\training.py:38: UserWarning: `feval` is deprecated, use `custom_metric` instead.  They have different behavior when custom objective is also used.See https://xgboost.readthedocs.io/en/latest/tutorials/custom_metric_obj.html for details on the `custom_metric`.\n",
      "  warnings.warn(\n"
     ]
    },
    {
     "name": "stdout",
     "output_type": "stream",
     "text": [
      "지니계수 : 0.2805923447688805\n",
      "\n",
      "| \u001b[0m8        \u001b[0m | \u001b[0m0.2806   \u001b[0m | \u001b[0m0.7878   \u001b[0m | \u001b[0m8.483    \u001b[0m | \u001b[0m6.742    \u001b[0m | \u001b[0m7.0      \u001b[0m | \u001b[0m7.625    \u001b[0m | \u001b[0m1.272    \u001b[0m | \u001b[0m1.463    \u001b[0m | \u001b[0m0.619    \u001b[0m |\n",
      "하이퍼파라미터 : {'max_depth': 7, 'subsample': 0.722424393855613, 'colsample_bytree': 1.0, 'min_child_weight': 7.0, 'gamma': 8.764657618443177, 'reg_alpha': 7.0, 'reg_lambda': 1.322083071699482, 'scale_pos_weight': 1.4331835191119615, 'objective': 'binary:logistic', 'learning_rate': 0.02, 'random_state': 1991}\n"
     ]
    },
    {
     "name": "stderr",
     "output_type": "stream",
     "text": [
      "c:\\Users\\Seoyeon\\AppData\\Local\\Programs\\Python\\Python312\\Lib\\site-packages\\xgboost\\training.py:38: UserWarning: `feval` is deprecated, use `custom_metric` instead.  They have different behavior when custom objective is also used.See https://xgboost.readthedocs.io/en/latest/tutorials/custom_metric_obj.html for details on the `custom_metric`.\n",
      "  warnings.warn(\n"
     ]
    },
    {
     "name": "stdout",
     "output_type": "stream",
     "text": [
      "지니계수 : 0.28019787207872776\n",
      "\n",
      "| \u001b[0m9        \u001b[0m | \u001b[0m0.2802   \u001b[0m | \u001b[0m1.0      \u001b[0m | \u001b[0m8.765    \u001b[0m | \u001b[0m7.361    \u001b[0m | \u001b[0m7.0      \u001b[0m | \u001b[0m7.0      \u001b[0m | \u001b[0m1.322    \u001b[0m | \u001b[0m1.433    \u001b[0m | \u001b[0m0.7224   \u001b[0m |\n",
      "=========================================================================================================================\n",
      "{'colsample_bytree': 0.8817801730078565, 'gamma': 9.013424730095146, 'max_depth': 6.927417000715145, 'min_child_weight': 6.992334203641873, 'reg_alpha': 7.640858389939128, 'reg_lambda': 1.3562805915715632, 'scale_pos_weight': 1.449446257931491, 'subsample': 0.6931141936797243}\n"
     ]
    }
   ],
   "source": [
    "#베이지안 최적화 수행 및 결과 확인 \n",
    "from bayes_opt import BayesianOptimization\n",
    "optimizer = BayesianOptimization(f = eval_function, \n",
    "                                 pbounds = params_bounds, \n",
    "                                 random_state = 0)\n",
    "\n",
    "optimizer.maximize(init_points = 3, n_iter = 6)\n",
    "\n",
    "#평가점수 최대일때의 파라미터값 출력 \n",
    "max_params = optimizer.max['params']\n",
    "print(max_params)"
   ]
  },
  {
   "cell_type": "code",
   "execution_count": 20,
   "metadata": {},
   "outputs": [
    {
     "data": {
      "text/plain": [
       "{'colsample_bytree': 0.8817801730078565,\n",
       " 'gamma': 9.013424730095146,\n",
       " 'max_depth': 7,\n",
       " 'min_child_weight': 6.992334203641873,\n",
       " 'reg_alpha': 7.640858389939128,\n",
       " 'reg_lambda': 1.3562805915715632,\n",
       " 'scale_pos_weight': 1.449446257931491,\n",
       " 'subsample': 0.6931141936797243,\n",
       " 'objective': 'binary:logistic',\n",
       " 'learning_rate': 0.02,\n",
       " 'random_state': 1991}"
      ]
     },
     "execution_count": 20,
     "metadata": {},
     "output_type": "execute_result"
    }
   ],
   "source": [
    "#max_depth를 정수로 변환 & fixed_params 추가 \n",
    "max_params['max_depth'] = int(round(max_params['max_depth']))\n",
    "max_params.update(fixed_params)\n",
    "max_params\n"
   ]
  },
  {
   "cell_type": "code",
   "execution_count": 24,
   "metadata": {},
   "outputs": [
    {
     "name": "stdout",
     "output_type": "stream",
     "text": [
      "################################################## fold 1 / fold 5 ##################################################\n"
     ]
    },
    {
     "name": "stderr",
     "output_type": "stream",
     "text": [
      "c:\\Users\\Seoyeon\\AppData\\Local\\Programs\\Python\\Python312\\Lib\\site-packages\\xgboost\\training.py:38: UserWarning: `feval` is deprecated, use `custom_metric` instead.  They have different behavior when custom objective is also used.See https://xgboost.readthedocs.io/en/latest/tutorials/custom_metric_obj.html for details on the `custom_metric`.\n",
      "  warnings.warn(\n"
     ]
    },
    {
     "name": "stdout",
     "output_type": "stream",
     "text": [
      "[0]\tvalid-logloss:0.21782\tvalid-gini:0.20558\n",
      "[100]\tvalid-logloss:0.16039\tvalid-gini:0.27314\n",
      "[200]\tvalid-logloss:0.15515\tvalid-gini:0.28562\n",
      "[300]\tvalid-logloss:0.15442\tvalid-gini:0.29090\n",
      "[400]\tvalid-logloss:0.15431\tvalid-gini:0.29224\n",
      "[500]\tvalid-logloss:0.15427\tvalid-gini:0.29258\n",
      "[600]\tvalid-logloss:0.15425\tvalid-gini:0.29267\n",
      "[700]\tvalid-logloss:0.15424\tvalid-gini:0.29316\n",
      "[800]\tvalid-logloss:0.15423\tvalid-gini:0.29351\n",
      "[900]\tvalid-logloss:0.15425\tvalid-gini:0.29358\n",
      "[1000]\tvalid-logloss:0.15421\tvalid-gini:0.29381\n",
      "[1100]\tvalid-logloss:0.15421\tvalid-gini:0.29386\n",
      "[1200]\tvalid-logloss:0.15421\tvalid-gini:0.29392\n",
      "[1300]\tvalid-logloss:0.15421\tvalid-gini:0.29396\n",
      "[1400]\tvalid-logloss:0.15420\tvalid-gini:0.29403\n",
      "[1500]\tvalid-logloss:0.15420\tvalid-gini:0.29406\n",
      "[1600]\tvalid-logloss:0.15419\tvalid-gini:0.29413\n",
      "[1700]\tvalid-logloss:0.15420\tvalid-gini:0.29414\n",
      "[1800]\tvalid-logloss:0.15419\tvalid-gini:0.29432\n",
      "[1900]\tvalid-logloss:0.15418\tvalid-gini:0.29431\n",
      "[1999]\tvalid-logloss:0.15420\tvalid-gini:0.29435\n",
      "fold 1 gini_score: 0.29433509928907964 \n",
      "\n",
      "################################################## fold 2 / fold 5 ##################################################\n",
      "[0]\tvalid-logloss:0.21781\tvalid-gini:0.19529\n",
      "[100]\tvalid-logloss:0.16061\tvalid-gini:0.26161\n",
      "[200]\tvalid-logloss:0.15549\tvalid-gini:0.27226\n",
      "[300]\tvalid-logloss:0.15481\tvalid-gini:0.27654\n",
      "[400]\tvalid-logloss:0.15472\tvalid-gini:0.27769\n",
      "[500]\tvalid-logloss:0.15467\tvalid-gini:0.27840\n",
      "[600]\tvalid-logloss:0.15467\tvalid-gini:0.27882\n",
      "[700]\tvalid-logloss:0.15466\tvalid-gini:0.27904\n",
      "[800]\tvalid-logloss:0.15466\tvalid-gini:0.27931\n",
      "[900]\tvalid-logloss:0.15466\tvalid-gini:0.27943\n",
      "[1000]\tvalid-logloss:0.15464\tvalid-gini:0.27961\n",
      "[1100]\tvalid-logloss:0.15462\tvalid-gini:0.27969\n",
      "[1200]\tvalid-logloss:0.15462\tvalid-gini:0.27975\n",
      "[1300]\tvalid-logloss:0.15464\tvalid-gini:0.27978\n",
      "[1400]\tvalid-logloss:0.15464\tvalid-gini:0.27981\n",
      "[1500]\tvalid-logloss:0.15463\tvalid-gini:0.27988\n",
      "[1600]\tvalid-logloss:0.15463\tvalid-gini:0.27990\n",
      "[1700]\tvalid-logloss:0.15464\tvalid-gini:0.28001\n",
      "[1800]\tvalid-logloss:0.15463\tvalid-gini:0.28004\n",
      "[1900]\tvalid-logloss:0.15462\tvalid-gini:0.28006\n",
      "[1999]\tvalid-logloss:0.15462\tvalid-gini:0.28013\n",
      "fold 2 gini_score: 0.28011607443008885 \n",
      "\n",
      "################################################## fold 3 / fold 5 ##################################################\n",
      "[0]\tvalid-logloss:0.21780\tvalid-gini:0.20704\n",
      "[100]\tvalid-logloss:0.16041\tvalid-gini:0.26580\n",
      "[200]\tvalid-logloss:0.15517\tvalid-gini:0.27882\n",
      "[300]\tvalid-logloss:0.15450\tvalid-gini:0.28133\n",
      "[400]\tvalid-logloss:0.15440\tvalid-gini:0.28210\n",
      "[500]\tvalid-logloss:0.15436\tvalid-gini:0.28219\n",
      "[600]\tvalid-logloss:0.15435\tvalid-gini:0.28247\n",
      "[700]\tvalid-logloss:0.15434\tvalid-gini:0.28241\n",
      "[774]\tvalid-logloss:0.15436\tvalid-gini:0.28243\n",
      "fold 3 gini_score: 0.2825114242775087 \n",
      "\n",
      "################################################## fold 4 / fold 5 ##################################################\n",
      "[0]\tvalid-logloss:0.21781\tvalid-gini:0.20437\n",
      "[100]\tvalid-logloss:0.16047\tvalid-gini:0.26029\n",
      "[200]\tvalid-logloss:0.15537\tvalid-gini:0.27074\n",
      "[300]\tvalid-logloss:0.15472\tvalid-gini:0.27354\n",
      "[400]\tvalid-logloss:0.15462\tvalid-gini:0.27414\n",
      "[500]\tvalid-logloss:0.15460\tvalid-gini:0.27460\n",
      "[600]\tvalid-logloss:0.15458\tvalid-gini:0.27483\n",
      "[700]\tvalid-logloss:0.15457\tvalid-gini:0.27515\n",
      "[800]\tvalid-logloss:0.15458\tvalid-gini:0.27527\n",
      "[900]\tvalid-logloss:0.15457\tvalid-gini:0.27532\n",
      "[1000]\tvalid-logloss:0.15455\tvalid-gini:0.27545\n",
      "[1100]\tvalid-logloss:0.15456\tvalid-gini:0.27547\n",
      "[1200]\tvalid-logloss:0.15456\tvalid-gini:0.27557\n",
      "[1300]\tvalid-logloss:0.15455\tvalid-gini:0.27560\n",
      "[1400]\tvalid-logloss:0.15455\tvalid-gini:0.27561\n",
      "[1500]\tvalid-logloss:0.15454\tvalid-gini:0.27564\n",
      "[1600]\tvalid-logloss:0.15455\tvalid-gini:0.27574\n",
      "[1700]\tvalid-logloss:0.15455\tvalid-gini:0.27580\n",
      "[1800]\tvalid-logloss:0.15454\tvalid-gini:0.27583\n",
      "[1900]\tvalid-logloss:0.15454\tvalid-gini:0.27581\n",
      "[1999]\tvalid-logloss:0.15453\tvalid-gini:0.27585\n",
      "fold 4 gini_score: 0.27585616431234317 \n",
      "\n",
      "################################################## fold 5 / fold 5 ##################################################\n",
      "[0]\tvalid-logloss:0.21782\tvalid-gini:0.19557\n",
      "[100]\tvalid-logloss:0.16060\tvalid-gini:0.26798\n",
      "[200]\tvalid-logloss:0.15540\tvalid-gini:0.28110\n",
      "[300]\tvalid-logloss:0.15471\tvalid-gini:0.28568\n",
      "[400]\tvalid-logloss:0.15461\tvalid-gini:0.28715\n",
      "[500]\tvalid-logloss:0.15456\tvalid-gini:0.28785\n",
      "[600]\tvalid-logloss:0.15455\tvalid-gini:0.28822\n",
      "[700]\tvalid-logloss:0.15453\tvalid-gini:0.28843\n",
      "[800]\tvalid-logloss:0.15453\tvalid-gini:0.28861\n",
      "[900]\tvalid-logloss:0.15452\tvalid-gini:0.28889\n",
      "[1000]\tvalid-logloss:0.15452\tvalid-gini:0.28914\n",
      "[1100]\tvalid-logloss:0.15451\tvalid-gini:0.28921\n",
      "[1200]\tvalid-logloss:0.15451\tvalid-gini:0.28935\n",
      "[1300]\tvalid-logloss:0.15449\tvalid-gini:0.28952\n",
      "[1400]\tvalid-logloss:0.15450\tvalid-gini:0.28957\n",
      "[1500]\tvalid-logloss:0.15449\tvalid-gini:0.28971\n",
      "[1600]\tvalid-logloss:0.15450\tvalid-gini:0.28978\n",
      "[1700]\tvalid-logloss:0.15448\tvalid-gini:0.28980\n",
      "[1800]\tvalid-logloss:0.15449\tvalid-gini:0.28982\n",
      "[1900]\tvalid-logloss:0.15448\tvalid-gini:0.28982\n",
      "[1999]\tvalid-logloss:0.15447\tvalid-gini:0.28995\n",
      "fold 5 gini_score: 0.2899087135499137 \n",
      "\n"
     ]
    }
   ],
   "source": [
    "#model training and validation \n",
    "from sklearn.model_selection import StratifiedKFold\n",
    "\n",
    "\n",
    "#k-fold = 5로 설정하고, 예측값을 담을 배열 생성  \n",
    "folds = StratifiedKFold(n_splits=5, shuffle=True, random_state=1991)\n",
    "oof_val_preds = np.zeros(X.shape[0])\n",
    "oof_test_preds = np.zeros(X_test.shape[0])\n",
    "\n",
    "#model train, predict, validation \n",
    "for idx, (train_idx, valid_idx) in enumerate(folds.split(X,y)): \n",
    "    print(\"#\"*50, f'fold {idx+1} / fold {folds.n_splits}', \"#\"*50)\n",
    "\n",
    "    X_train, y_train = X[train_idx], y[train_idx]    ##train data\n",
    "    X_valid, y_valid = X[valid_idx], y[valid_idx]    ##valid data\n",
    "\n",
    "    dtrain = xgb.DMatrix(X_train, y_train)           ##XGBoost용 train data\n",
    "    dvalid = xgb.DMatrix(X_valid, y_valid)           ##XGBoost용 valid data\n",
    "    dtest  = xgb.DMatrix(X_test)                     ##XGBoost용 test data\n",
    "\n",
    "    #XGB model training \n",
    "    xgb_model = xgb.train(params = max_params, \n",
    "                          dtrain = dtrain, \n",
    "                          num_boost_round = 2000, \n",
    "                          evals = [(dvalid, 'valid')], \n",
    "                          maximize = True, \n",
    "                          feval = gini, \n",
    "                          early_stopping_rounds=200,\n",
    "                          verbose_eval = 100)\n",
    "    \n",
    "    #best model의 boosting 반복횟수 저장 \n",
    "    best_iter = xgb_model.best_iteration\n",
    "    \n",
    "    #모델의 예측값 \n",
    "    oof_test_preds += xgb_model.predict(dtest, iteration_range = (0, best_iter)) / folds.n_splits\n",
    "    oof_val_preds[valid_idx] += xgb_model.predict(dvalid, iteration_range = (0, best_iter))\n",
    "\n",
    "    #정규화 gini score \n",
    "    gini_score = eval_gini(y_valid, oof_val_preds[valid_idx])\n",
    "    print(f'fold {idx+1} gini_score: {gini_score} \\n')"
   ]
  },
  {
   "cell_type": "code",
   "execution_count": 25,
   "metadata": {},
   "outputs": [
    {
     "name": "stdout",
     "output_type": "stream",
     "text": [
      "gini_score_valid =  0.284420290669874\n",
      "gini_score_test =  [0.03784185 0.03710503 0.03765548 ... 0.05027968 0.03310417 0.04339978]\n"
     ]
    }
   ],
   "source": [
    "#결과 제출 \n",
    "print('gini_score_valid = ', eval_gini(y, oof_val_preds))\n",
    "print('gini_score_test = ', oof_test_preds)\n",
    "\n",
    "submission['target'] = oof_test_preds\n",
    "submission.to_csv('submission.csv')"
   ]
  },
  {
   "cell_type": "code",
   "execution_count": 26,
   "metadata": {},
   "outputs": [
    {
     "data": {
      "image/png": "[encoded data removed]",
      "text/plain": [
       "<IPython.core.display.Image object>"
      ]
     },
     "execution_count": 26,
     "metadata": {},
     "output_type": "execute_result"
    }
   ],
   "source": [
    "from IPython.display import Image\n",
    "Image(\"images/gini_3.PNG\")"
   ]
  },
  {
   "cell_type": "code",
   "execution_count": null,
   "metadata": {},
   "outputs": [],
   "source": []
  }
 ],
 "metadata": {
  "kernelspec": {
   "display_name": "Python 3",
   "language": "python",
   "name": "python3"
  },
  "language_info": {
   "codemirror_mode": {
    "name": "ipython",
    "version": 3
   },
   "file_extension": ".py",
   "mimetype": "text/x-python",
   "name": "python",
   "nbconvert_exporter": "python",
   "pygments_lexer": "ipython3",
   "version": "3.12.0"
  }
 },
 "nbformat": 4,
 "nbformat_minor": 2
}
