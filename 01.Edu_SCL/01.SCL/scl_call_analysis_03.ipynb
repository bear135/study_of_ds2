{
 "cells": [
  {
   "cell_type": "markdown",
   "id": "c41cea23-aef0-4b4e-a590-884c5da7e02d",
   "metadata": {},
   "source": [
    "### 도시가스 고객센터 상담이력정보 분석 - 03. hyposis\n",
    "- Source Data : 이지원 상담이력정보 테이별(APDB_CL_CS_COUNSEL_CALL_HISTORY_TM) \n",
    "- DB info. : DataPlatform RDS(MSSQL)\n",
    "- Raw Data size : 13,558,241건 (2019.12.02~2023.07.21, 약 8.3GB) \n",
    "- 분석대상 Data size : 3,345,622건 (2022.01.01~2022.12.31, 압축후 약 446MB)\n",
    "- columns 정보 : http://localhost:8888/doc/tree/work_2023/07.%EA%B5%90%EC%9C%A1_%EC%9D%B8%EC%9E%85%EC%BD%9C%ED%9A%A8%EC%9C%A8%ED%99%94/columns_detail.png\n",
    "---"
   ]
  },
  {
   "cell_type": "code",
   "execution_count": 1,
   "id": "1a5ef39d-96e5-44f2-9377-44d1ede85820",
   "metadata": {},
   "outputs": [],
   "source": [
    "## 필수 pkg's 및 한글폰트 사용 설정 \n",
    "import numpy as np\n",
    "import pandas as pd\n",
    "import matplotlib.pyplot as plt \n",
    "import seaborn as sns \n",
    "import warnings \n",
    "warnings.filterwarnings('ignore')\n",
    "import time \n",
    "\n",
    "plt.rcParams['font.family'] = 'Malgun Gothic'\n",
    "plt.rc('axes',unicode_minus=False)"
   ]
  },
  {
   "cell_type": "code",
   "execution_count": 2,
   "id": "dd07aa75-3bbf-456a-90c3-fef485d1e794",
   "metadata": {},
   "outputs": [
    {
     "name": "stdout",
     "output_type": "stream",
     "text": [
      "(3345622, 64)\n"
     ]
    }
   ],
   "source": [
    "## Dataset loading \n",
    "df_2022 = pd.read_parquet('data/df_2022.parquet')\n",
    "print(df_2022.shape)"
   ]
  },
  {
   "cell_type": "code",
   "execution_count": 3,
   "id": "b73b5f4f-5a37-449e-acd9-e3081c442dd9",
   "metadata": {},
   "outputs": [
    {
     "data": {
      "text/html": [
       "<div>\n",
       "<style scoped>\n",
       "    .dataframe tbody tr th:only-of-type {\n",
       "        vertical-align: middle;\n",
       "    }\n",
       "\n",
       "    .dataframe tbody tr th {\n",
       "        vertical-align: top;\n",
       "    }\n",
       "\n",
       "    .dataframe thead th {\n",
       "        text-align: right;\n",
       "    }\n",
       "</style>\n",
       "<table border=\"1\" class=\"dataframe\">\n",
       "  <thead>\n",
       "    <tr style=\"text-align: right;\">\n",
       "      <th></th>\n",
       "      <th>COUNSEL_CALL_HISTORY_EID</th>\n",
       "      <th>TEL</th>\n",
       "      <th>BOUND_TYPE_CODE</th>\n",
       "      <th>ARS_CHANNEL</th>\n",
       "      <th>START_TIME</th>\n",
       "      <th>END_TIME</th>\n",
       "      <th>CALL_TIME</th>\n",
       "      <th>PAYER_NUMBER</th>\n",
       "      <th>CUSTOMER_NAME</th>\n",
       "      <th>CUSTOMER_DIVISION_CLAS_CODE</th>\n",
       "      <th>DUTY_TYPE_CLAS_CODE</th>\n",
       "      <th>CENTER_NAME</th>\n",
       "      <th>CENTER_CODE</th>\n",
       "      <th>COUNSEL_NAME</th>\n",
       "      <th>CALL_RESULT_CODE</th>\n",
       "      <th>HOUSE_TYPE_CODE</th>\n",
       "      <th>USE_TYPE_CODE</th>\n",
       "      <th>CALL_ID</th>\n",
       "      <th>COUNSEL_MEMO</th>\n",
       "      <th>COUNSEL_TYPE_CODE</th>\n",
       "      <th>RELATIONSHIP_CODE</th>\n",
       "      <th>RELATIONSHIP_CENTER_CODE</th>\n",
       "      <th>ENTITY_STATUS</th>\n",
       "      <th>MOD_DATE</th>\n",
       "      <th>REG_DATE</th>\n",
       "      <th>MOD_USER_ENTITY_ID</th>\n",
       "      <th>REG_USER_ENTITY_ID</th>\n",
       "      <th>TRF_USER_ENTITY_ID</th>\n",
       "      <th>TRF_DATE</th>\n",
       "      <th>CALLBACK_TYPE_CODE</th>\n",
       "      <th>CALLBACK_FIT_CODE</th>\n",
       "      <th>DUTY_TYPE_CODE</th>\n",
       "      <th>CUSTOMER_DIVISION_CODE</th>\n",
       "      <th>BOUND_TYPE</th>\n",
       "      <th>CUSTOMER_DIVISION_CLAS</th>\n",
       "      <th>DUTY_TYPE_CLAS</th>\n",
       "      <th>HOUSE_TYPE</th>\n",
       "      <th>USE_TYPE</th>\n",
       "      <th>COUNSEL_TYPE</th>\n",
       "      <th>DUTY_TYPE</th>\n",
       "      <th>CUSTOMER_DIVISION</th>\n",
       "      <th>CALLBACK_TYPE</th>\n",
       "      <th>CALLBACK_FIT</th>\n",
       "      <th>CALL_RESULT</th>\n",
       "      <th>EXTENSION</th>\n",
       "      <th>END_CALL_TYPE</th>\n",
       "      <th>END_CALL_TYPE_CODE</th>\n",
       "      <th>REGION</th>\n",
       "      <th>REGION_CODE</th>\n",
       "      <th>GENDER</th>\n",
       "      <th>GENDER_CODE</th>\n",
       "      <th>BIRTH_DATE</th>\n",
       "      <th>PROCESS_CALLBACK_TYPE_CODE</th>\n",
       "      <th>PROCESS_CALLBACK_TYPE</th>\n",
       "      <th>URGENT_CODE</th>\n",
       "      <th>URGENT</th>\n",
       "      <th>VOC_ENTITY_ID</th>\n",
       "      <th>PARTNER</th>\n",
       "      <th>call_year</th>\n",
       "      <th>call_month</th>\n",
       "      <th>call_day</th>\n",
       "      <th>call_hour</th>\n",
       "      <th>call_weekday</th>\n",
       "      <th>call_duration</th>\n",
       "    </tr>\n",
       "  </thead>\n",
       "  <tbody>\n",
       "    <tr>\n",
       "      <th>0</th>\n",
       "      <td>182612264.0</td>\n",
       "      <td>0326796155</td>\n",
       "      <td>IB</td>\n",
       "      <td>0상담원연결</td>\n",
       "      <td>2022-01-06 10:16:59</td>\n",
       "      <td>2022-01-06 10:17:55</td>\n",
       "      <td>56000.0</td>\n",
       "      <td>106824448</td>\n",
       "      <td>이영희</td>\n",
       "      <td>GENERAL</td>\n",
       "      <td>1</td>\n",
       "      <td>오정</td>\n",
       "      <td>16</td>\n",
       "      <td>None</td>\n",
       "      <td>SUCCESS</td>\n",
       "      <td>40</td>\n",
       "      <td>LOF1</td>\n",
       "      <td>548A5FA2-44DA-43C7-976B-F36D10B7CF8B</td>\n",
       "      <td>요금 내역서 발송</td>\n",
       "      <td>MODESTY</td>\n",
       "      <td>OWN</td>\n",
       "      <td>16</td>\n",
       "      <td>UPDATE</td>\n",
       "      <td>2022-01-06 10:18:11</td>\n",
       "      <td>2022-01-06 10:16:59</td>\n",
       "      <td>1721.0</td>\n",
       "      <td>1721.0</td>\n",
       "      <td>None</td>\n",
       "      <td>None</td>\n",
       "      <td>None</td>\n",
       "      <td>None</td>\n",
       "      <td>CHARGE</td>\n",
       "      <td>GENTLE</td>\n",
       "      <td>인바운드</td>\n",
       "      <td>일반</td>\n",
       "      <td>문의</td>\n",
       "      <td>공동주택</td>\n",
       "      <td>업무용</td>\n",
       "      <td>겸손</td>\n",
       "      <td>요금문의</td>\n",
       "      <td>온화함</td>\n",
       "      <td>None</td>\n",
       "      <td>None</td>\n",
       "      <td>통화성공</td>\n",
       "      <td>6091</td>\n",
       "      <td>None</td>\n",
       "      <td>None</td>\n",
       "      <td>삼정동</td>\n",
       "      <td>None</td>\n",
       "      <td>여성</td>\n",
       "      <td>F</td>\n",
       "      <td>600315.0</td>\n",
       "      <td>None</td>\n",
       "      <td>None</td>\n",
       "      <td>None</td>\n",
       "      <td>None</td>\n",
       "      <td>96953091</td>\n",
       "      <td>700737322</td>\n",
       "      <td>2022</td>\n",
       "      <td>1</td>\n",
       "      <td>6</td>\n",
       "      <td>10</td>\n",
       "      <td>Thursday</td>\n",
       "      <td>56.0</td>\n",
       "    </tr>\n",
       "    <tr>\n",
       "      <th>1</th>\n",
       "      <td>182612760.0</td>\n",
       "      <td>03180199756</td>\n",
       "      <td>IB</td>\n",
       "      <td>0상담원연결</td>\n",
       "      <td>2022-01-06 10:17:29</td>\n",
       "      <td>2022-01-06 10:17:59</td>\n",
       "      <td>30000.0</td>\n",
       "      <td>304366212</td>\n",
       "      <td>김진영</td>\n",
       "      <td>GENERAL</td>\n",
       "      <td>1</td>\n",
       "      <td>동인천</td>\n",
       "      <td>11</td>\n",
       "      <td>None</td>\n",
       "      <td>SUCCESS</td>\n",
       "      <td>10</td>\n",
       "      <td>LRH1</td>\n",
       "      <td>9389BB5F-A391-4B53-9254-103F496A3B89</td>\n",
       "      <td>수납센터: 번호변경&amp;요금문자요청</td>\n",
       "      <td>DOUCENESS</td>\n",
       "      <td>OWN</td>\n",
       "      <td>11</td>\n",
       "      <td>UPDATE</td>\n",
       "      <td>2022-01-06 10:18:41</td>\n",
       "      <td>2022-01-06 10:17:30</td>\n",
       "      <td>1677.0</td>\n",
       "      <td>1677.0</td>\n",
       "      <td>None</td>\n",
       "      <td>None</td>\n",
       "      <td>None</td>\n",
       "      <td>None</td>\n",
       "      <td>CHARGE</td>\n",
       "      <td>GENTLE</td>\n",
       "      <td>인바운드</td>\n",
       "      <td>일반</td>\n",
       "      <td>문의</td>\n",
       "      <td>원룸</td>\n",
       "      <td>난방용</td>\n",
       "      <td>차분</td>\n",
       "      <td>요금문의</td>\n",
       "      <td>온화함</td>\n",
       "      <td>None</td>\n",
       "      <td>None</td>\n",
       "      <td>통화성공</td>\n",
       "      <td>6030</td>\n",
       "      <td>None</td>\n",
       "      <td>None</td>\n",
       "      <td>도화1동</td>\n",
       "      <td>None</td>\n",
       "      <td>남성</td>\n",
       "      <td>M</td>\n",
       "      <td>851024.0</td>\n",
       "      <td>None</td>\n",
       "      <td>None</td>\n",
       "      <td>None</td>\n",
       "      <td>None</td>\n",
       "      <td>96953118</td>\n",
       "      <td>707153261</td>\n",
       "      <td>2022</td>\n",
       "      <td>1</td>\n",
       "      <td>6</td>\n",
       "      <td>10</td>\n",
       "      <td>Thursday</td>\n",
       "      <td>30.0</td>\n",
       "    </tr>\n",
       "    <tr>\n",
       "      <th>2</th>\n",
       "      <td>182614699.0</td>\n",
       "      <td>0215447000</td>\n",
       "      <td>IB</td>\n",
       "      <td>0상담원연결</td>\n",
       "      <td>2022-01-06 10:19:25</td>\n",
       "      <td>2022-01-06 10:20:52</td>\n",
       "      <td>87000.0</td>\n",
       "      <td>106260994</td>\n",
       "      <td>박시원</td>\n",
       "      <td>GENERAL</td>\n",
       "      <td>1</td>\n",
       "      <td>군포</td>\n",
       "      <td>36</td>\n",
       "      <td>None</td>\n",
       "      <td>SUCCESS</td>\n",
       "      <td>None</td>\n",
       "      <td>LRH1</td>\n",
       "      <td>7BFAB79B-6948-480A-AD93-A7FA6FB8C60B</td>\n",
       "      <td>자동이체만 해지</td>\n",
       "      <td>LEAD</td>\n",
       "      <td>OWN</td>\n",
       "      <td>36</td>\n",
       "      <td>UPDATE</td>\n",
       "      <td>2022-01-06 10:21:06</td>\n",
       "      <td>2022-01-06 10:19:25</td>\n",
       "      <td>1812.0</td>\n",
       "      <td>1812.0</td>\n",
       "      <td>None</td>\n",
       "      <td>None</td>\n",
       "      <td>None</td>\n",
       "      <td>None</td>\n",
       "      <td>CHARGE</td>\n",
       "      <td>DESULTORY</td>\n",
       "      <td>인바운드</td>\n",
       "      <td>일반</td>\n",
       "      <td>문의</td>\n",
       "      <td>None</td>\n",
       "      <td>난방용</td>\n",
       "      <td>주도</td>\n",
       "      <td>요금문의</td>\n",
       "      <td>산만함</td>\n",
       "      <td>None</td>\n",
       "      <td>None</td>\n",
       "      <td>통화성공</td>\n",
       "      <td>6270</td>\n",
       "      <td>None</td>\n",
       "      <td>None</td>\n",
       "      <td>당동</td>\n",
       "      <td>None</td>\n",
       "      <td>여성</td>\n",
       "      <td>F</td>\n",
       "      <td>550819.0</td>\n",
       "      <td>None</td>\n",
       "      <td>None</td>\n",
       "      <td>None</td>\n",
       "      <td>None</td>\n",
       "      <td>96953199</td>\n",
       "      <td>702414760</td>\n",
       "      <td>2022</td>\n",
       "      <td>1</td>\n",
       "      <td>6</td>\n",
       "      <td>10</td>\n",
       "      <td>Thursday</td>\n",
       "      <td>87.0</td>\n",
       "    </tr>\n",
       "    <tr>\n",
       "      <th>3</th>\n",
       "      <td>182614889.0</td>\n",
       "      <td>01065978698</td>\n",
       "      <td>IB</td>\n",
       "      <td>0상담원연결</td>\n",
       "      <td>2022-01-06 10:19:35</td>\n",
       "      <td>2022-01-06 10:22:28</td>\n",
       "      <td>173000.0</td>\n",
       "      <td>304968846</td>\n",
       "      <td>박인준</td>\n",
       "      <td>GENERAL</td>\n",
       "      <td>1</td>\n",
       "      <td>송탄/서평택</td>\n",
       "      <td>48</td>\n",
       "      <td>None</td>\n",
       "      <td>SUCCESS</td>\n",
       "      <td>None</td>\n",
       "      <td>LRH1</td>\n",
       "      <td>E4C96B95-3CCD-4A15-AE81-50A65F875086</td>\n",
       "      <td>명의변경/검침문의</td>\n",
       "      <td>DOUCENESS</td>\n",
       "      <td>OWN</td>\n",
       "      <td>48</td>\n",
       "      <td>UPDATE</td>\n",
       "      <td>2022-01-06 10:22:33</td>\n",
       "      <td>2022-01-06 10:19:35</td>\n",
       "      <td>1921.0</td>\n",
       "      <td>1921.0</td>\n",
       "      <td>None</td>\n",
       "      <td>None</td>\n",
       "      <td>None</td>\n",
       "      <td>None</td>\n",
       "      <td>CUST-INFO</td>\n",
       "      <td>SERIOUSNESS</td>\n",
       "      <td>인바운드</td>\n",
       "      <td>일반</td>\n",
       "      <td>문의</td>\n",
       "      <td>None</td>\n",
       "      <td>난방용</td>\n",
       "      <td>차분</td>\n",
       "      <td>고객정보문의</td>\n",
       "      <td>진지함</td>\n",
       "      <td>None</td>\n",
       "      <td>None</td>\n",
       "      <td>통화성공</td>\n",
       "      <td>6441</td>\n",
       "      <td>None</td>\n",
       "      <td>None</td>\n",
       "      <td>서정동</td>\n",
       "      <td>None</td>\n",
       "      <td>남성</td>\n",
       "      <td>M</td>\n",
       "      <td>681204.0</td>\n",
       "      <td>None</td>\n",
       "      <td>None</td>\n",
       "      <td>None</td>\n",
       "      <td>None</td>\n",
       "      <td>96953534</td>\n",
       "      <td>707756958</td>\n",
       "      <td>2022</td>\n",
       "      <td>1</td>\n",
       "      <td>6</td>\n",
       "      <td>10</td>\n",
       "      <td>Thursday</td>\n",
       "      <td>173.0</td>\n",
       "    </tr>\n",
       "    <tr>\n",
       "      <th>4</th>\n",
       "      <td>182620523.0</td>\n",
       "      <td>0215447000</td>\n",
       "      <td>IB</td>\n",
       "      <td>0상담원연결</td>\n",
       "      <td>2022-01-06 10:24:34</td>\n",
       "      <td>2022-01-06 10:26:29</td>\n",
       "      <td>115000.0</td>\n",
       "      <td>110789193</td>\n",
       "      <td>임미자</td>\n",
       "      <td>GENERAL</td>\n",
       "      <td>1</td>\n",
       "      <td>화성</td>\n",
       "      <td>43</td>\n",
       "      <td>None</td>\n",
       "      <td>SUCCESS</td>\n",
       "      <td>61</td>\n",
       "      <td>LRC1</td>\n",
       "      <td>F0BEBEBC-1B44-418E-BBB5-B8FB7F837837</td>\n",
       "      <td>자동이체 해지</td>\n",
       "      <td>LEAD</td>\n",
       "      <td>OWN</td>\n",
       "      <td>43</td>\n",
       "      <td>UPDATE</td>\n",
       "      <td>2022-01-06 10:26:38</td>\n",
       "      <td>2022-01-06 10:24:34</td>\n",
       "      <td>1865.0</td>\n",
       "      <td>1865.0</td>\n",
       "      <td>None</td>\n",
       "      <td>None</td>\n",
       "      <td>None</td>\n",
       "      <td>None</td>\n",
       "      <td>CHARGE</td>\n",
       "      <td>GENTLE</td>\n",
       "      <td>인바운드</td>\n",
       "      <td>일반</td>\n",
       "      <td>문의</td>\n",
       "      <td>아파트_계단식</td>\n",
       "      <td>취사용</td>\n",
       "      <td>주도</td>\n",
       "      <td>요금문의</td>\n",
       "      <td>온화함</td>\n",
       "      <td>None</td>\n",
       "      <td>None</td>\n",
       "      <td>통화성공</td>\n",
       "      <td>6364</td>\n",
       "      <td>None</td>\n",
       "      <td>None</td>\n",
       "      <td>반월동</td>\n",
       "      <td>None</td>\n",
       "      <td>여성</td>\n",
       "      <td>F</td>\n",
       "      <td>610510.0</td>\n",
       "      <td>None</td>\n",
       "      <td>None</td>\n",
       "      <td>None</td>\n",
       "      <td>None</td>\n",
       "      <td>96953678</td>\n",
       "      <td>700056074</td>\n",
       "      <td>2022</td>\n",
       "      <td>1</td>\n",
       "      <td>6</td>\n",
       "      <td>10</td>\n",
       "      <td>Thursday</td>\n",
       "      <td>115.0</td>\n",
       "    </tr>\n",
       "  </tbody>\n",
       "</table>\n",
       "</div>"
      ],
      "text/plain": [
       "   COUNSEL_CALL_HISTORY_EID          TEL BOUND_TYPE_CODE ARS_CHANNEL  \\\n",
       "0               182612264.0   0326796155              IB      0상담원연결   \n",
       "1               182612760.0  03180199756              IB      0상담원연결   \n",
       "2               182614699.0   0215447000              IB      0상담원연결   \n",
       "3               182614889.0  01065978698              IB      0상담원연결   \n",
       "4               182620523.0   0215447000              IB      0상담원연결   \n",
       "\n",
       "           START_TIME            END_TIME  CALL_TIME PAYER_NUMBER  \\\n",
       "0 2022-01-06 10:16:59 2022-01-06 10:17:55    56000.0    106824448   \n",
       "1 2022-01-06 10:17:29 2022-01-06 10:17:59    30000.0    304366212   \n",
       "2 2022-01-06 10:19:25 2022-01-06 10:20:52    87000.0    106260994   \n",
       "3 2022-01-06 10:19:35 2022-01-06 10:22:28   173000.0    304968846   \n",
       "4 2022-01-06 10:24:34 2022-01-06 10:26:29   115000.0    110789193   \n",
       "\n",
       "  CUSTOMER_NAME CUSTOMER_DIVISION_CLAS_CODE DUTY_TYPE_CLAS_CODE CENTER_NAME  \\\n",
       "0           이영희                     GENERAL                   1          오정   \n",
       "1           김진영                     GENERAL                   1         동인천   \n",
       "2           박시원                     GENERAL                   1          군포   \n",
       "3           박인준                     GENERAL                   1      송탄/서평택   \n",
       "4           임미자                     GENERAL                   1          화성   \n",
       "\n",
       "  CENTER_CODE COUNSEL_NAME CALL_RESULT_CODE HOUSE_TYPE_CODE USE_TYPE_CODE  \\\n",
       "0          16         None          SUCCESS              40          LOF1   \n",
       "1          11         None          SUCCESS              10          LRH1   \n",
       "2          36         None          SUCCESS            None          LRH1   \n",
       "3          48         None          SUCCESS            None          LRH1   \n",
       "4          43         None          SUCCESS              61          LRC1   \n",
       "\n",
       "                                CALL_ID       COUNSEL_MEMO COUNSEL_TYPE_CODE  \\\n",
       "0  548A5FA2-44DA-43C7-976B-F36D10B7CF8B          요금 내역서 발송           MODESTY   \n",
       "1  9389BB5F-A391-4B53-9254-103F496A3B89  수납센터: 번호변경&요금문자요청         DOUCENESS   \n",
       "2  7BFAB79B-6948-480A-AD93-A7FA6FB8C60B           자동이체만 해지              LEAD   \n",
       "3  E4C96B95-3CCD-4A15-AE81-50A65F875086          명의변경/검침문의         DOUCENESS   \n",
       "4  F0BEBEBC-1B44-418E-BBB5-B8FB7F837837            자동이체 해지              LEAD   \n",
       "\n",
       "  RELATIONSHIP_CODE RELATIONSHIP_CENTER_CODE ENTITY_STATUS  \\\n",
       "0               OWN                       16        UPDATE   \n",
       "1               OWN                       11        UPDATE   \n",
       "2               OWN                       36        UPDATE   \n",
       "3               OWN                       48        UPDATE   \n",
       "4               OWN                       43        UPDATE   \n",
       "\n",
       "             MOD_DATE            REG_DATE  MOD_USER_ENTITY_ID  \\\n",
       "0 2022-01-06 10:18:11 2022-01-06 10:16:59              1721.0   \n",
       "1 2022-01-06 10:18:41 2022-01-06 10:17:30              1677.0   \n",
       "2 2022-01-06 10:21:06 2022-01-06 10:19:25              1812.0   \n",
       "3 2022-01-06 10:22:33 2022-01-06 10:19:35              1921.0   \n",
       "4 2022-01-06 10:26:38 2022-01-06 10:24:34              1865.0   \n",
       "\n",
       "   REG_USER_ENTITY_ID TRF_USER_ENTITY_ID TRF_DATE CALLBACK_TYPE_CODE  \\\n",
       "0              1721.0               None     None               None   \n",
       "1              1677.0               None     None               None   \n",
       "2              1812.0               None     None               None   \n",
       "3              1921.0               None     None               None   \n",
       "4              1865.0               None     None               None   \n",
       "\n",
       "  CALLBACK_FIT_CODE DUTY_TYPE_CODE CUSTOMER_DIVISION_CODE BOUND_TYPE  \\\n",
       "0              None         CHARGE                 GENTLE       인바운드   \n",
       "1              None         CHARGE                 GENTLE       인바운드   \n",
       "2              None         CHARGE              DESULTORY       인바운드   \n",
       "3              None      CUST-INFO            SERIOUSNESS       인바운드   \n",
       "4              None         CHARGE                 GENTLE       인바운드   \n",
       "\n",
       "  CUSTOMER_DIVISION_CLAS DUTY_TYPE_CLAS HOUSE_TYPE USE_TYPE COUNSEL_TYPE  \\\n",
       "0                     일반             문의       공동주택      업무용           겸손   \n",
       "1                     일반             문의         원룸      난방용           차분   \n",
       "2                     일반             문의       None      난방용           주도   \n",
       "3                     일반             문의       None      난방용           차분   \n",
       "4                     일반             문의    아파트_계단식      취사용           주도   \n",
       "\n",
       "  DUTY_TYPE CUSTOMER_DIVISION CALLBACK_TYPE CALLBACK_FIT CALL_RESULT  \\\n",
       "0      요금문의               온화함          None         None        통화성공   \n",
       "1      요금문의               온화함          None         None        통화성공   \n",
       "2      요금문의               산만함          None         None        통화성공   \n",
       "3    고객정보문의               진지함          None         None        통화성공   \n",
       "4      요금문의               온화함          None         None        통화성공   \n",
       "\n",
       "  EXTENSION END_CALL_TYPE END_CALL_TYPE_CODE REGION REGION_CODE GENDER  \\\n",
       "0      6091          None               None    삼정동        None     여성   \n",
       "1      6030          None               None   도화1동        None     남성   \n",
       "2      6270          None               None     당동        None     여성   \n",
       "3      6441          None               None    서정동        None     남성   \n",
       "4      6364          None               None    반월동        None     여성   \n",
       "\n",
       "  GENDER_CODE  BIRTH_DATE PROCESS_CALLBACK_TYPE_CODE PROCESS_CALLBACK_TYPE  \\\n",
       "0           F    600315.0                       None                  None   \n",
       "1           M    851024.0                       None                  None   \n",
       "2           F    550819.0                       None                  None   \n",
       "3           M    681204.0                       None                  None   \n",
       "4           F    610510.0                       None                  None   \n",
       "\n",
       "  URGENT_CODE URGENT VOC_ENTITY_ID    PARTNER  call_year  call_month  \\\n",
       "0        None   None      96953091  700737322       2022           1   \n",
       "1        None   None      96953118  707153261       2022           1   \n",
       "2        None   None      96953199  702414760       2022           1   \n",
       "3        None   None      96953534  707756958       2022           1   \n",
       "4        None   None      96953678  700056074       2022           1   \n",
       "\n",
       "   call_day  call_hour call_weekday  call_duration  \n",
       "0         6         10     Thursday           56.0  \n",
       "1         6         10     Thursday           30.0  \n",
       "2         6         10     Thursday           87.0  \n",
       "3         6         10     Thursday          173.0  \n",
       "4         6         10     Thursday          115.0  "
      ]
     },
     "execution_count": 3,
     "metadata": {},
     "output_type": "execute_result"
    }
   ],
   "source": [
    "pd.set_option('display.max_columns', None)\n",
    "df_2022.head()"
   ]
  },
  {
   "cell_type": "markdown",
   "id": "c731aed2-f819-4e0d-8b2d-29936e0a1602",
   "metadata": {},
   "source": [
    "--- \n",
    "#### 01. 요금 납부일 전후로 통화량이 증가하는가? \n",
    "- SCL 납부일은 매달 5일/10일/20일/25일 이다. (단 해당일이 일요일 또는 공휴일일 경우 다음 영업일로 변경됨) \n",
    "--- "
   ]
  },
  {
   "cell_type": "code",
   "execution_count": 4,
   "id": "ca136a43-dbf8-411a-a53f-3b5b23ddfdfc",
   "metadata": {},
   "outputs": [
    {
     "data": {
      "text/plain": [
       "[Text(0.5, 1.0, '2022-03')]"
      ]
     },
     "execution_count": 4,
     "metadata": {},
     "output_type": "execute_result"
    },
    {
     "data": {
      "image/png": "[encoded data removed]",
      "text/plain": [
       "<Figure size 1440x288 with 3 Axes>"
      ]
     },
     "metadata": {
      "needs_background": "light"
     },
     "output_type": "display_data"
    }
   ],
   "source": [
    "## '20년 월별 x 일자별 통화량 관찰하기 \n",
    "call_cnt_01 = df_2022[df_2022['call_month'] == 1]\n",
    "call_cnt_02 = df_2022[df_2022['call_month'] == 2]\n",
    "call_cnt_03 = df_2022[df_2022['call_month'] == 3]\n",
    "call_cnt_04 = df_2022[df_2022['call_month'] == 4]\n",
    "call_cnt_05 = df_2022[df_2022['call_month'] == 5]\n",
    "call_cnt_06 = df_2022[df_2022['call_month'] == 6]\n",
    "call_cnt_07 = df_2022[df_2022['call_month'] == 7]\n",
    "call_cnt_08 = df_2022[df_2022['call_month'] == 8]\n",
    "call_cnt_09 = df_2022[df_2022['call_month'] == 9]\n",
    "call_cnt_10 = df_2022[df_2022['call_month'] == 10]\n",
    "call_cnt_11 = df_2022[df_2022['call_month'] == 11]\n",
    "call_cnt_12 = df_2022[df_2022['call_month'] == 12]\n",
    "\n",
    "figure, (ax1,ax2,ax3) = plt.subplots(ncols=3)\n",
    "figure.set_size_inches(20,4)\n",
    "sns.countplot(data=call_cnt_01, x='call_day', ax=ax1)\n",
    "sns.countplot(data=call_cnt_02, x='call_day', ax=ax2)\n",
    "sns.countplot(data=call_cnt_03, x='call_day', ax=ax3)\n",
    "ax1.set(title = '2022-01')\n",
    "ax2.set(title = '2022-02')\n",
    "ax3.set(title = '2022-03')"
   ]
  },
  {
   "cell_type": "code",
   "execution_count": 5,
   "id": "361ce844-24dc-4d2a-ab51-dbae9e0fc889",
   "metadata": {},
   "outputs": [
    {
     "data": {
      "text/plain": [
       "[Text(0.5, 1.0, '2022-06')]"
      ]
     },
     "execution_count": 5,
     "metadata": {},
     "output_type": "execute_result"
    },
    {
     "data": {
      "image/png": "[encoded data removed]",
      "text/plain": [
       "<Figure size 1440x288 with 3 Axes>"
      ]
     },
     "metadata": {
      "needs_background": "light"
     },
     "output_type": "display_data"
    }
   ],
   "source": [
    "figure, (ax1,ax2,ax3) = plt.subplots(ncols=3)\n",
    "figure.set_size_inches(20,4)\n",
    "sns.countplot(data=call_cnt_04, x='call_day', ax=ax1)\n",
    "sns.countplot(data=call_cnt_05, x='call_day', ax=ax2)\n",
    "sns.countplot(data=call_cnt_06, x='call_day', ax=ax3)\n",
    "ax1.set(title = '2022-04')\n",
    "ax2.set(title = '2022-05')\n",
    "ax3.set(title = '2022-06')"
   ]
  },
  {
   "cell_type": "markdown",
   "id": "b66b7127-ad92-45bd-a287-6de86d8a919d",
   "metadata": {},
   "source": [
    "- 매주 월요일 또는 휴일 후 첫번째 영업일에 뚜렷한 통화량 증가, 반면 납부일자(5/10/20/25일)와 통화량은 관계성을 나타내지 않음 \n",
    "--- "
   ]
  },
  {
   "cell_type": "markdown",
   "id": "589eb209-0d0d-4972-9413-9e7a40f63bd1",
   "metadata": {},
   "source": [
    "#### 02. 연간 몇천건 이상 반복 인입되는 콜들의 출처별 비중은? \n",
    "- 카드사의 자동이체 등록/해지/변경 관련 : 신규카드 등록시 기존카드 자동해지 등의 프로세스 개선을 통해 인입콜 감소 가능? \n",
    "- 수납센터(추심사)의 미납안내 콜 : 수납센터에 이지원 권한부여 등의 방법을 통해 인입콜 감소 가능?\n",
    "---"
   ]
  },
  {
   "cell_type": "code",
   "execution_count": 6,
   "id": "69384f3d-0334-4ab0-a507-586b3c9105fd",
   "metadata": {},
   "outputs": [
    {
     "data": {
      "text/plain": [
       "(19836, 64)"
      ]
     },
     "execution_count": 6,
     "metadata": {},
     "output_type": "execute_result"
    }
   ],
   "source": [
    "## 2-1. 카드사 -> 상담센터 인입콜의 빈도와 비중 파악 \n",
    "## 먼저 웹검색을 통해 주요 카드사 고객센터 전화번호 조사 필요 \n",
    "## (삼성:15888700, 롯데:15888100, 우리:15889955, KB:15881688 & 15881788, 신한:15447000, 현대:15776000, BC:15884000, 하나:18001111)\n",
    "\n",
    "df_2022_from_cards = df_2022[df_2022['TEL'].str.contains('15888700|15888100|15889955|15881688|15881788|15447000|15776000|15884000|18001111', na=False)]\n",
    "df_2022_from_cards.shape"
   ]
  },
  {
   "cell_type": "code",
   "execution_count": 7,
   "id": "d0f2a38a-ea32-46d3-97fc-1f65e51f2ad0",
   "metadata": {},
   "outputs": [
    {
     "name": "stdout",
     "output_type": "stream",
     "text": [
      "- KB카드 콜수 = 15881688    10128\n",
      "Name: TEL, dtype: int64\n",
      "- 신한카드 콜수 = 0215447000    8605\n",
      "15447000        58\n",
      "Name: TEL, dtype: int64\n",
      "- 우리카드 콜수 = 15889955    1001\n",
      "Name: TEL, dtype: int64\n"
     ]
    }
   ],
   "source": [
    "KB = df_2022[df_2022['TEL'].str.contains('15881688', na=False)]\n",
    "Shinhan = df_2022[df_2022['TEL'].str.contains('15447000', na=False)]\n",
    "Woorie = df_2022[df_2022['TEL'].str.contains('15889955', na=False)]\n",
    "\n",
    "print('- KB카드 콜수 =', KB['TEL'].value_counts())\n",
    "print('- 신한카드 콜수 =', Shinhan['TEL'].value_counts())\n",
    "print('- 우리카드 콜수 =', Woorie['TEL'].value_counts())"
   ]
  },
  {
   "cell_type": "code",
   "execution_count": 8,
   "id": "e2835716-2f44-43c4-9368-77751295b49c",
   "metadata": {},
   "outputs": [
    {
     "name": "stdout",
     "output_type": "stream",
     "text": [
      "요금문의      14564\n",
      "고객정보문의     2330\n",
      "기타문의       1918\n",
      "전입문의        302\n",
      "전출문의         89\n",
      "AS문의         27\n",
      "검침문의         14\n",
      "신규공급문의        7\n",
      "안전점검문의        5\n",
      "화재            3\n",
      "경보기문의         1\n",
      "Name: DUTY_TYPE, dtype: int64\n"
     ]
    },
    {
     "data": {
      "text/plain": [
       "[Text(0.5, 1.0, 'Woorie')]"
      ]
     },
     "execution_count": 8,
     "metadata": {},
     "output_type": "execute_result"
    },
    {
     "data": {
      "image/png": "[encoded data removed]",
      "text/plain": [
       "<Figure size 1440x288 with 3 Axes>"
      ]
     },
     "metadata": {
      "needs_background": "light"
     },
     "output_type": "display_data"
    }
   ],
   "source": [
    "## Top 3 카드사별 상담유형 \n",
    "card_top_3 = df_2022[df_2022['TEL'].str.contains('15881688|15447000|15889955', na=False)]\n",
    "print(card_top_3['DUTY_TYPE'].value_counts())\n",
    "\n",
    "figure, (ax1,ax2,ax3) = plt.subplots(ncols=3)\n",
    "figure.set_size_inches(20,4)\n",
    "sns.countplot(data=KB, y='DUTY_TYPE', ax=ax1)\n",
    "sns.countplot(data=Shinhan, y='DUTY_TYPE', ax=ax2)\n",
    "sns.countplot(data=Woorie, y='DUTY_TYPE', ax=ax3)\n",
    "ax1.set(title = 'KB')\n",
    "ax2.set(title = 'Shinhan')\n",
    "ax3.set(title = 'Woorie')"
   ]
  },
  {
   "cell_type": "code",
   "execution_count": 9,
   "id": "7a00c1bb-87fb-4dae-bcf8-d9498966ce73",
   "metadata": {},
   "outputs": [
    {
     "data": {
      "text/plain": [
       "465                                              롯데카드해지\n",
       "819                                            카드자동이체해지\n",
       "909                                           자동이체해지만요청\n",
       "1245                                   카드자동이체변경으로  해지요청\n",
       "2005                                          자동이체 해지요청\n",
       "2101                                             카드해지요청\n",
       "2178                                    카드해지-카드사로 등록한다함\n",
       "2185                                          세대무관 간단문의\n",
       "2193             카드자동이체 해지및 LMS고지서요청  /3월요금 별도 납부하셔야함안내\n",
       "2203                                               None\n",
       "2232                                       카드 자동이체 해지만.\n",
       "2441                                               자동해지\n",
       "3192                                      카드해제만..문자발송안내\n",
       "3489                               자이 해지 및 지로 고지서 변경 요청\n",
       "4284    국민카드사 연락옴 >> 기존 카드해지 문의 >  본인 연락주셔서 해지요청만 가능안내.\n",
       "4405                                             카드해지요청\n",
       "4432                                             카드해지요청\n",
       "4938                         카드사 고객번호 확인문의 -고객이 연락하기로 함\n",
       "4992                                              카드해지만\n",
       "5007                                           자동이체해지요청\n",
       "Name: COUNSEL_MEMO, dtype: object"
      ]
     },
     "execution_count": 9,
     "metadata": {},
     "output_type": "execute_result"
    }
   ],
   "source": [
    "## cf. 콜 유형 분류는 대부분 요금문의와 고객정보 문의이다. 그러나 실제 상담메모를 살펴보면 ... \n",
    "KB['COUNSEL_MEMO'][:20]"
   ]
  },
  {
   "cell_type": "code",
   "execution_count": 10,
   "id": "6f45a99e-61f6-4651-8be1-32b5cfc01dac",
   "metadata": {},
   "outputs": [
    {
     "data": {
      "text/plain": [
       "2                            자동이체만 해지\n",
       "4                             자동이체 해지\n",
       "168        카드자동이체 해제 문의 본인께서 연락주시라 안내\n",
       "592                          고지금액확인함.\n",
       "1031            이정숙01052313352 자동이체해지\n",
       "2569                             None\n",
       "3264                         납부자번호 확인\n",
       "3277                             카드해지\n",
       "3307     신한카드사전화,카드자동이체등록취소요청,고객취소요청함\n",
       "4009             3-2일 신청한 국민카드 해지만 원함\n",
       "4788             자동이체해지만/3월요금별도납부로안내함\n",
       "5121                          자동이체 해지\n",
       "5241                   자동이체 문자고지 해지요청\n",
       "5534                             None\n",
       "5871           자동이체 해지 요청 (카드사통한 요청 )\n",
       "6712       김영남 - 자동이체접수/삼성카드로 접수되어 있슴\n",
       "6858                      신한카드 3월적용안내\n",
       "8351                             None\n",
       "8695                        고객요청 /이소영\n",
       "10021                              해지\n",
       "Name: COUNSEL_MEMO, dtype: object"
      ]
     },
     "execution_count": 10,
     "metadata": {},
     "output_type": "execute_result"
    }
   ],
   "source": [
    "Shinhan['COUNSEL_MEMO'][:20]"
   ]
  },
  {
   "cell_type": "code",
   "execution_count": 11,
   "id": "ad201bf8-85a2-4321-b39e-f2d2e3e410f9",
   "metadata": {},
   "outputs": [
    {
     "name": "stdout",
     "output_type": "stream",
     "text": [
      "-일반콜의 평균 통화시간(초) = 129.25\n",
      "-카드사콜의 평균 통화시간(초) = 88.63\n"
     ]
    },
    {
     "data": {
      "text/plain": [
       "[Text(0.5, 1.0, '카드사콜의 통화시간 분포(초)')]"
      ]
     },
     "execution_count": 11,
     "metadata": {},
     "output_type": "execute_result"
    },
    {
     "data": {
      "image/png": "[encoded data removed]",
      "text/plain": [
       "<Figure size 1440x288 with 2 Axes>"
      ]
     },
     "metadata": {
      "needs_background": "light"
     },
     "output_type": "display_data"
    }
   ],
   "source": [
    "## 일반 콜과 카드사 콜의 질적 차이 (상담소요시간 비교)\n",
    "a = np.mean(df_2022['call_duration'])\n",
    "b = np.mean(df_2022_from_cards['call_duration'])\n",
    "\n",
    "print('-일반콜의 평균 통화시간(초) =', round(a,2)) \n",
    "print('-카드사콜의 평균 통화시간(초) =', round(b,2))\n",
    "\n",
    "figure, (ax1,ax2) = plt.subplots(ncols=2, sharex=True, sharey=True)\n",
    "figure.set_size_inches(20,4)\n",
    "sns.distplot(df_2022['call_duration'], ax=ax1)\n",
    "sns.distplot(df_2022_from_cards['call_duration'], ax=ax2)\n",
    "plt.xlim(-10, 600)\n",
    "plt.ylim(0,0.014)\n",
    "ax1.set(title = '일반콜의 통화시간 분포(초)')\n",
    "ax2.set(title = '카드사콜의 통화시간 분포(초)')"
   ]
  },
  {
   "cell_type": "markdown",
   "id": "7340ddf5-7db0-49dc-8bf8-05945ecef1d6",
   "metadata": {},
   "source": [
    "--- \n",
    "- 메이저 8개 카드사 고객센터로부터의 인입콜은 '22년 기준 19,836건 (전체 약 3백만콜 중 0.6% 수준) \n",
    "- 카드사별로는 사별 점유율과 유사하게 KB > 신한 > 우리카드 순이며, 상담내역은 동일하게 카드 자동이체 등록/해지 관련 내용임\n",
    "- 업무유형 분류체계에 자동이체 해지 관련 항목이 없음('요금문의'로 키인 하고 있음) --> 수정 필요성 검토 \n",
    "- 통화시간 측면에서 카드사 콜은 일반콜대비 평균 40초 정도 짧고, 통화시간 분포도 평균 중심으로 몰려있음 --> 카드사콜은 상대적으로 대응이 짧고 간단한 내용인 것으로 추정됨 \n",
    "- ###################################################################################################################################################################\n",
    "- <span style=\"color:#ffd33d\"> *약 2만콜 감축의 금전적 효과는 어느 수준일까? : (1) 건당 1천원 x 2만콜 = 약 2천만원/연  or  (2) 상담원 수 200명 x 0.6% = 1.2명(인당 인건비 36백만원) = 약 4천만원/연* </span>\n",
    "--- "
   ]
  },
  {
   "cell_type": "code",
   "execution_count": 12,
   "id": "5fc016da-8e56-4d4f-ab05-3a8e346a70da",
   "metadata": {},
   "outputs": [
    {
     "data": {
      "text/plain": [
       "(29148, 64)"
      ]
     },
     "execution_count": 12,
     "metadata": {},
     "output_type": "execute_result"
    }
   ],
   "source": [
    "## 2-2. 당사 수납센터(추심) -> 상담센터 인입콜의 빈도와 비중 파악 \n",
    "## 수납센터 전화번호 ~ ( 미래: 031801997xx, SM: 023668xxxx, PnU: 026329xxxx )\n",
    "df_2022_from_sn = df_2022[df_2022['TEL'].str.contains('031801997|023668|026329', na=False)]\n",
    "df_2022_from_sn.shape"
   ]
  },
  {
   "cell_type": "code",
   "execution_count": 13,
   "id": "afe54992-cafe-4aac-950c-5b82b365a7d1",
   "metadata": {},
   "outputs": [
    {
     "name": "stdout",
     "output_type": "stream",
     "text": [
      "- Mirae 콜수 = TEL    19751\n",
      "dtype: int64\n",
      "- SM 콜수 = TEL    1989\n",
      "dtype: int64\n",
      "- PnU 콜수 = TEL    7408\n",
      "dtype: int64\n"
     ]
    }
   ],
   "source": [
    "## 3개 수납센터별 인입콜수 \n",
    "Mirae = df_2022[df_2022['TEL'].str.contains('031801997', na=False)]\n",
    "SM = df_2022[df_2022['TEL'].str.contains('023668', na=False)]\n",
    "PnU = df_2022[df_2022['TEL'].str.contains('026329', na=False)]\n",
    "\n",
    "a = Mirae['TEL'].value_counts()\n",
    "a1 = pd.DataFrame(a)\n",
    "b = SM['TEL'].value_counts()\n",
    "b1 = pd.DataFrame(b)\n",
    "c = PnU['TEL'].value_counts()\n",
    "c1 = pd.DataFrame(c)\n",
    "\n",
    "print('- Mirae 콜수 =', a1.sum())\n",
    "print('- SM 콜수 =', b1.sum())\n",
    "print('- PnU 콜수 =', c1.sum())"
   ]
  },
  {
   "cell_type": "code",
   "execution_count": 14,
   "id": "3e48cd69-9d57-4896-b9aa-b7dc0575899c",
   "metadata": {},
   "outputs": [
    {
     "name": "stdout",
     "output_type": "stream",
     "text": [
      "요금문의        18005\n",
      "고객정보문의       3940\n",
      "기타문의         2376\n",
      "체납문의         2253\n",
      "전출문의          432\n",
      "AS문의          396\n",
      "전입문의          245\n",
      "검침문의          202\n",
      "차단/재공급불만       54\n",
      "계량기문의          51\n",
      "신규공급문의         24\n",
      "안전점검문의         22\n",
      "경보기문의           7\n",
      "화재              3\n",
      "고객정보관련불만        2\n",
      "방문독촉및불만         1\n",
      "체납수납센터불만        1\n",
      "누출(가스냄새)        1\n",
      "요금불만            1\n",
      "Name: DUTY_TYPE, dtype: int64\n"
     ]
    },
    {
     "data": {
      "text/plain": [
       "[Text(0.5, 1.0, 'PnU')]"
      ]
     },
     "execution_count": 14,
     "metadata": {},
     "output_type": "execute_result"
    },
    {
     "data": {
      "image/png": "[encoded data removed]",
      "text/plain": [
       "<Figure size 1440x288 with 3 Axes>"
      ]
     },
     "metadata": {
      "needs_background": "light"
     },
     "output_type": "display_data"
    }
   ],
   "source": [
    "## 수납센터별 상담유형 \n",
    "sn_3 = df_2022[df_2022['TEL'].str.contains('031801997|023668|026329', na=False)]\n",
    "print(sn_3['DUTY_TYPE'].value_counts())\n",
    "\n",
    "figure, (ax1,ax2,ax3) = plt.subplots(ncols=3)\n",
    "figure.set_size_inches(20,4)\n",
    "sns.countplot(data=Mirae, y='DUTY_TYPE', ax=ax1)\n",
    "sns.countplot(data=SM, y='DUTY_TYPE', ax=ax2)\n",
    "sns.countplot(data=PnU, y='DUTY_TYPE', ax=ax3)\n",
    "ax1.set(title = 'Mirae')\n",
    "ax2.set(title = 'SM')\n",
    "ax3.set(title = 'PnU')"
   ]
  },
  {
   "cell_type": "code",
   "execution_count": 15,
   "id": "97ca0367-1d68-49a4-8a2f-7c57f5f4228b",
   "metadata": {},
   "outputs": [
    {
     "data": {
      "text/plain": [
       "1                                       수납센터: 번호변경&요금문자요청\n",
       "7                   늦게방문요청. 현장정산.//전기렌지사용중 /진숙(전기사용한지3년됨)\n",
       "487                            수납센타/중지철회시 납부확약서 필요/고객문자발송\n",
       "659                                          신한 요금문자 수납센타\n",
       "755     수납센터  폰삭제   &  사무실번호 등록요청   2021.11~2022.2월내역 ...\n",
       "1084                                          문자고지등록/미납문자\n",
       "1097                                    수납센터/ 번호변경 후 금액문자\n",
       "1516                                                 None\n",
       "1535                                                 카드등록\n",
       "1592                     수납센터  폰 변경요청및   12~2월요금 가상번호  요청\n",
       "1805                                            수납센터-요금문자\n",
       "1927                          연락처 변겨후  20만원 금액,계좌문자/ 수납센타\n",
       "2108              수납센터 ; 집주인 명의로 되어있고 거주자 따로 있음 \\n고지서로 변경\n",
       "2294                                                 None\n",
       "2325                              가스는계속사용한다함 /검침확인안내// 주인\n",
       "2463                                         자동이체 카톡고지접수함\n",
       "2596                                  수납센타 요청/카드결제문의+명의등록\n",
       "2600                                       수납센터/일회성 15만원만\n",
       "3072                                                 None\n",
       "3314                                     수납센터/알림톡고지 폰번호확인\n",
       "Name: COUNSEL_MEMO, dtype: object"
      ]
     },
     "execution_count": 15,
     "metadata": {},
     "output_type": "execute_result"
    }
   ],
   "source": [
    "## cf. 콜 유형 분류는 요금문의가 대부분. 그러나 실제 상담메모를 살펴보면 ... \n",
    "Mirae['COUNSEL_MEMO'][:20]"
   ]
  },
  {
   "cell_type": "code",
   "execution_count": 16,
   "id": "f679bd16-0319-4de9-8b6c-750d1a2d1b33",
   "metadata": {},
   "outputs": [
    {
     "data": {
      "text/plain": [
       "3035                                        None\n",
       "3632                                        None\n",
       "3940                            수납센터전화,무단사용재중지요청\n",
       "4359                                수납센터)인입번호 안내\n",
       "5782                              수납센터 등록번호 삭제요청\n",
       "9944            2/10 통장에  금액 입금할꺼라고 미납문자 보내지 말라함\n",
       "10002    재공급/수납센터 /일부수납으로 재공급/25일4시까지 나머지 납부하기로~\n",
       "12491                        수납센터 - 미납요금 가상번호 발급\n",
       "12773             수납센타  무단사용 재중지 요청  2/4일  커플링제거\n",
       "14937                                       None\n",
       "17797                      0020 : 잠금장치(키퍼체결) /송이\n",
       "18616                               수납센터 페이번호 안내\n",
       "19730                      1월ars가상번호 발급후 아내-수납센터\n",
       "19977                                       수납센터\n",
       "19992                              무단사용-재중지 수납센터\n",
       "22217                                     수납센터전화\n",
       "22530                          고지서 재발송 요청 / 수납센터\n",
       "25047                                수납센터 재공급 요청\n",
       "26339                        수납센터 1/4일 인입번호 확인요청\n",
       "27606                            메일주소틀려서 재발송 9세대\n",
       "Name: COUNSEL_MEMO, dtype: object"
      ]
     },
     "execution_count": 16,
     "metadata": {},
     "output_type": "execute_result"
    }
   ],
   "source": [
    "SM['COUNSEL_MEMO'][:20]"
   ]
  },
  {
   "cell_type": "code",
   "execution_count": 17,
   "id": "d1df1f44-d58e-482c-be04-f6a1ee274074",
   "metadata": {},
   "outputs": [
    {
     "data": {
      "text/plain": [
       "150                     수납센터-인증x/010-8899-6663 인입 전화번호 받음\n",
       "204                                      수납센터 / 2개월분 요금문자\n",
       "443     수납센터 414,260원만 페이수납01021640894 요청 전산오류로 잠시후 문자...\n",
       "1231                                            수납센터 문자발송\n",
       "1424          수납센터 =>\\n연락처(다른사람 사용번호로 삭제요청) 010 8912 3239\n",
       "1531               수납센터 월별금액과 계좌 010-3403-8884 주인번호로 문자요청\n",
       "1932                                   12.1월)-카드요청...수납센터\n",
       "2277                                                 None\n",
       "2330                              수납센터 재공급 요청, 핸드폰 번호 변경 \n",
       "3340                                수납센터 전번삭제 요청 거주자 전번아님\n",
       "4074                                   수납센터 / 두달요금 가상번호발급\n",
       "4258                                               통합고지안내\n",
       "4331                                         수납센터)인입번호 안내\n",
       "4362                                        수납센터 -> 간단 안내\n",
       "4635                                                 None\n",
       "4861                                                 None\n",
       "5248    수납센터 ) 요금 납부하실거라고 계좌생성해달라고하셨는데 미계약세대라서 고객님이랑통화...\n",
       "6474                                                 None\n",
       "7154                                               당일 재공급\n",
       "8417                                      수납센터 / 내역서 팩스발송\n",
       "Name: COUNSEL_MEMO, dtype: object"
      ]
     },
     "execution_count": 17,
     "metadata": {},
     "output_type": "execute_result"
    }
   ],
   "source": [
    "PnU['COUNSEL_MEMO'][:20]"
   ]
  },
  {
   "cell_type": "code",
   "execution_count": 18,
   "id": "34c63a31-ee5a-43a1-8cfc-abcfb6dcb4d3",
   "metadata": {},
   "outputs": [
    {
     "name": "stdout",
     "output_type": "stream",
     "text": [
      "-일반콜의 평균 통화시간(초) = 129.25\n",
      "-수납센터콜의 평균 통화시간(초) = 69.13\n"
     ]
    },
    {
     "data": {
      "text/plain": [
       "[Text(0.5, 1.0, '수납센터콜의 통화시간 분포(초)')]"
      ]
     },
     "execution_count": 18,
     "metadata": {},
     "output_type": "execute_result"
    },
    {
     "data": {
      "image/png": "[encoded data removed]",
      "text/plain": [
       "<Figure size 1440x288 with 2 Axes>"
      ]
     },
     "metadata": {
      "needs_background": "light"
     },
     "output_type": "display_data"
    }
   ],
   "source": [
    "## 일반 콜과 수납센터 콜의 질적 차이 (상담소요시간 비교)\n",
    "a = np.mean(df_2022['call_duration'])\n",
    "b = np.mean(df_2022_from_sn['call_duration'])\n",
    "\n",
    "print('-일반콜의 평균 통화시간(초) =', round(a,2)) \n",
    "print('-수납센터콜의 평균 통화시간(초) =', round(b,2))\n",
    "\n",
    "figure, (ax1,ax2) = plt.subplots(ncols=2, sharex=True, sharey=True)\n",
    "figure.set_size_inches(20,4)\n",
    "sns.distplot(df_2022['call_duration'], ax=ax1)\n",
    "sns.distplot(df_2022_from_sn['call_duration'], ax=ax2)\n",
    "plt.xlim(-10, 600)\n",
    "plt.ylim(0,0.02)\n",
    "ax1.set(title = '일반콜의 통화시간 분포(초)')\n",
    "ax2.set(title = '수납센터콜의 통화시간 분포(초)')"
   ]
  },
  {
   "cell_type": "markdown",
   "id": "4313d4f6-7865-45b6-b78d-87cf30ad1a01",
   "metadata": {},
   "source": [
    "--- \n",
    "- 3개 수납센터로부터의 인입콜은 '22년 기준 29,148건 (전체 약 3백만콜 중 약 1% 수준), 특히 \"미래\"로부터의 콜 인입이 약 67%를 차지함 \n",
    "- 업무유형은 앞서 카드사와 마찬가지로 대부분 '요금문의'로 분류되고 있으나, 상담메모 확인 결과 정보변경/납부방법 안내/재공급 요청 등 다양한 내용들임 \n",
    "- 통화시간 또한 일반콜 대비 평균 60초 정도 짧은, 즉 상대적으로 대응이 짧고 간단한 통화로 해결되고 있는 것으로 판단됨 \n",
    "#############################################################################################################################\n",
    "- <span style=\"color:#ffd33d\"> 카드사 + 수납센터 인입콜 합산 연간 약 5만콜(비중 약 1.7%) --> 상담원 200명 x 1.7% = 3.4명 감축 가능? </span>\n",
    "--- "
   ]
  },
  {
   "cell_type": "code",
   "execution_count": null,
   "id": "e1c6f404-e278-4a90-9586-c0ebe32c83ff",
   "metadata": {},
   "outputs": [],
   "source": []
  },
  {
   "cell_type": "code",
   "execution_count": null,
   "id": "2f2d2144-eec9-4856-8e2b-02ac27752ef4",
   "metadata": {},
   "outputs": [],
   "source": []
  },
  {
   "cell_type": "code",
   "execution_count": null,
   "id": "607ec94a-b796-4309-8341-6256c7b31e7a",
   "metadata": {},
   "outputs": [],
   "source": []
  },
  {
   "cell_type": "code",
   "execution_count": 24,
   "id": "574e9c7a-dd5b-40cc-8f80-fb0b4cf16e9e",
   "metadata": {},
   "outputs": [
    {
     "name": "stdout",
     "output_type": "stream",
     "text": [
      "방문독촉및불만     11817\n",
      "요금불만         1026\n",
      "차단/재공급불만      375\n",
      "고객정보관련불만      259\n",
      "안전점검불만        155\n",
      "검침불만          131\n",
      "직원서비스불만        91\n",
      "기타불만           65\n",
      "계량기업무불만        55\n",
      "회사불만           18\n",
      "체납수납센터불만        9\n",
      "신규공급관련불만        4\n",
      "Name: DUTY_TYPE, dtype: int64\n"
     ]
    },
    {
     "data": {
      "text/plain": [
       "<AxesSubplot:xlabel='count', ylabel='DUTY_TYPE'>"
      ]
     },
     "execution_count": 24,
     "metadata": {},
     "output_type": "execute_result"
    },
    {
     "data": {
      "image/png": "[encoded data removed]",
      "text/plain": [
       "<Figure size 432x288 with 1 Axes>"
      ]
     },
     "metadata": {
      "needs_background": "light"
     },
     "output_type": "display_data"
    }
   ],
   "source": [
    "complain = df_2022[df_2022['DUTY_TYPE_CLAS'] == '불만']\n",
    "print(complain['DUTY_TYPE'].value_counts())\n",
    "sns.countplot(data=complain, y='DUTY_TYPE')"
   ]
  },
  {
   "cell_type": "code",
   "execution_count": 25,
   "id": "b0c4cc84-7784-4018-91f2-f1c2d480f902",
   "metadata": {},
   "outputs": [
    {
     "data": {
      "text/plain": [
       "208                            기사연락처문의/\n",
       "355              당일 오전 방문예정 / 기사 연락예정안내\n",
       "2078                   방문 시간 관련 민원 홈페이지\n",
       "2398                            독촉-기사전달\n",
       "2830                                독촉옴\n",
       "2948                             접수시간확인\n",
       "3237                               None\n",
       "3317                               접수확인\n",
       "3558                             당일방문예정\n",
       "4195                             8일로 안내\n",
       "4726                                 독촉\n",
       "4860                            현장직원 문발\n",
       "5021                       방문시간문의/ 기사전달\n",
       "5137                               None\n",
       "5446                               None\n",
       "5448       방문시간전화요청/010-8947-1253 /기사전달\n",
       "6066                               None\n",
       "6466       인정고지 과다로 불만. 고객에게 전화 부탁드립니다.\n",
       "6643                            오후 방문안내\n",
       "6724                               예약확인\n",
       "6996                        부동산 정산완료 확인\n",
       "7204                             가스사용방법\n",
       "7942     방문시간문의/ 기사 방문전 연락드림 정산되면 문자발송됨\n",
       "8097                3/22일 완납확인/오전빠른재개요청\n",
       "8104                               None\n",
       "8976                        방문시간문의/기사전달\n",
       "9953                               None\n",
       "10312                                독촉\n",
       "10429                            방문시간문의\n",
       "10722                              None\n",
       "Name: COUNSEL_MEMO, dtype: object"
      ]
     },
     "execution_count": 25,
     "metadata": {},
     "output_type": "execute_result"
    }
   ],
   "source": [
    "complain['COUNSEL_MEMO'][:30]"
   ]
  },
  {
   "cell_type": "code",
   "execution_count": null,
   "id": "45110eb4-4e0b-4dc0-b490-e9dd4f66523a",
   "metadata": {},
   "outputs": [],
   "source": []
  },
  {
   "cell_type": "code",
   "execution_count": null,
   "id": "bed605b5-e254-4130-b5f0-bdfee2e62773",
   "metadata": {},
   "outputs": [],
   "source": []
  },
  {
   "cell_type": "code",
   "execution_count": null,
   "id": "a82ee4d5-361a-4791-86b5-aec42b3064cf",
   "metadata": {},
   "outputs": [],
   "source": []
  },
  {
   "cell_type": "code",
   "execution_count": null,
   "id": "9c1c8192-eea5-4e85-8db5-a1466cd5a9e9",
   "metadata": {},
   "outputs": [],
   "source": []
  },
  {
   "cell_type": "code",
   "execution_count": null,
   "id": "c5409a15-50ac-4454-805c-8aaa91cc9eea",
   "metadata": {},
   "outputs": [],
   "source": []
  },
  {
   "cell_type": "code",
   "execution_count": null,
   "id": "927f7798-0631-43de-aec3-90a3266cec8e",
   "metadata": {},
   "outputs": [],
   "source": []
  }
 ],
 "metadata": {
  "kernelspec": {
   "display_name": "Python 3 (ipykernel)",
   "language": "python",
   "name": "python3"
  },
  "language_info": {
   "codemirror_mode": {
    "name": "ipython",
    "version": 3
   },
   "file_extension": ".py",
   "mimetype": "text/x-python",
   "name": "python",
   "nbconvert_exporter": "python",
   "pygments_lexer": "ipython3",
   "version": "3.9.6"
  }
 },
 "nbformat": 4,
 "nbformat_minor": 5
}
