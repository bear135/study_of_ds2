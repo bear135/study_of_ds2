{
 "cells": [
  {
   "cell_type": "markdown",
   "id": "8f421035-c527-4da9-883f-09310e629f5d",
   "metadata": {},
   "source": [
    "### 도시가스 고객센터 상담이력정보 분석 - 02. data loading\n",
    "- Source Data : 이지원 상담이력정보 테이별(APDB_CL_CS_COUNSEL_CALL_HISTORY_TM) \n",
    "- DB info. : DataPlatform RDS(MSSQL)\n",
    "- Data size : 13,558,241건 (2019.12.02~2023.07.21, 약 8.3GB) \n",
    "- columns 정보 : http://localhost:8888/doc/tree/work_2023/07.%EA%B5%90%EC%9C%A1_%EC%9D%B8%EC%9E%85%EC%BD%9C%ED%9A%A8%EC%9C%A8%ED%99%94/columns_detail.png\n",
    "---"
   ]
  },
  {
   "cell_type": "code",
   "execution_count": 1,
   "id": "b8e88773-ccbe-4c93-a8b9-182697b55d95",
   "metadata": {},
   "outputs": [],
   "source": [
    "## 필수 pkg's 및 한글폰트 사용 설정 \n",
    "import numpy as np\n",
    "import pandas as pd\n",
    "import matplotlib.pyplot as plt \n",
    "import seaborn as sns \n",
    "import warnings \n",
    "warnings.filterwarnings('ignore')\n",
    "import time \n",
    "\n",
    "plt.rcParams['font.family'] = 'Malgun Gothic'\n",
    "plt.rc('axes',unicode_minus=False)"
   ]
  },
  {
   "cell_type": "markdown",
   "id": "292a5de2-cdca-4b9b-b980-1b0afcb4cd39",
   "metadata": {},
   "source": [
    "---\n",
    "#### 0. Data loading \n",
    "- 앞서 DB로 부터 추출&전처리 완료된, 최근 3년(2020~2022년) 상담이력 데이터를 불러온다. \n",
    "- 데이터 포맷은 메모리 절약을 위해 parquet 압축되었으며, 파일크기는 약 1천 85만건(1.4GB) \n",
    "---"
   ]
  },
  {
   "cell_type": "code",
   "execution_count": 2,
   "id": "4101ee17-d5d7-4493-bbb5-5d782ee4ab8f",
   "metadata": {},
   "outputs": [
    {
     "name": "stdout",
     "output_type": "stream",
     "text": [
      "(10854342, 64)\n",
      "time : 56.841110944747925\n"
     ]
    }
   ],
   "source": [
    "start = time.time()  \n",
    "\n",
    "pd.set_option('display.max_columns', None)\n",
    "df_20_22 = pd.read_parquet('data/df_20_22.parquet', engine = 'pyarrow')\n",
    "print(df_20_22.shape)\n",
    "df_20_22.head()\n",
    "\n",
    "print(\"time :\", time.time() - start) "
   ]
  },
  {
   "cell_type": "code",
   "execution_count": null,
   "id": "cb57c73a-e511-4632-91ce-9c6cd62b6175",
   "metadata": {},
   "outputs": [],
   "source": []
  }
 ],
 "metadata": {
  "kernelspec": {
   "display_name": "Python 3 (ipykernel)",
   "language": "python",
   "name": "python3"
  },
  "language_info": {
   "codemirror_mode": {
    "name": "ipython",
    "version": 3
   },
   "file_extension": ".py",
   "mimetype": "text/x-python",
   "name": "python",
   "nbconvert_exporter": "python",
   "pygments_lexer": "ipython3",
   "version": "3.9.6"
  }
 },
 "nbformat": 4,
 "nbformat_minor": 5
}
