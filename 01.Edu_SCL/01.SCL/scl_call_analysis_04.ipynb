{
 "cells": [
  {
   "cell_type": "markdown",
   "id": "03a40906-fd0a-4fa4-92ef-ad56f95a3d72",
   "metadata": {},
   "source": [
    "### 도시가스 고객센터 상담이력정보 분석 - 1. 인입콜 감축 방안 탐색 \n",
    "- Source Data : 이지원 상담이력정보 테이별(APDB_CL_CS_COUNSEL_CALL_HISTORY_TM) \n",
    "- DB info. : DataPlatform RDS(MSSQL)\n",
    "- Raw Data size : 13,558,241건 (2019.12.02~2023.07.21, 약 8.3GB) \n",
    "- 분석대상 Data size : 3,345,622건 (2022.01.01~2022.12.31, 압축후 약 446MB)\n",
    "- columns 정보 : http://localhost:8888/doc/tree/work_2023/07.%EA%B5%90%EC%9C%A1_%EC%9D%B8%EC%9E%85%EC%BD%9C%ED%9A%A8%EC%9C%A8%ED%99%94/columns_detail.png\n",
    "---"
   ]
  },
  {
   "cell_type": "code",
   "execution_count": 1,
   "id": "7b9abcbe-9b43-4483-b1a2-25b7278be9d5",
   "metadata": {},
   "outputs": [],
   "source": [
    "## 필수 pkg's 및 한글폰트 사용 설정 \n",
    "import numpy as np\n",
    "import pandas as pd\n",
    "import matplotlib.pyplot as plt \n",
    "import seaborn as sns \n",
    "import warnings \n",
    "warnings.filterwarnings('ignore')\n",
    "import time \n",
    "\n",
    "plt.rcParams['font.family'] = 'Malgun Gothic'\n",
    "plt.rc('axes',unicode_minus=False)"
   ]
  },
  {
   "cell_type": "code",
   "execution_count": 2,
   "id": "419ba628-6c23-4ace-a382-84467e822d69",
   "metadata": {},
   "outputs": [
    {
     "name": "stdout",
     "output_type": "stream",
     "text": [
      "(3345622, 64)\n"
     ]
    }
   ],
   "source": [
    "## Dataset loading \n",
    "df_2022 = pd.read_parquet('data/df_2022.parquet')\n",
    "print(df_2022.shape)"
   ]
  },
  {
   "cell_type": "code",
   "execution_count": 3,
   "id": "e64df40c-9368-4385-8be1-9760e8e46a8a",
   "metadata": {},
   "outputs": [
    {
     "data": {
      "text/html": [
       "<div>\n",
       "<style scoped>\n",
       "    .dataframe tbody tr th:only-of-type {\n",
       "        vertical-align: middle;\n",
       "    }\n",
       "\n",
       "    .dataframe tbody tr th {\n",
       "        vertical-align: top;\n",
       "    }\n",
       "\n",
       "    .dataframe thead th {\n",
       "        text-align: right;\n",
       "    }\n",
       "</style>\n",
       "<table border=\"1\" class=\"dataframe\">\n",
       "  <thead>\n",
       "    <tr style=\"text-align: right;\">\n",
       "      <th></th>\n",
       "      <th>COUNSEL_CALL_HISTORY_EID</th>\n",
       "      <th>TEL</th>\n",
       "      <th>BOUND_TYPE_CODE</th>\n",
       "      <th>ARS_CHANNEL</th>\n",
       "      <th>START_TIME</th>\n",
       "      <th>END_TIME</th>\n",
       "      <th>CALL_TIME</th>\n",
       "      <th>PAYER_NUMBER</th>\n",
       "      <th>CUSTOMER_NAME</th>\n",
       "      <th>CUSTOMER_DIVISION_CLAS_CODE</th>\n",
       "      <th>DUTY_TYPE_CLAS_CODE</th>\n",
       "      <th>CENTER_NAME</th>\n",
       "      <th>CENTER_CODE</th>\n",
       "      <th>COUNSEL_NAME</th>\n",
       "      <th>CALL_RESULT_CODE</th>\n",
       "      <th>HOUSE_TYPE_CODE</th>\n",
       "      <th>USE_TYPE_CODE</th>\n",
       "      <th>CALL_ID</th>\n",
       "      <th>COUNSEL_MEMO</th>\n",
       "      <th>COUNSEL_TYPE_CODE</th>\n",
       "      <th>RELATIONSHIP_CODE</th>\n",
       "      <th>RELATIONSHIP_CENTER_CODE</th>\n",
       "      <th>ENTITY_STATUS</th>\n",
       "      <th>MOD_DATE</th>\n",
       "      <th>REG_DATE</th>\n",
       "      <th>MOD_USER_ENTITY_ID</th>\n",
       "      <th>REG_USER_ENTITY_ID</th>\n",
       "      <th>TRF_USER_ENTITY_ID</th>\n",
       "      <th>TRF_DATE</th>\n",
       "      <th>CALLBACK_TYPE_CODE</th>\n",
       "      <th>CALLBACK_FIT_CODE</th>\n",
       "      <th>DUTY_TYPE_CODE</th>\n",
       "      <th>CUSTOMER_DIVISION_CODE</th>\n",
       "      <th>BOUND_TYPE</th>\n",
       "      <th>CUSTOMER_DIVISION_CLAS</th>\n",
       "      <th>DUTY_TYPE_CLAS</th>\n",
       "      <th>HOUSE_TYPE</th>\n",
       "      <th>USE_TYPE</th>\n",
       "      <th>COUNSEL_TYPE</th>\n",
       "      <th>DUTY_TYPE</th>\n",
       "      <th>CUSTOMER_DIVISION</th>\n",
       "      <th>CALLBACK_TYPE</th>\n",
       "      <th>CALLBACK_FIT</th>\n",
       "      <th>CALL_RESULT</th>\n",
       "      <th>EXTENSION</th>\n",
       "      <th>END_CALL_TYPE</th>\n",
       "      <th>END_CALL_TYPE_CODE</th>\n",
       "      <th>REGION</th>\n",
       "      <th>REGION_CODE</th>\n",
       "      <th>GENDER</th>\n",
       "      <th>GENDER_CODE</th>\n",
       "      <th>BIRTH_DATE</th>\n",
       "      <th>PROCESS_CALLBACK_TYPE_CODE</th>\n",
       "      <th>PROCESS_CALLBACK_TYPE</th>\n",
       "      <th>URGENT_CODE</th>\n",
       "      <th>URGENT</th>\n",
       "      <th>VOC_ENTITY_ID</th>\n",
       "      <th>PARTNER</th>\n",
       "      <th>call_year</th>\n",
       "      <th>call_month</th>\n",
       "      <th>call_day</th>\n",
       "      <th>call_hour</th>\n",
       "      <th>call_weekday</th>\n",
       "      <th>call_duration</th>\n",
       "    </tr>\n",
       "  </thead>\n",
       "  <tbody>\n",
       "    <tr>\n",
       "      <th>0</th>\n",
       "      <td>182612264.0</td>\n",
       "      <td>0326796155</td>\n",
       "      <td>IB</td>\n",
       "      <td>0상담원연결</td>\n",
       "      <td>2022-01-06 10:16:59</td>\n",
       "      <td>2022-01-06 10:17:55</td>\n",
       "      <td>56000.0</td>\n",
       "      <td>106824448</td>\n",
       "      <td>이영희</td>\n",
       "      <td>GENERAL</td>\n",
       "      <td>1</td>\n",
       "      <td>오정</td>\n",
       "      <td>16</td>\n",
       "      <td>None</td>\n",
       "      <td>SUCCESS</td>\n",
       "      <td>40</td>\n",
       "      <td>LOF1</td>\n",
       "      <td>548A5FA2-44DA-43C7-976B-F36D10B7CF8B</td>\n",
       "      <td>요금 내역서 발송</td>\n",
       "      <td>MODESTY</td>\n",
       "      <td>OWN</td>\n",
       "      <td>16</td>\n",
       "      <td>UPDATE</td>\n",
       "      <td>2022-01-06 10:18:11</td>\n",
       "      <td>2022-01-06 10:16:59</td>\n",
       "      <td>1721.0</td>\n",
       "      <td>1721.0</td>\n",
       "      <td>None</td>\n",
       "      <td>None</td>\n",
       "      <td>None</td>\n",
       "      <td>None</td>\n",
       "      <td>CHARGE</td>\n",
       "      <td>GENTLE</td>\n",
       "      <td>인바운드</td>\n",
       "      <td>일반</td>\n",
       "      <td>문의</td>\n",
       "      <td>공동주택</td>\n",
       "      <td>업무용</td>\n",
       "      <td>겸손</td>\n",
       "      <td>요금문의</td>\n",
       "      <td>온화함</td>\n",
       "      <td>None</td>\n",
       "      <td>None</td>\n",
       "      <td>통화성공</td>\n",
       "      <td>6091</td>\n",
       "      <td>None</td>\n",
       "      <td>None</td>\n",
       "      <td>삼정동</td>\n",
       "      <td>None</td>\n",
       "      <td>여성</td>\n",
       "      <td>F</td>\n",
       "      <td>600315.0</td>\n",
       "      <td>None</td>\n",
       "      <td>None</td>\n",
       "      <td>None</td>\n",
       "      <td>None</td>\n",
       "      <td>96953091</td>\n",
       "      <td>700737322</td>\n",
       "      <td>2022</td>\n",
       "      <td>1</td>\n",
       "      <td>6</td>\n",
       "      <td>10</td>\n",
       "      <td>Thursday</td>\n",
       "      <td>56.0</td>\n",
       "    </tr>\n",
       "    <tr>\n",
       "      <th>1</th>\n",
       "      <td>182612760.0</td>\n",
       "      <td>03180199756</td>\n",
       "      <td>IB</td>\n",
       "      <td>0상담원연결</td>\n",
       "      <td>2022-01-06 10:17:29</td>\n",
       "      <td>2022-01-06 10:17:59</td>\n",
       "      <td>30000.0</td>\n",
       "      <td>304366212</td>\n",
       "      <td>김진영</td>\n",
       "      <td>GENERAL</td>\n",
       "      <td>1</td>\n",
       "      <td>동인천</td>\n",
       "      <td>11</td>\n",
       "      <td>None</td>\n",
       "      <td>SUCCESS</td>\n",
       "      <td>10</td>\n",
       "      <td>LRH1</td>\n",
       "      <td>9389BB5F-A391-4B53-9254-103F496A3B89</td>\n",
       "      <td>수납센터: 번호변경&amp;요금문자요청</td>\n",
       "      <td>DOUCENESS</td>\n",
       "      <td>OWN</td>\n",
       "      <td>11</td>\n",
       "      <td>UPDATE</td>\n",
       "      <td>2022-01-06 10:18:41</td>\n",
       "      <td>2022-01-06 10:17:30</td>\n",
       "      <td>1677.0</td>\n",
       "      <td>1677.0</td>\n",
       "      <td>None</td>\n",
       "      <td>None</td>\n",
       "      <td>None</td>\n",
       "      <td>None</td>\n",
       "      <td>CHARGE</td>\n",
       "      <td>GENTLE</td>\n",
       "      <td>인바운드</td>\n",
       "      <td>일반</td>\n",
       "      <td>문의</td>\n",
       "      <td>원룸</td>\n",
       "      <td>난방용</td>\n",
       "      <td>차분</td>\n",
       "      <td>요금문의</td>\n",
       "      <td>온화함</td>\n",
       "      <td>None</td>\n",
       "      <td>None</td>\n",
       "      <td>통화성공</td>\n",
       "      <td>6030</td>\n",
       "      <td>None</td>\n",
       "      <td>None</td>\n",
       "      <td>도화1동</td>\n",
       "      <td>None</td>\n",
       "      <td>남성</td>\n",
       "      <td>M</td>\n",
       "      <td>851024.0</td>\n",
       "      <td>None</td>\n",
       "      <td>None</td>\n",
       "      <td>None</td>\n",
       "      <td>None</td>\n",
       "      <td>96953118</td>\n",
       "      <td>707153261</td>\n",
       "      <td>2022</td>\n",
       "      <td>1</td>\n",
       "      <td>6</td>\n",
       "      <td>10</td>\n",
       "      <td>Thursday</td>\n",
       "      <td>30.0</td>\n",
       "    </tr>\n",
       "  </tbody>\n",
       "</table>\n",
       "</div>"
      ],
      "text/plain": [
       "   COUNSEL_CALL_HISTORY_EID          TEL BOUND_TYPE_CODE ARS_CHANNEL  \\\n",
       "0               182612264.0   0326796155              IB      0상담원연결   \n",
       "1               182612760.0  03180199756              IB      0상담원연결   \n",
       "\n",
       "           START_TIME            END_TIME  CALL_TIME PAYER_NUMBER  \\\n",
       "0 2022-01-06 10:16:59 2022-01-06 10:17:55    56000.0    106824448   \n",
       "1 2022-01-06 10:17:29 2022-01-06 10:17:59    30000.0    304366212   \n",
       "\n",
       "  CUSTOMER_NAME CUSTOMER_DIVISION_CLAS_CODE DUTY_TYPE_CLAS_CODE CENTER_NAME  \\\n",
       "0           이영희                     GENERAL                   1          오정   \n",
       "1           김진영                     GENERAL                   1         동인천   \n",
       "\n",
       "  CENTER_CODE COUNSEL_NAME CALL_RESULT_CODE HOUSE_TYPE_CODE USE_TYPE_CODE  \\\n",
       "0          16         None          SUCCESS              40          LOF1   \n",
       "1          11         None          SUCCESS              10          LRH1   \n",
       "\n",
       "                                CALL_ID       COUNSEL_MEMO COUNSEL_TYPE_CODE  \\\n",
       "0  548A5FA2-44DA-43C7-976B-F36D10B7CF8B          요금 내역서 발송           MODESTY   \n",
       "1  9389BB5F-A391-4B53-9254-103F496A3B89  수납센터: 번호변경&요금문자요청         DOUCENESS   \n",
       "\n",
       "  RELATIONSHIP_CODE RELATIONSHIP_CENTER_CODE ENTITY_STATUS  \\\n",
       "0               OWN                       16        UPDATE   \n",
       "1               OWN                       11        UPDATE   \n",
       "\n",
       "             MOD_DATE            REG_DATE  MOD_USER_ENTITY_ID  \\\n",
       "0 2022-01-06 10:18:11 2022-01-06 10:16:59              1721.0   \n",
       "1 2022-01-06 10:18:41 2022-01-06 10:17:30              1677.0   \n",
       "\n",
       "   REG_USER_ENTITY_ID TRF_USER_ENTITY_ID TRF_DATE CALLBACK_TYPE_CODE  \\\n",
       "0              1721.0               None     None               None   \n",
       "1              1677.0               None     None               None   \n",
       "\n",
       "  CALLBACK_FIT_CODE DUTY_TYPE_CODE CUSTOMER_DIVISION_CODE BOUND_TYPE  \\\n",
       "0              None         CHARGE                 GENTLE       인바운드   \n",
       "1              None         CHARGE                 GENTLE       인바운드   \n",
       "\n",
       "  CUSTOMER_DIVISION_CLAS DUTY_TYPE_CLAS HOUSE_TYPE USE_TYPE COUNSEL_TYPE  \\\n",
       "0                     일반             문의       공동주택      업무용           겸손   \n",
       "1                     일반             문의         원룸      난방용           차분   \n",
       "\n",
       "  DUTY_TYPE CUSTOMER_DIVISION CALLBACK_TYPE CALLBACK_FIT CALL_RESULT  \\\n",
       "0      요금문의               온화함          None         None        통화성공   \n",
       "1      요금문의               온화함          None         None        통화성공   \n",
       "\n",
       "  EXTENSION END_CALL_TYPE END_CALL_TYPE_CODE REGION REGION_CODE GENDER  \\\n",
       "0      6091          None               None    삼정동        None     여성   \n",
       "1      6030          None               None   도화1동        None     남성   \n",
       "\n",
       "  GENDER_CODE  BIRTH_DATE PROCESS_CALLBACK_TYPE_CODE PROCESS_CALLBACK_TYPE  \\\n",
       "0           F    600315.0                       None                  None   \n",
       "1           M    851024.0                       None                  None   \n",
       "\n",
       "  URGENT_CODE URGENT VOC_ENTITY_ID    PARTNER  call_year  call_month  \\\n",
       "0        None   None      96953091  700737322       2022           1   \n",
       "1        None   None      96953118  707153261       2022           1   \n",
       "\n",
       "   call_day  call_hour call_weekday  call_duration  \n",
       "0         6         10     Thursday           56.0  \n",
       "1         6         10     Thursday           30.0  "
      ]
     },
     "execution_count": 3,
     "metadata": {},
     "output_type": "execute_result"
    }
   ],
   "source": [
    "pd.set_option('display.max_columns', None)\n",
    "df_2022.head(2)"
   ]
  },
  {
   "cell_type": "markdown",
   "id": "d095bb34-5913-4876-bca4-f419d1113cb4",
   "metadata": {},
   "source": [
    "#### 1. 부동산, 관리사무소 등으로 부터의 (이사, 전출입 관련) 인입콜 \n",
    "- 현업 담당자와 협의하여 부동산/중개사/관리실 등 31개 키워드 선정 \n",
    "- 상담메모('COUNSEL_MEMO')에 키워드가 포함된 건들 추출 \n",
    "- 고객명('CUSTOMER_NAME')에 키워드가 포함된 건들 추출\n",
    "- 관계유형('RELATIONSHIP_CODE')이 MANAGER로 기입된 건들 추출"
   ]
  },
  {
   "cell_type": "code",
   "execution_count": 4,
   "id": "87644a66-0eeb-48d3-b40b-ce21061fa7b8",
   "metadata": {},
   "outputs": [],
   "source": [
    "## 31개 키워드 선정 \n",
    "key_words = '집주인|주인|소유주|주인세대|건물주|소유자|관리인|관리실|사무실|관리사무소|관리사무실|관리소|관리자|관리|주택|건설|고시원|기숙사|부동산|중개인|중개사|중개사무소|중개사무실|공인중개사|분양사무실|분양사무소|분양|LH공사|입주자'"
   ]
  },
  {
   "cell_type": "code",
   "execution_count": 5,
   "id": "b558018e-043f-44c4-8eae-08a8715ce292",
   "metadata": {},
   "outputs": [
    {
     "data": {
      "text/plain": [
       "(281998, 64)"
      ]
     },
     "execution_count": 5,
     "metadata": {},
     "output_type": "execute_result"
    }
   ],
   "source": [
    "## 상담메모에 키워드 포함 or 고객명에 키워드 포함 or RELATIONSHIP_CODE == MANAGER\n",
    "df_2022_bds = df_2022[(df_2022['COUNSEL_MEMO'].str.contains(key_words, na=False)) | (df_2022['CUSTOMER_NAME'].str.contains(key_words, na=False)) | (df_2022['RELATIONSHIP_CODE'] == 'MANAGER')]\n",
    "df_2022_bds.shape"
   ]
  },
  {
   "cell_type": "code",
   "execution_count": 6,
   "id": "b6ede0c8-db22-4f98-9233-2cf94fe13499",
   "metadata": {},
   "outputs": [
    {
     "data": {
      "text/plain": [
       "11                           10일 오전 전출 / 전출요금 집주인이 납부하기로\n",
       "12                                               주인 동파사용\n",
       "33     주안1동 84-4 101호는 렌지설치할거고 (보일러없음) 102호는 사무실이라 가스...\n",
       "34                                 1/10 전입 등록 확인 / 대명부동산\n",
       "45                     지침543 정산금액 12,140원 농협 /부동산, 해지않기로\n",
       "52                                           우리관리-전입접수확인\n",
       "85                고객(202)/54,180원 안내 차단거부함 건물주분이 사용할꺼라고함\n",
       "119                                              관 - 재공급\n",
       "145                                       관리자/ 세입자로 명의변경\n",
       "155                                          정산금 납부안됨 안내\n",
       "157         인입자 관리자 : 전입방문시 본인한테 연락달라함 / 전출입과정 이해를 잘 못하심\n",
       "181                오전현장정산. 안전점검 채현 //2층건물주 거주 문의하도록  요청함\n",
       "187                             1002/44,620\\n 이미 전입햇다 하심\n",
       "206                                             집주인)미납안내\n",
       "209                4,910원 306097087로 합산고지/전입자가 전입등록 늦게 함\n",
       "212                     주인 세입자 금일 전출로 정산요청. 지침1950 연락요망.\n",
       "232                                      부동산 - 2/26전출.정산\n",
       "239    가스 사용 문의 // 전출시 가스 잠궜다고 소리지름 // 당연히 잠궈야되는거고 오늘...\n",
       "263                                  정산 금액 입금안됨  / 연락주세요\n",
       "286    세입자 전화주심/ 오늘 안내받은금액중 카카오자동이체로 일부 출금되었다고함. 차액만 ...\n",
       "Name: COUNSEL_MEMO, dtype: object"
      ]
     },
     "execution_count": 6,
     "metadata": {},
     "output_type": "execute_result"
    }
   ],
   "source": [
    "## 주요 상담내용 확인 \n",
    "df_2022_bds['COUNSEL_MEMO'][:20]"
   ]
  },
  {
   "cell_type": "code",
   "execution_count": 7,
   "id": "cbd5046a-1a79-4829-8655-0bcb55491bfe",
   "metadata": {},
   "outputs": [
    {
     "name": "stdout",
     "output_type": "stream",
     "text": [
      "전출문의        117017\n",
      "요금문의         92102\n",
      "전입문의         32774\n",
      "고객정보문의       14898\n",
      "기타문의         11792\n",
      "AS문의          6582\n",
      "안전점검문의        2065\n",
      "검침문의          1577\n",
      "체납문의          1566\n",
      "계량기문의          491\n",
      "누출(가스냄새)       341\n",
      "신규공급문의         289\n",
      "방문독촉및불만        173\n",
      "경보기문의          129\n",
      "요금불만            54\n",
      "화재              36\n",
      "안전점검불만          20\n",
      "차단/재공급불만        17\n",
      "직원서비스불만         14\n",
      "고객정보관련불만        13\n",
      "기타불만             9\n",
      "회사불만             8\n",
      "검침불만             7\n",
      "계량기업무불만          3\n",
      "SE칭찬             2\n",
      "Name: DUTY_TYPE, dtype: int64\n"
     ]
    },
    {
     "data": {
      "text/plain": [
       "<AxesSubplot:xlabel='count', ylabel='DUTY_TYPE'>"
      ]
     },
     "execution_count": 7,
     "metadata": {},
     "output_type": "execute_result"
    },
    {
     "data": {
      "image/png": "[encoded data removed]",
      "text/plain": [
       "<Figure size 504x720 with 1 Axes>"
      ]
     },
     "metadata": {
      "needs_background": "light"
     },
     "output_type": "display_data"
    }
   ],
   "source": [
    "print(df_2022_bds['DUTY_TYPE'].value_counts())\n",
    "plt.figure(figsize = (7,10))\n",
    "sns.countplot(data=df_2022_bds, y='DUTY_TYPE', order = df_2022_bds['DUTY_TYPE'].value_counts().index)"
   ]
  },
  {
   "cell_type": "markdown",
   "id": "9518d0de-d94e-4c08-ab6e-1bda9f5f7f4e",
   "metadata": {},
   "source": [
    "- 부동산/관리실/중개인 등으로 부터의 인입콜이 '22년 기준 약 28만건 (전체 콜의 8.4%) \n",
    "- 상담 내용은 주로 이사와 관련된 전/츨입, 요금정산과 관련된 내용 \n",
    "  - --> 디지털 채널을 통한 셀프 전출입 활성화를 통해, 인입콜의 상당 부분을 대체할 수 있지 않을까? \n",
    "--- "
   ]
  },
  {
   "cell_type": "markdown",
   "id": "816e02ba-e062-41c6-a80d-a55a36fd2ec9",
   "metadata": {},
   "source": [
    "#### 2. 카드사로 부터의 인입콜 (자동이체 해지/변경 관련)\n",
    "- 콜 인입처('TEL')가 신용카드사 고객센터 전화번호인 건 추출 \n",
    "- 신용카드사 홈페이지를 통해 각사 고객센터 전화번호 수집 "
   ]
  },
  {
   "cell_type": "code",
   "execution_count": 8,
   "id": "981f411f-d4b6-4473-9b16-bb334cf6b8a8",
   "metadata": {},
   "outputs": [],
   "source": [
    "## 8개 카드사 고객센터 전화번호 \n",
    "## (삼성:15888700, 롯데:15888100, 우리:15889955, KB:15881688 & 15881788, 신한:15447000, 현대:15776000, BC:15884000, 하나:18001111)\n",
    "card_tel = '15888700|15888100|15889955|15881688|15881788|15447000|15776000|15884000|18001111'"
   ]
  },
  {
   "cell_type": "code",
   "execution_count": 9,
   "id": "31b080ee-b059-48d6-86b7-92e5326e1ea9",
   "metadata": {},
   "outputs": [
    {
     "data": {
      "text/plain": [
       "(19836, 64)"
      ]
     },
     "execution_count": 9,
     "metadata": {},
     "output_type": "execute_result"
    }
   ],
   "source": [
    "df_2022_from_cards = df_2022[df_2022['TEL'].str.contains(card_tel, na=False)]\n",
    "df_2022_from_cards.shape"
   ]
  },
  {
   "cell_type": "code",
   "execution_count": 10,
   "id": "a2442fb8-3161-4987-b8c0-0b3fa6ca73e1",
   "metadata": {},
   "outputs": [
    {
     "name": "stdout",
     "output_type": "stream",
     "text": [
      "- KB카드 콜수 = 15881688    10128\n",
      "Name: TEL, dtype: int64\n",
      "- 신한카드 콜수 = 0215447000    8605\n",
      "15447000        58\n",
      "Name: TEL, dtype: int64\n",
      "- 우리카드 콜수 = 15889955    1001\n",
      "Name: TEL, dtype: int64\n"
     ]
    }
   ],
   "source": [
    "## Top3 카드사 인입콜수 \n",
    "KB = df_2022[df_2022['TEL'].str.contains('15881688', na=False)]\n",
    "Shinhan = df_2022[df_2022['TEL'].str.contains('15447000', na=False)]\n",
    "Woorie = df_2022[df_2022['TEL'].str.contains('15889955', na=False)]\n",
    "\n",
    "print('- KB카드 콜수 =', KB['TEL'].value_counts())\n",
    "print('- 신한카드 콜수 =', Shinhan['TEL'].value_counts())\n",
    "print('- 우리카드 콜수 =', Woorie['TEL'].value_counts())"
   ]
  },
  {
   "cell_type": "code",
   "execution_count": 11,
   "id": "6f7fafa5-671f-4436-9c4f-faa3cdd57000",
   "metadata": {},
   "outputs": [
    {
     "name": "stdout",
     "output_type": "stream",
     "text": [
      "요금문의      14564\n",
      "고객정보문의     2330\n",
      "기타문의       1918\n",
      "전입문의        302\n",
      "전출문의         89\n",
      "AS문의         27\n",
      "검침문의         14\n",
      "신규공급문의        7\n",
      "안전점검문의        5\n",
      "화재            3\n",
      "경보기문의         1\n",
      "Name: DUTY_TYPE, dtype: int64\n"
     ]
    },
    {
     "data": {
      "text/plain": [
       "[Text(0.5, 1.0, 'Woorie')]"
      ]
     },
     "execution_count": 11,
     "metadata": {},
     "output_type": "execute_result"
    },
    {
     "data": {
      "image/png": "[encoded data removed]",
      "text/plain": [
       "<Figure size 1440x288 with 3 Axes>"
      ]
     },
     "metadata": {
      "needs_background": "light"
     },
     "output_type": "display_data"
    }
   ],
   "source": [
    "## Top 3 카드사별 상담유형 \n",
    "card_top_3 = df_2022[df_2022['TEL'].str.contains('15881688|15447000|15889955', na=False)]\n",
    "print(card_top_3['DUTY_TYPE'].value_counts())\n",
    "\n",
    "figure, (ax1,ax2,ax3) = plt.subplots(ncols=3)\n",
    "figure.set_size_inches(20,4)\n",
    "sns.countplot(data=KB, y='DUTY_TYPE', ax=ax1)\n",
    "sns.countplot(data=Shinhan, y='DUTY_TYPE', ax=ax2)\n",
    "sns.countplot(data=Woorie, y='DUTY_TYPE', ax=ax3)\n",
    "ax1.set(title = 'KB')\n",
    "ax2.set(title = 'Shinhan')\n",
    "ax3.set(title = 'Woorie')"
   ]
  },
  {
   "cell_type": "code",
   "execution_count": 12,
   "id": "547d3da0-7e27-4dc6-b25b-5fc7ef244ba8",
   "metadata": {},
   "outputs": [
    {
     "data": {
      "text/plain": [
       "465                                              롯데카드해지\n",
       "819                                            카드자동이체해지\n",
       "909                                           자동이체해지만요청\n",
       "1245                                   카드자동이체변경으로  해지요청\n",
       "2005                                          자동이체 해지요청\n",
       "2101                                             카드해지요청\n",
       "2178                                    카드해지-카드사로 등록한다함\n",
       "2185                                          세대무관 간단문의\n",
       "2193             카드자동이체 해지및 LMS고지서요청  /3월요금 별도 납부하셔야함안내\n",
       "2203                                               None\n",
       "2232                                       카드 자동이체 해지만.\n",
       "2441                                               자동해지\n",
       "3192                                      카드해제만..문자발송안내\n",
       "3489                               자이 해지 및 지로 고지서 변경 요청\n",
       "4284    국민카드사 연락옴 >> 기존 카드해지 문의 >  본인 연락주셔서 해지요청만 가능안내.\n",
       "4405                                             카드해지요청\n",
       "4432                                             카드해지요청\n",
       "4938                         카드사 고객번호 확인문의 -고객이 연락하기로 함\n",
       "4992                                              카드해지만\n",
       "5007                                           자동이체해지요청\n",
       "Name: COUNSEL_MEMO, dtype: object"
      ]
     },
     "execution_count": 12,
     "metadata": {},
     "output_type": "execute_result"
    }
   ],
   "source": [
    "## 실제 상담메모 확인 - KB\n",
    "KB['COUNSEL_MEMO'][:20]"
   ]
  },
  {
   "cell_type": "code",
   "execution_count": 13,
   "id": "a390e36d-12af-46f3-b783-05ca91297d61",
   "metadata": {},
   "outputs": [
    {
     "data": {
      "text/plain": [
       "2                            자동이체만 해지\n",
       "4                             자동이체 해지\n",
       "168        카드자동이체 해제 문의 본인께서 연락주시라 안내\n",
       "592                          고지금액확인함.\n",
       "1031            이정숙01052313352 자동이체해지\n",
       "2569                             None\n",
       "3264                         납부자번호 확인\n",
       "3277                             카드해지\n",
       "3307     신한카드사전화,카드자동이체등록취소요청,고객취소요청함\n",
       "4009             3-2일 신청한 국민카드 해지만 원함\n",
       "4788             자동이체해지만/3월요금별도납부로안내함\n",
       "5121                          자동이체 해지\n",
       "5241                   자동이체 문자고지 해지요청\n",
       "5534                             None\n",
       "5871           자동이체 해지 요청 (카드사통한 요청 )\n",
       "6712       김영남 - 자동이체접수/삼성카드로 접수되어 있슴\n",
       "6858                      신한카드 3월적용안내\n",
       "8351                             None\n",
       "8695                        고객요청 /이소영\n",
       "10021                              해지\n",
       "Name: COUNSEL_MEMO, dtype: object"
      ]
     },
     "execution_count": 13,
     "metadata": {},
     "output_type": "execute_result"
    }
   ],
   "source": [
    "## 실제 상담메모 확인 - 신한\n",
    "Shinhan['COUNSEL_MEMO'][:20]"
   ]
  },
  {
   "cell_type": "code",
   "execution_count": 14,
   "id": "ee97b198-daa7-4114-b6c6-eb5778446270",
   "metadata": {},
   "outputs": [
    {
     "name": "stdout",
     "output_type": "stream",
     "text": [
      "-일반콜의 평균 통화시간(초) = 129.25\n",
      "-카드사콜의 평균 통화시간(초) = 88.63\n"
     ]
    },
    {
     "data": {
      "text/plain": [
       "[Text(0.5, 1.0, '카드사콜의 통화시간 분포(초)')]"
      ]
     },
     "execution_count": 14,
     "metadata": {},
     "output_type": "execute_result"
    },
    {
     "data": {
      "image/png": "[encoded data removed]",
      "text/plain": [
       "<Figure size 1440x288 with 2 Axes>"
      ]
     },
     "metadata": {
      "needs_background": "light"
     },
     "output_type": "display_data"
    }
   ],
   "source": [
    "## 일반 콜과 카드사 콜의 질적 차이 (상담소요시간 비교)\n",
    "a = np.mean(df_2022['call_duration'])\n",
    "b = np.mean(df_2022_from_cards['call_duration'])\n",
    "\n",
    "print('-일반콜의 평균 통화시간(초) =', round(a,2)) \n",
    "print('-카드사콜의 평균 통화시간(초) =', round(b,2))\n",
    "\n",
    "figure, (ax1,ax2) = plt.subplots(ncols=2, sharex=True, sharey=True)\n",
    "figure.set_size_inches(20,4)\n",
    "sns.distplot(df_2022['call_duration'], ax=ax1)\n",
    "sns.distplot(df_2022_from_cards['call_duration'], ax=ax2)\n",
    "plt.xlim(-10, 600)\n",
    "plt.ylim(0,0.014)\n",
    "ax1.set(title = '일반콜의 통화시간 분포(초)')\n",
    "ax2.set(title = '카드사콜의 통화시간 분포(초)')"
   ]
  },
  {
   "cell_type": "markdown",
   "id": "66743fd9-53b5-4296-8cb7-00cdb25e8548",
   "metadata": {},
   "source": [
    "- 메이저 8개 카드사 고객센터로부터의 인입콜은 '22년 기준 19,836건 (전체 약 3백만콜 중 0.6% 수준) \n",
    "- 카드사별로는 사별 점유율과 유사하게 KB > 신한 > 우리카드 순이며, 상담내역은 동일하게 카드 자동이체 등록/해지 관련 내용임\n",
    "- 업무유형 분류체계에 자동이체 해지 관련 항목이 없음('요금문의'로 키인 하고 있음) --> 수정 필요성 검토 \n",
    "- 통화시간 측면에서 카드사 콜은 일반콜대비 평균 40초 정도 짧고, 통화시간 분포도 평균 중심으로 몰려있음 --> 카드사콜은 상대적으로 대응이 짧고 간단한 내용인 것으로 추정됨 \n",
    "--- "
   ]
  },
  {
   "cell_type": "markdown",
   "id": "5b20d28a-3b3c-45c5-84b6-49251c50514c",
   "metadata": {},
   "source": [
    "#### 3. 수납센터로부터의 인입콜 (미납안내, 요금납부 등 관련)\n",
    "- 콜 인입처('TEL')가 수납센터 전화번호인 건 추출 \n",
    "- CS팀으로 부터 수납센터 전화번호 리스트 수령 "
   ]
  },
  {
   "cell_type": "code",
   "execution_count": 15,
   "id": "e3bbb203-6551-4220-820d-205f48cda4bc",
   "metadata": {},
   "outputs": [],
   "source": [
    "## 3개 수납센터 전화번호 : 미래 - '16619979|031801997xx' / F&U - '15992501|026329xxxx' / SM - '023668xxxx'\n",
    "collect_tel = '16619979|031801997|15992501|026329|023668'"
   ]
  },
  {
   "cell_type": "code",
   "execution_count": 16,
   "id": "96690bee-2ec3-4440-895c-32163fa8dab0",
   "metadata": {},
   "outputs": [
    {
     "data": {
      "text/plain": [
       "(29447, 64)"
      ]
     },
     "execution_count": 16,
     "metadata": {},
     "output_type": "execute_result"
    }
   ],
   "source": [
    "df_2022_from_sn = df_2022[df_2022['TEL'].str.contains(collect_tel, na=False)]\n",
    "df_2022_from_sn.shape"
   ]
  },
  {
   "cell_type": "code",
   "execution_count": 17,
   "id": "22823bc5-3630-47b2-bae2-d988d7eccf9a",
   "metadata": {},
   "outputs": [
    {
     "name": "stdout",
     "output_type": "stream",
     "text": [
      "- Mirae 콜수 = TEL    19876\n",
      "dtype: int64\n",
      "- FnU 콜수 = TEL    7582\n",
      "dtype: int64\n",
      "- SM 콜수 = TEL    1989\n",
      "dtype: int64\n"
     ]
    }
   ],
   "source": [
    "## 3개 수납센터별 인입콜수 \n",
    "Mirae = df_2022[df_2022['TEL'].str.contains('16619979|031801997', na=False)]\n",
    "FnU = df_2022[df_2022['TEL'].str.contains('15992501|026329', na=False)]\n",
    "SM = df_2022[df_2022['TEL'].str.contains('023668', na=False)]\n",
    "\n",
    "a = Mirae['TEL'].value_counts()\n",
    "a1 = pd.DataFrame(a)\n",
    "b = FnU['TEL'].value_counts()\n",
    "b1 = pd.DataFrame(b)\n",
    "c = SM['TEL'].value_counts()\n",
    "c1 = pd.DataFrame(c)\n",
    "\n",
    "print('- Mirae 콜수 =', a1.sum())\n",
    "print('- FnU 콜수 =', b1.sum())\n",
    "print('- SM 콜수 =', c1.sum())"
   ]
  },
  {
   "cell_type": "code",
   "execution_count": 18,
   "id": "c70f0346-69ca-4365-aa1d-d1282d786eba",
   "metadata": {},
   "outputs": [
    {
     "name": "stdout",
     "output_type": "stream",
     "text": [
      "요금문의        18104\n",
      "고객정보문의       3961\n",
      "기타문의         2395\n",
      "체납문의         2275\n",
      "전출문의          432\n",
      "AS문의          397\n",
      "전입문의          246\n",
      "검침문의          202\n",
      "차단/재공급불만       54\n",
      "계량기문의          51\n",
      "신규공급문의         24\n",
      "안전점검문의         22\n",
      "경보기문의           7\n",
      "화재              3\n",
      "고객정보관련불만        2\n",
      "방문독촉및불만         1\n",
      "체납수납센터불만        1\n",
      "누출(가스냄새)        1\n",
      "요금불만            1\n",
      "Name: DUTY_TYPE, dtype: int64\n"
     ]
    },
    {
     "data": {
      "text/plain": [
       "[Text(0.5, 1.0, 'SM')]"
      ]
     },
     "execution_count": 18,
     "metadata": {},
     "output_type": "execute_result"
    },
    {
     "data": {
      "image/png": "[encoded data removed]",
      "text/plain": [
       "<Figure size 1440x288 with 3 Axes>"
      ]
     },
     "metadata": {
      "needs_background": "light"
     },
     "output_type": "display_data"
    }
   ],
   "source": [
    "## 수납센터별 상담유형 \n",
    "sn_3 = df_2022[df_2022['TEL'].str.contains(collect_tel, na=False)]\n",
    "print(sn_3['DUTY_TYPE'].value_counts())\n",
    "\n",
    "figure, (ax1,ax2,ax3) = plt.subplots(ncols=3)\n",
    "figure.set_size_inches(20,4)\n",
    "sns.countplot(data=Mirae, y='DUTY_TYPE', ax=ax1)\n",
    "sns.countplot(data=FnU, y='DUTY_TYPE', ax=ax2)\n",
    "sns.countplot(data=SM, y='DUTY_TYPE', ax=ax3)\n",
    "ax1.set(title = 'Mirae')\n",
    "ax2.set(title = 'FnU')\n",
    "ax3.set(title = 'SM')"
   ]
  },
  {
   "cell_type": "code",
   "execution_count": 19,
   "id": "c185e641-c612-484a-a304-7fe85c93a3bb",
   "metadata": {},
   "outputs": [
    {
     "data": {
      "text/plain": [
       "1                                       수납센터: 번호변경&요금문자요청\n",
       "7                   늦게방문요청. 현장정산.//전기렌지사용중 /진숙(전기사용한지3년됨)\n",
       "150                     수납센터-인증x/010-8899-6663 인입 전화번호 받음\n",
       "204                                      수납센터 / 2개월분 요금문자\n",
       "443     수납센터 414,260원만 페이수납01021640894 요청 전산오류로 잠시후 문자...\n",
       "487                            수납센타/중지철회시 납부확약서 필요/고객문자발송\n",
       "659                                          신한 요금문자 수납센타\n",
       "755     수납센터  폰삭제   &  사무실번호 등록요청   2021.11~2022.2월내역 ...\n",
       "1084                                          문자고지등록/미납문자\n",
       "1097                                    수납센터/ 번호변경 후 금액문자\n",
       "1231                                            수납센터 문자발송\n",
       "1424          수납센터 =>\\n연락처(다른사람 사용번호로 삭제요청) 010 8912 3239\n",
       "1516                                                 None\n",
       "1531               수납센터 월별금액과 계좌 010-3403-8884 주인번호로 문자요청\n",
       "1535                                                 카드등록\n",
       "1592                     수납센터  폰 변경요청및   12~2월요금 가상번호  요청\n",
       "1805                                            수납센터-요금문자\n",
       "1927                          연락처 변겨후  20만원 금액,계좌문자/ 수납센타\n",
       "1932                                   12.1월)-카드요청...수납센터\n",
       "2108              수납센터 ; 집주인 명의로 되어있고 거주자 따로 있음 \\n고지서로 변경\n",
       "Name: COUNSEL_MEMO, dtype: object"
      ]
     },
     "execution_count": 19,
     "metadata": {},
     "output_type": "execute_result"
    }
   ],
   "source": [
    "## 실제 상담메모 확인 \n",
    "df_2022_from_sn['COUNSEL_MEMO'][:20]"
   ]
  },
  {
   "cell_type": "code",
   "execution_count": 20,
   "id": "6ca993ed-1448-4693-a0ee-7f8f1cd4e621",
   "metadata": {},
   "outputs": [
    {
     "name": "stdout",
     "output_type": "stream",
     "text": [
      "-일반콜의 평균 통화시간(초) = 129.25\n",
      "-수납센터콜의 평균 통화시간(초) = 69.72\n"
     ]
    },
    {
     "data": {
      "text/plain": [
       "[Text(0.5, 1.0, '수납센터콜의 통화시간 분포(초)')]"
      ]
     },
     "execution_count": 20,
     "metadata": {},
     "output_type": "execute_result"
    },
    {
     "data": {
      "image/png": "[encoded data removed]",
      "text/plain": [
       "<Figure size 1440x288 with 2 Axes>"
      ]
     },
     "metadata": {
      "needs_background": "light"
     },
     "output_type": "display_data"
    }
   ],
   "source": [
    "## 일반 콜과 수납센터 콜의 질적 차이 (상담소요시간 비교)\n",
    "a = np.mean(df_2022['call_duration'])\n",
    "b = np.mean(df_2022_from_sn['call_duration'])\n",
    "\n",
    "print('-일반콜의 평균 통화시간(초) =', round(a,2)) \n",
    "print('-수납센터콜의 평균 통화시간(초) =', round(b,2))\n",
    "\n",
    "figure, (ax1,ax2) = plt.subplots(ncols=2, sharex=True, sharey=True)\n",
    "figure.set_size_inches(20,4)\n",
    "sns.distplot(df_2022['call_duration'], ax=ax1)\n",
    "sns.distplot(df_2022_from_sn['call_duration'], ax=ax2)\n",
    "plt.xlim(-10, 600)\n",
    "plt.ylim(0,0.02)\n",
    "ax1.set(title = '일반콜의 통화시간 분포(초)')\n",
    "ax2.set(title = '수납센터콜의 통화시간 분포(초)')"
   ]
  },
  {
   "cell_type": "markdown",
   "id": "026ec30f-3593-4753-8bda-d3e01832eb98",
   "metadata": {},
   "source": [
    "--- \n",
    "- 3개 수납센터로부터의 인입콜은 '22년 기준 29,447건 (전체 약 3백만콜 중 약 1% 수준), 특히 \"미래\"로부터의 콜 인입이 약 67%를 차지함 \n",
    "- 업무유형은 앞서 카드사와 마찬가지로 대부분 '요금문의'로 분류되고 있으나, 상담메모 확인 결과 정보변경/납부방법 안내/재공급 요청 등 다양한 내용들임 \n",
    "- 통화시간 또한 일반콜 대비 평균 60초 정도 짧은, 즉 상대적으로 대응이 짧고 간단한 통화로 해결되고 있는 것으로 판단됨 \n",
    "#############################################################################################################################\n",
    "- <span style=\"color:#ffd33d\"> '부동산등 + 카드사 + 수납센터' 인입콜 합산 연간 약 33만콜(비중 약 9.9%) --> 상담원 200명 x 9.9% = 19~20명 감축 가능? </span>\n",
    "--- "
   ]
  },
  {
   "cell_type": "code",
   "execution_count": null,
   "id": "e05d6bc8-30fa-4199-a3f0-9719df948bdf",
   "metadata": {},
   "outputs": [],
   "source": []
  },
  {
   "cell_type": "code",
   "execution_count": null,
   "id": "32896bc9-15b1-496d-b174-37a3f9f02e12",
   "metadata": {},
   "outputs": [],
   "source": []
  }
 ],
 "metadata": {
  "kernelspec": {
   "display_name": "Python 3 (ipykernel)",
   "language": "python",
   "name": "python3"
  },
  "language_info": {
   "codemirror_mode": {
    "name": "ipython",
    "version": 3
   },
   "file_extension": ".py",
   "mimetype": "text/x-python",
   "name": "python",
   "nbconvert_exporter": "python",
   "pygments_lexer": "ipython3",
   "version": "3.9.6"
  }
 },
 "nbformat": 4,
 "nbformat_minor": 5
}
