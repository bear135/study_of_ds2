{
 "cells": [
  {
   "cell_type": "markdown",
   "id": "b20c8173-b874-4c82-8eb6-250d04740ca1",
   "metadata": {},
   "source": [
    "## Motors BDC call data analysis : 2. memo 분석을 위한 데이터 전처리\n",
    "- source : BMW Experience (by 원서현 주임) \n",
    "- period : 2023 1/1 ~ 9/6 (총 54,638건) \n",
    "- size : 54,638 rows x 84 columns (csv file, 35.1 MB) \n",
    "---"
   ]
  },
  {
   "cell_type": "code",
   "execution_count": 1,
   "id": "eb1dea99-3d07-4b1a-8d20-f191e76313fb",
   "metadata": {
    "tags": []
   },
   "outputs": [],
   "source": [
    "## 필수 pkg's 및 한글폰트 사용 설정 \n",
    "import numpy as np\n",
    "import pandas as pd\n",
    "import matplotlib.pyplot as plt \n",
    "import seaborn as sns \n",
    "import warnings \n",
    "warnings.filterwarnings('ignore')\n",
    "\n",
    "plt.rcParams['font.family'] = 'Malgun Gothic'\n",
    "plt.rc('axes',unicode_minus=False)\n",
    "plt.rcParams[\"figure.figsize\"] = (8,3)\n",
    "pd.set_option('display.max_columns', None)"
   ]
  },
  {
   "cell_type": "code",
   "execution_count": 11,
   "id": "3cd048bf-c222-4ad9-8eb7-456f1803a6a8",
   "metadata": {
    "tags": []
   },
   "outputs": [
    {
     "data": {
      "text/plain": [
       "(54638, 84)"
      ]
     },
     "execution_count": 11,
     "metadata": {},
     "output_type": "execute_result"
    }
   ],
   "source": [
    "## data loading \n",
    "df_temp = pd.read_csv('data/bdc_data_20230908.csv', encoding='cp949')\n",
    "df_temp.shape"
   ]
  },
  {
   "cell_type": "markdown",
   "id": "e6fa5b4c-aad9-439c-8473-57deea8deb4e",
   "metadata": {},
   "source": [
    "--- \n",
    "#### 메모 분석을 위한 데이터셋 준비 \n",
    "- 접수번호와 메모1~5 컬럼만 가진 데이터 프레임 생성 \n",
    "---"
   ]
  },
  {
   "cell_type": "code",
   "execution_count": 3,
   "id": "5361182a-60ee-4389-b367-a1da018aedab",
   "metadata": {
    "tags": []
   },
   "outputs": [
    {
     "name": "stdout",
     "output_type": "stream",
     "text": [
      "(54638, 6)\n"
     ]
    },
    {
     "data": {
      "text/html": [
       "<div>\n",
       "<style scoped>\n",
       "    .dataframe tbody tr th:only-of-type {\n",
       "        vertical-align: middle;\n",
       "    }\n",
       "\n",
       "    .dataframe tbody tr th {\n",
       "        vertical-align: top;\n",
       "    }\n",
       "\n",
       "    .dataframe thead th {\n",
       "        text-align: right;\n",
       "    }\n",
       "</style>\n",
       "<table border=\"1\" class=\"dataframe\">\n",
       "  <thead>\n",
       "    <tr style=\"text-align: right;\">\n",
       "      <th></th>\n",
       "      <th>(접수)번호</th>\n",
       "      <th>MEMO1</th>\n",
       "      <th>MEMO2</th>\n",
       "      <th>MEMO3</th>\n",
       "      <th>MEMO4</th>\n",
       "      <th>MEMO5</th>\n",
       "    </tr>\n",
       "  </thead>\n",
       "  <tbody>\n",
       "    <tr>\n",
       "      <th>0</th>\n",
       "      <td>959430</td>\n",
       "      <td>차대번호 : GA84735 보유차량 : 3GT 20d LCI 등록일자 : 2019-...</td>\n",
       "      <td>프로모션 문의 여부 : 관심시리즈:</td>\n",
       "      <td>서비스 문의 여부 : 문의 내용:</td>\n",
       "      <td>Trade-in 문의 여부 :</td>\n",
       "      <td>부재</td>\n",
       "    </tr>\n",
       "    <tr>\n",
       "      <th>1</th>\n",
       "      <td>959429</td>\n",
       "      <td>차대번호 : K736791 보유차량 : 320d LCI 등록일자 : 2019-01-...</td>\n",
       "      <td>프로모션 문의 여부 : 관심시리즈:</td>\n",
       "      <td>서비스 문의 여부 : 문의 내용:</td>\n",
       "      <td>Trade-in 문의 여부 :</td>\n",
       "      <td>부재</td>\n",
       "    </tr>\n",
       "    <tr>\n",
       "      <th>2</th>\n",
       "      <td>959428</td>\n",
       "      <td>차대번호 : BP71939 보유차량 : 520i 등록일자 : 2019-01-24 서...</td>\n",
       "      <td>프로모션 문의 여부 : 관심시리즈:</td>\n",
       "      <td>서비스 문의 여부 :</td>\n",
       "      <td>Trade-in 문의 여부 :</td>\n",
       "      <td>상담거부</td>\n",
       "    </tr>\n",
       "    <tr>\n",
       "      <th>3</th>\n",
       "      <td>959427</td>\n",
       "      <td>차대번호 : 0Z83228 보유차량 : New X6 xDrive30d 등록일자 : ...</td>\n",
       "      <td>프로모션 문의 여부 : 관심시리즈:</td>\n",
       "      <td>서비스 문의 여부 : 문의 내용:</td>\n",
       "      <td>Trade-in 문의 여부 :</td>\n",
       "      <td>당사직원</td>\n",
       "    </tr>\n",
       "    <tr>\n",
       "      <th>4</th>\n",
       "      <td>959426</td>\n",
       "      <td>차대번호 : K736629 보유차량 : 320d LCI 등록일자 : 2019-02-...</td>\n",
       "      <td>프로모션 문의 여부 : 관심시리즈:</td>\n",
       "      <td>서비스 문의 여부 : 문의 내용:</td>\n",
       "      <td>Trade-in 문의 여부 :</td>\n",
       "      <td>부재</td>\n",
       "    </tr>\n",
       "  </tbody>\n",
       "</table>\n",
       "</div>"
      ],
      "text/plain": [
       "   (접수)번호                                              MEMO1  \\\n",
       "0  959430  차대번호 : GA84735 보유차량 : 3GT 20d LCI 등록일자 : 2019-...   \n",
       "1  959429  차대번호 : K736791 보유차량 : 320d LCI 등록일자 : 2019-01-...   \n",
       "2  959428  차대번호 : BP71939 보유차량 : 520i 등록일자 : 2019-01-24 서...   \n",
       "3  959427  차대번호 : 0Z83228 보유차량 : New X6 xDrive30d 등록일자 : ...   \n",
       "4  959426  차대번호 : K736629 보유차량 : 320d LCI 등록일자 : 2019-02-...   \n",
       "\n",
       "                 MEMO2               MEMO3             MEMO4 MEMO5  \n",
       "0  프로모션 문의 여부 : 관심시리즈:  서비스 문의 여부 : 문의 내용:  Trade-in 문의 여부 :    부재  \n",
       "1  프로모션 문의 여부 : 관심시리즈:  서비스 문의 여부 : 문의 내용:  Trade-in 문의 여부 :    부재  \n",
       "2  프로모션 문의 여부 : 관심시리즈:         서비스 문의 여부 :  Trade-in 문의 여부 :  상담거부  \n",
       "3  프로모션 문의 여부 : 관심시리즈:  서비스 문의 여부 : 문의 내용:  Trade-in 문의 여부 :  당사직원  \n",
       "4  프로모션 문의 여부 : 관심시리즈:  서비스 문의 여부 : 문의 내용:  Trade-in 문의 여부 :    부재  "
      ]
     },
     "execution_count": 3,
     "metadata": {},
     "output_type": "execute_result"
    }
   ],
   "source": [
    "usable_columns = ['(접수)번호', 'MEMO1','MEMO2', 'MEMO3', 'MEMO4', 'MEMO5']\n",
    "\n",
    "df = df_temp[usable_columns]\n",
    "print(df.shape)\n",
    "df.head()"
   ]
  },
  {
   "cell_type": "markdown",
   "id": "82c413ce-4281-40fb-97c2-9b38cfbf97db",
   "metadata": {},
   "source": [
    "----\n",
    "#### memo 분석관련 아이디어 \n",
    "- 메모 내용에 특정한 패턴이 존재한다고 보기 어려워 분석 곤란, 우선 다음과 같이 접근 \n",
    "- MEMO2에서 가장 많은 케이스는 \"프로모션 문의 여부\"와 \"관심시리즈\". \"프로모션 문의여부:O\"인 건들만 추출한 후, 텍스트 = \"프로모션 문의여부:O 관심시리즈:\" 삭제 -> 관심시리즈만 추출 \n",
    "- MEMO3에서 가장 많은 케이스는 \"서비스 문의 여부\"와 \"문의내용\". \"서비스 문의 여부 :O\"인 건들만 추출한 후, 텍스트 = \"서비스 문의 여부 :O 문의 내용:\" 삭제 -> 서비스 문의내용만 추출 \n",
    "----"
   ]
  },
  {
   "cell_type": "code",
   "execution_count": 4,
   "id": "4fbbb1c5-9bb6-4419-a119-dcd2d2cc646e",
   "metadata": {
    "tags": []
   },
   "outputs": [
    {
     "name": "stdout",
     "output_type": "stream",
     "text": [
      "(430, 6) (1507, 6)\n"
     ]
    }
   ],
   "source": [
    "## MEMO 2컬럼 전처리 \n",
    "key_word_1 = '프로모션 문의 여부 :O'\n",
    "key_word_2 = '서비스 문의 여부 :O'\n",
    "\n",
    "## MEMO2에 key_word_1 포함 또는 MEMO3에 key_word_2 포함된 건들만 추출\n",
    "df_2 = df[df['MEMO2'].str.contains(key_word_1, na=False)]\n",
    "df_3 = df[df['MEMO3'].str.contains(key_word_2, na=False)]\n",
    "\n",
    "print(df_2.shape, df_3.shape)"
   ]
  },
  {
   "cell_type": "code",
   "execution_count": 5,
   "id": "2d706b1d-2b0f-484d-a585-ba3ee08366df",
   "metadata": {
    "tags": []
   },
   "outputs": [
    {
     "data": {
      "text/plain": [
       "118            7시리즈 신형\n",
       "129               7시리즈\n",
       "157              X1 신형\n",
       "225      아직관심모델생각해놓지않음\n",
       "262          X5, X7 디젤\n",
       "             ...      \n",
       "53910             5시리즈\n",
       "53956               X3\n",
       "54300          5시리즈 신형\n",
       "54376               XM\n",
       "54480               X4\n",
       "Name: 관심시리즈, Length: 430, dtype: object"
      ]
     },
     "execution_count": 5,
     "metadata": {},
     "output_type": "execute_result"
    }
   ],
   "source": [
    "## df_2의 MEMO2 컬럼에서 관심시리즈의 응답값만 추출 \n",
    "df_2['관심시리즈'] = df_2['MEMO2'].str[20:]\n",
    "df_2['관심시리즈']"
   ]
  },
  {
   "cell_type": "code",
   "execution_count": 6,
   "id": "c3815b84-d8fe-426a-af47-494dbb5b20e7",
   "metadata": {
    "tags": []
   },
   "outputs": [
    {
     "data": {
      "text/plain": [
       "23                                            뒷브레이크 패드 점검등\n",
       "40                                                 EGR리콜예약\n",
       "75                                               리콜요청 AS요청\n",
       "87                            열선 따뜻하면 되고, 추울때는 작동안한다하심AS요청\n",
       "95                   타이어 공기압 채워도 계속 경고등 뜨고, 브레이크액 경고등 AS요청\n",
       "                               ...                        \n",
       "54461                                             엔진경고등 점등\n",
       "54520    비상호출시스템 문제 있는거 발견돼서 센터에서 예약 잡고 연락준다 하였으나 연락없어서 문의\n",
       "54537                               타이어공기압 안맞춰짐 발란스맞춤 예약요청\n",
       "54580    정비불량으로 차량 다시 맡긴건데 대차차량 없다며 3주 기다리라고 했다며 불만,빠른시...\n",
       "54637                                     엔진오일 및 브레이크오일 점등\n",
       "Name: 서비스문의내용, Length: 1507, dtype: object"
      ]
     },
     "execution_count": 6,
     "metadata": {},
     "output_type": "execute_result"
    }
   ],
   "source": [
    "## df_2의 MEMO3 컬럼에서 문의내용의 응답값만 추출 \n",
    "df_3['서비스문의내용'] = df_3['MEMO3'].str[19:]\n",
    "df_3['서비스문의내용']"
   ]
  },
  {
   "cell_type": "code",
   "execution_count": 7,
   "id": "32863f0b-9a8a-4a1a-a1a1-92a26b0f0871",
   "metadata": {
    "tags": []
   },
   "outputs": [
    {
     "name": "stdout",
     "output_type": "stream",
     "text": [
      "(1884, 13)\n"
     ]
    },
    {
     "data": {
      "text/html": [
       "<div>\n",
       "<style scoped>\n",
       "    .dataframe tbody tr th:only-of-type {\n",
       "        vertical-align: middle;\n",
       "    }\n",
       "\n",
       "    .dataframe tbody tr th {\n",
       "        vertical-align: top;\n",
       "    }\n",
       "\n",
       "    .dataframe thead th {\n",
       "        text-align: right;\n",
       "    }\n",
       "</style>\n",
       "<table border=\"1\" class=\"dataframe\">\n",
       "  <thead>\n",
       "    <tr style=\"text-align: right;\">\n",
       "      <th></th>\n",
       "      <th>(접수)번호</th>\n",
       "      <th>MEMO1_x</th>\n",
       "      <th>MEMO2_x</th>\n",
       "      <th>MEMO3_x</th>\n",
       "      <th>MEMO4_x</th>\n",
       "      <th>MEMO5_x</th>\n",
       "      <th>관심시리즈</th>\n",
       "      <th>MEMO1_y</th>\n",
       "      <th>MEMO2_y</th>\n",
       "      <th>MEMO3_y</th>\n",
       "      <th>MEMO4_y</th>\n",
       "      <th>MEMO5_y</th>\n",
       "      <th>서비스문의내용</th>\n",
       "    </tr>\n",
       "  </thead>\n",
       "  <tbody>\n",
       "    <tr>\n",
       "      <th>0</th>\n",
       "      <td>959218</td>\n",
       "      <td>차대번호 : G573350 보유차량 : 3GT 20d xDrive_New Engin...</td>\n",
       "      <td>프로모션 문의 여부 :O 관심시리즈:7시리즈 신형</td>\n",
       "      <td>서비스 문의 여부 : 문의 내용:</td>\n",
       "      <td>Trade-in 문의 여부 :O(70,000km) 트레이드인프로모션 상담요청</td>\n",
       "      <td>구매상담요청 프로모션종합상담</td>\n",
       "      <td>7시리즈 신형</td>\n",
       "      <td>NaN</td>\n",
       "      <td>NaN</td>\n",
       "      <td>NaN</td>\n",
       "      <td>NaN</td>\n",
       "      <td>NaN</td>\n",
       "      <td>NaN</td>\n",
       "    </tr>\n",
       "  </tbody>\n",
       "</table>\n",
       "</div>"
      ],
      "text/plain": [
       "   (접수)번호                                            MEMO1_x  \\\n",
       "0  959218  차대번호 : G573350 보유차량 : 3GT 20d xDrive_New Engin...   \n",
       "\n",
       "                       MEMO2_x             MEMO3_x  \\\n",
       "0  프로모션 문의 여부 :O 관심시리즈:7시리즈 신형  서비스 문의 여부 : 문의 내용:   \n",
       "\n",
       "                                      MEMO4_x          MEMO5_x    관심시리즈  \\\n",
       "0  Trade-in 문의 여부 :O(70,000km) 트레이드인프로모션 상담요청  구매상담요청 프로모션종합상담  7시리즈 신형   \n",
       "\n",
       "  MEMO1_y MEMO2_y MEMO3_y MEMO4_y MEMO5_y 서비스문의내용  \n",
       "0     NaN     NaN     NaN     NaN     NaN     NaN  "
      ]
     },
     "execution_count": 7,
     "metadata": {},
     "output_type": "execute_result"
    }
   ],
   "source": [
    "## df_2, df_3를 접수번호 기준으로 조인하여 최종 데이터셋 만들기 \n",
    "df_4 = pd.merge(df_2, df_3, how='outer', on='(접수)번호')\n",
    "print(df_4.shape)\n",
    "df_4.head(1)"
   ]
  },
  {
   "cell_type": "code",
   "execution_count": 8,
   "id": "cab821c0-2b32-4c70-8016-4cd265a12ee5",
   "metadata": {
    "tags": []
   },
   "outputs": [
    {
     "name": "stdout",
     "output_type": "stream",
     "text": [
      "(1884, 3)\n"
     ]
    },
    {
     "data": {
      "text/html": [
       "<div>\n",
       "<style scoped>\n",
       "    .dataframe tbody tr th:only-of-type {\n",
       "        vertical-align: middle;\n",
       "    }\n",
       "\n",
       "    .dataframe tbody tr th {\n",
       "        vertical-align: top;\n",
       "    }\n",
       "\n",
       "    .dataframe thead th {\n",
       "        text-align: right;\n",
       "    }\n",
       "</style>\n",
       "<table border=\"1\" class=\"dataframe\">\n",
       "  <thead>\n",
       "    <tr style=\"text-align: right;\">\n",
       "      <th></th>\n",
       "      <th>(접수)번호</th>\n",
       "      <th>관심시리즈</th>\n",
       "      <th>서비스문의내용</th>\n",
       "    </tr>\n",
       "  </thead>\n",
       "  <tbody>\n",
       "    <tr>\n",
       "      <th>0</th>\n",
       "      <td>959218</td>\n",
       "      <td>7시리즈 신형</td>\n",
       "      <td>NaN</td>\n",
       "    </tr>\n",
       "    <tr>\n",
       "      <th>1</th>\n",
       "      <td>959207</td>\n",
       "      <td>7시리즈</td>\n",
       "      <td>NaN</td>\n",
       "    </tr>\n",
       "    <tr>\n",
       "      <th>2</th>\n",
       "      <td>959179</td>\n",
       "      <td>X1 신형</td>\n",
       "      <td>NaN</td>\n",
       "    </tr>\n",
       "    <tr>\n",
       "      <th>3</th>\n",
       "      <td>958540</td>\n",
       "      <td>아직관심모델생각해놓지않음</td>\n",
       "      <td>NaN</td>\n",
       "    </tr>\n",
       "    <tr>\n",
       "      <th>4</th>\n",
       "      <td>958503</td>\n",
       "      <td>X5, X7 디젤</td>\n",
       "      <td>NaN</td>\n",
       "    </tr>\n",
       "  </tbody>\n",
       "</table>\n",
       "</div>"
      ],
      "text/plain": [
       "   (접수)번호          관심시리즈 서비스문의내용\n",
       "0  959218        7시리즈 신형     NaN\n",
       "1  959207           7시리즈     NaN\n",
       "2  959179          X1 신형     NaN\n",
       "3  958540  아직관심모델생각해놓지않음     NaN\n",
       "4  958503      X5, X7 디젤     NaN"
      ]
     },
     "execution_count": 8,
     "metadata": {},
     "output_type": "execute_result"
    }
   ],
   "source": [
    "df_f = df_4[['(접수)번호', '관심시리즈', '서비스문의내용']]\n",
    "print(df_f.shape)\n",
    "df_f.head()"
   ]
  },
  {
   "cell_type": "code",
   "execution_count": 9,
   "id": "91157a67-f321-4654-84ac-4be4c141aa0d",
   "metadata": {
    "tags": []
   },
   "outputs": [],
   "source": [
    "## 전처리 완료된 파일 내보내기 \n",
    "df_f.to_csv('data/df_f.csv', index=False, encoding='utf-8-sig')"
   ]
  },
  {
   "cell_type": "code",
   "execution_count": null,
   "id": "5a88cde1-e3f5-406c-9895-2dccb97a8b53",
   "metadata": {
    "tags": []
   },
   "outputs": [],
   "source": []
  },
  {
   "cell_type": "code",
   "execution_count": null,
   "id": "392b9d66-dfe3-48e1-a9b4-298526daceb0",
   "metadata": {},
   "outputs": [],
   "source": []
  }
 ],
 "metadata": {
  "kernelspec": {
   "display_name": "Python 3 (ipykernel)",
   "language": "python",
   "name": "python3"
  },
  "language_info": {
   "codemirror_mode": {
    "name": "ipython",
    "version": 3
   },
   "file_extension": ".py",
   "mimetype": "text/x-python",
   "name": "python",
   "nbconvert_exporter": "python",
   "pygments_lexer": "ipython3",
   "version": "3.11.5"
  }
 },
 "nbformat": 4,
 "nbformat_minor": 5
}
