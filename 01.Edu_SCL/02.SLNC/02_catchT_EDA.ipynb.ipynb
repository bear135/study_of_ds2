{
 "cells": [
  {
   "cell_type": "markdown",
   "id": "ce8cfe8c-751a-43ff-b0d2-0227cf771cb1",
   "metadata": {
    "tags": []
   },
   "source": [
    "## Catch Table Customer Review analysis : EDA\n",
    "- data source : Catch Table\n",
    "- period : 2020-06-18 ~ 2023-10-24\n",
    "- number of stores : 18\n",
    "- number of reviews : 1,922\n",
    "--- "
   ]
  },
  {
   "cell_type": "markdown",
   "id": "93c0ea6c-509f-4c5f-a7fa-4046d18f3668",
   "metadata": {},
   "source": [
    "- ※참고1 : 동일 매장에 대해 네이버와 캐치테이블이 서로 다른 상호명을 사용 중, 네이버의 매장명과 브랜드/타입구분 컬럼 별도로 추가하였음 \n",
    ">  store_catchT : 캐치테이블 매장명 /  store_naver : 네이버 매장명 / brand, type : 캐치테이블 데이터에는 없는 컬럼이나, 네이버에는 존재하는 컬럼 추가 \n",
    "- ※참고2 : 캐치테이블은 네이버와 달리 5점 만점 기준의 \"평점\"(rating) 데이터가 존재함 \n",
    "- ※참고3 : 네이버는 리뷰일자(date)가 연-월-일까지만 있는 반면, 캐치테이블은 연-월-일-시-분까지 존재 --> 시간대별 분석 가능\n",
    "--- "
   ]
  },
  {
   "cell_type": "code",
   "execution_count": 1,
   "id": "83dda0e4-58bf-449c-aaf0-4a67923338d8",
   "metadata": {
    "tags": []
   },
   "outputs": [],
   "source": [
    "import numpy as np\n",
    "import pandas as pd\n",
    "import matplotlib.pyplot as plt \n",
    "import seaborn as sns \n",
    "import warnings \n",
    "warnings.filterwarnings('ignore')\n",
    "import koreanize_matplotlib"
   ]
  },
  {
   "cell_type": "code",
   "execution_count": 2,
   "id": "dad6a05a-d651-408b-a774-47abaf6a2c09",
   "metadata": {
    "tags": []
   },
   "outputs": [
    {
     "name": "stdout",
     "output_type": "stream",
     "text": [
      "(1922, 9)\n"
     ]
    },
    {
     "data": {
      "text/html": [
       "<div>\n",
       "<style scoped>\n",
       "    .dataframe tbody tr th:only-of-type {\n",
       "        vertical-align: middle;\n",
       "    }\n",
       "\n",
       "    .dataframe tbody tr th {\n",
       "        vertical-align: top;\n",
       "    }\n",
       "\n",
       "    .dataframe thead th {\n",
       "        text-align: right;\n",
       "    }\n",
       "</style>\n",
       "<table border=\"1\" class=\"dataframe\">\n",
       "  <thead>\n",
       "    <tr style=\"text-align: right;\">\n",
       "      <th></th>\n",
       "      <th>review_id</th>\n",
       "      <th>brand</th>\n",
       "      <th>type</th>\n",
       "      <th>store_catchT</th>\n",
       "      <th>store_naver</th>\n",
       "      <th>nickname</th>\n",
       "      <th>content</th>\n",
       "      <th>date</th>\n",
       "      <th>star</th>\n",
       "    </tr>\n",
       "  </thead>\n",
       "  <tbody>\n",
       "    <tr>\n",
       "      <th>0</th>\n",
       "      <td>14041</td>\n",
       "      <td>Chai797</td>\n",
       "      <td>JUCD</td>\n",
       "      <td>Chai797 롯데캐슬잠실점</td>\n",
       "      <td>Chai797 잠실롯데캐슬점</td>\n",
       "      <td>푸디60</td>\n",
       "      <td>NaN</td>\n",
       "      <td>2021-03-09 22:58</td>\n",
       "      <td>3.5</td>\n",
       "    </tr>\n",
       "    <tr>\n",
       "      <th>1</th>\n",
       "      <td>20150</td>\n",
       "      <td>Chai797</td>\n",
       "      <td>UCD</td>\n",
       "      <td>Chai797 청계천점</td>\n",
       "      <td>Chai797 청계천점</td>\n",
       "      <td>재미있는 미식가_9435</td>\n",
       "      <td>맛은 그냥 보통보다 조금 괜찮은 정도지만 자리가 넓고 여유로워서 편하게 밥 먹을 수...</td>\n",
       "      <td>2021-04-21 18:37</td>\n",
       "      <td>4</td>\n",
       "    </tr>\n",
       "    <tr>\n",
       "      <th>2</th>\n",
       "      <td>42933</td>\n",
       "      <td>Chai797</td>\n",
       "      <td>JUCD</td>\n",
       "      <td>Chai797 시청점</td>\n",
       "      <td>Chai797 시청점</td>\n",
       "      <td>뽀삐이</td>\n",
       "      <td>쾌적한데 맛은 가격대비 못 미치네요\\n특히 보리새우 백짬뽕은 너무 맛없었어요 ㅠㅠ</td>\n",
       "      <td>2021-06-29 18:47</td>\n",
       "      <td>2.5</td>\n",
       "    </tr>\n",
       "    <tr>\n",
       "      <th>3</th>\n",
       "      <td>51558</td>\n",
       "      <td>Chai797</td>\n",
       "      <td>Black</td>\n",
       "      <td>Chai797 BLACK</td>\n",
       "      <td>Chai797 Black 서래마을</td>\n",
       "      <td>경쾌한 맛사냥꾼_53243</td>\n",
       "      <td>NaN</td>\n",
       "      <td>2021-07-14 15:42</td>\n",
       "      <td>4.5</td>\n",
       "    </tr>\n",
       "    <tr>\n",
       "      <th>4</th>\n",
       "      <td>52125</td>\n",
       "      <td>Chai797</td>\n",
       "      <td>Black</td>\n",
       "      <td>Chai797 BLACK</td>\n",
       "      <td>Chai797 Black 서래마을</td>\n",
       "      <td>다름아</td>\n",
       "      <td>NaN</td>\n",
       "      <td>2021-07-15 19:23</td>\n",
       "      <td>4</td>\n",
       "    </tr>\n",
       "  </tbody>\n",
       "</table>\n",
       "</div>"
      ],
      "text/plain": [
       "   review_id    brand   type     store_catchT         store_naver  \\\n",
       "0      14041  Chai797   JUCD  Chai797 롯데캐슬잠실점     Chai797 잠실롯데캐슬점   \n",
       "1      20150  Chai797    UCD     Chai797 청계천점       Chai797 청계천점    \n",
       "2      42933  Chai797   JUCD      Chai797 시청점        Chai797 시청점    \n",
       "3      51558  Chai797  Black    Chai797 BLACK  Chai797 Black 서래마을   \n",
       "4      52125  Chai797  Black    Chai797 BLACK  Chai797 Black 서래마을   \n",
       "\n",
       "         nickname                                            content  \\\n",
       "0            푸디60                                                NaN   \n",
       "1   재미있는 미식가_9435  맛은 그냥 보통보다 조금 괜찮은 정도지만 자리가 넓고 여유로워서 편하게 밥 먹을 수...   \n",
       "2             뽀삐이      쾌적한데 맛은 가격대비 못 미치네요\\n특히 보리새우 백짬뽕은 너무 맛없었어요 ㅠㅠ   \n",
       "3  경쾌한 맛사냥꾼_53243                                                NaN   \n",
       "4             다름아                                                NaN   \n",
       "\n",
       "               date star  \n",
       "0  2021-03-09 22:58  3.5  \n",
       "1  2021-04-21 18:37    4  \n",
       "2  2021-06-29 18:47  2.5  \n",
       "3  2021-07-14 15:42  4.5  \n",
       "4  2021-07-15 19:23    4  "
      ]
     },
     "execution_count": 2,
     "metadata": {},
     "output_type": "execute_result"
    }
   ],
   "source": [
    "## data loading \n",
    "df = pd.read_csv('data_catchT/catchtable_riview_all_20231025.csv', encoding = 'cp949')\n",
    "print(df.shape)\n",
    "df.head()"
   ]
  },
  {
   "cell_type": "code",
   "execution_count": 3,
   "id": "de70b764-af9d-4af2-97ea-9a468a143231",
   "metadata": {
    "tags": []
   },
   "outputs": [
    {
     "name": "stdout",
     "output_type": "stream",
     "text": [
      "Number of stores =  18\n",
      "Number of reviews =  1888\n",
      "Number of users =  1611\n",
      "Date Period =  2020-06-18 14:51  ~  2023-10-24 19:28\n"
     ]
    }
   ],
   "source": [
    "print('Number of stores = ', df['store_catchT'].nunique())\n",
    "print('Number of reviews = ', df['content'].count())\n",
    "print('Number of users = ', df['nickname'].nunique())\n",
    "print('Date Period = ', min(df['date']), ' ~ ', max(df['date']))"
   ]
  },
  {
   "cell_type": "markdown",
   "id": "78006a8e-0890-49f0-bf8a-78e92cada341",
   "metadata": {},
   "source": [
    "---\n",
    "- 캐치테이블을 사용중인 18개 매장에 대한, '20.6월 ~ '23.10월까지의 약 3년간의 데이터\n",
    "- 리뷰건수 총 1,888건. 리뷰작성 유저수는 총 1611명\n",
    "---"
   ]
  },
  {
   "cell_type": "code",
   "execution_count": 4,
   "id": "3ab25124-2237-4ad7-a094-b972a3ab87ff",
   "metadata": {
    "tags": []
   },
   "outputs": [
    {
     "name": "stdout",
     "output_type": "stream",
     "text": [
      "<class 'pandas.core.frame.DataFrame'>\n",
      "RangeIndex: 1922 entries, 0 to 1921\n",
      "Data columns (total 9 columns):\n",
      " #   Column        Non-Null Count  Dtype \n",
      "---  ------        --------------  ----- \n",
      " 0   review_id     1922 non-null   int64 \n",
      " 1   brand         1922 non-null   object\n",
      " 2   type          1922 non-null   object\n",
      " 3   store_catchT  1922 non-null   object\n",
      " 4   store_naver   1922 non-null   object\n",
      " 5   nickname      1921 non-null   object\n",
      " 6   content       1888 non-null   object\n",
      " 7   date          1922 non-null   object\n",
      " 8   star          1922 non-null   object\n",
      "dtypes: int64(1), object(8)\n",
      "memory usage: 135.3+ KB\n"
     ]
    }
   ],
   "source": [
    "## 변수타입 확인 \n",
    "df.info()"
   ]
  },
  {
   "cell_type": "code",
   "execution_count": 5,
   "id": "c019f792-32bc-47a4-8190-07550f8c4927",
   "metadata": {
    "tags": []
   },
   "outputs": [
    {
     "name": "stdout",
     "output_type": "stream",
     "text": [
      "<class 'pandas.core.series.Series'>\n",
      "RangeIndex: 1922 entries, 0 to 1921\n",
      "Series name: date\n",
      "Non-Null Count  Dtype         \n",
      "--------------  -----         \n",
      "1922 non-null   datetime64[ns]\n",
      "dtypes: datetime64[ns](1)\n",
      "memory usage: 15.1 KB\n",
      "None\n"
     ]
    }
   ],
   "source": [
    "## 변수타입 변경 및 전처리 : 1. date컬럼을 datetime 타입으로 변경 \n",
    "df['date'] = pd.to_datetime(df['date'])\n",
    "print(df['date'].info())\n",
    "\n",
    "df['year'] = df['date'].dt.year\n",
    "df['month'] = df['date'].dt.month\n",
    "df['day'] = df['date'].dt.day\n",
    "df['weekday'] = df['date'].dt.day_name()"
   ]
  },
  {
   "cell_type": "code",
   "execution_count": 6,
   "id": "53466055-c589-410f-a30e-009119330e7b",
   "metadata": {
    "tags": []
   },
   "outputs": [
    {
     "data": {
      "text/html": [
       "<div>\n",
       "<style scoped>\n",
       "    .dataframe tbody tr th:only-of-type {\n",
       "        vertical-align: middle;\n",
       "    }\n",
       "\n",
       "    .dataframe tbody tr th {\n",
       "        vertical-align: top;\n",
       "    }\n",
       "\n",
       "    .dataframe thead th {\n",
       "        text-align: right;\n",
       "    }\n",
       "</style>\n",
       "<table border=\"1\" class=\"dataframe\">\n",
       "  <thead>\n",
       "    <tr style=\"text-align: right;\">\n",
       "      <th></th>\n",
       "      <th>review_id</th>\n",
       "      <th>brand</th>\n",
       "      <th>type</th>\n",
       "      <th>store_catchT</th>\n",
       "      <th>store_naver</th>\n",
       "      <th>nickname</th>\n",
       "      <th>content</th>\n",
       "      <th>date</th>\n",
       "      <th>star</th>\n",
       "      <th>year</th>\n",
       "      <th>month</th>\n",
       "      <th>day</th>\n",
       "      <th>weekday</th>\n",
       "      <th>date_YM</th>\n",
       "    </tr>\n",
       "  </thead>\n",
       "  <tbody>\n",
       "    <tr>\n",
       "      <th>0</th>\n",
       "      <td>14041</td>\n",
       "      <td>Chai797</td>\n",
       "      <td>JUCD</td>\n",
       "      <td>Chai797 롯데캐슬잠실점</td>\n",
       "      <td>Chai797 잠실롯데캐슬점</td>\n",
       "      <td>푸디60</td>\n",
       "      <td>NaN</td>\n",
       "      <td>2021-03-09 22:58:00</td>\n",
       "      <td>3.5</td>\n",
       "      <td>2021</td>\n",
       "      <td>3</td>\n",
       "      <td>22</td>\n",
       "      <td>Tuesday</td>\n",
       "      <td>2021-03</td>\n",
       "    </tr>\n",
       "    <tr>\n",
       "      <th>1</th>\n",
       "      <td>20150</td>\n",
       "      <td>Chai797</td>\n",
       "      <td>UCD</td>\n",
       "      <td>Chai797 청계천점</td>\n",
       "      <td>Chai797 청계천점</td>\n",
       "      <td>재미있는 미식가_9435</td>\n",
       "      <td>맛은 그냥 보통보다 조금 괜찮은 정도지만 자리가 넓고 여유로워서 편하게 밥 먹을 수...</td>\n",
       "      <td>2021-04-21 18:37:00</td>\n",
       "      <td>4</td>\n",
       "      <td>2021</td>\n",
       "      <td>4</td>\n",
       "      <td>18</td>\n",
       "      <td>Wednesday</td>\n",
       "      <td>2021-04</td>\n",
       "    </tr>\n",
       "    <tr>\n",
       "      <th>2</th>\n",
       "      <td>42933</td>\n",
       "      <td>Chai797</td>\n",
       "      <td>JUCD</td>\n",
       "      <td>Chai797 시청점</td>\n",
       "      <td>Chai797 시청점</td>\n",
       "      <td>뽀삐이</td>\n",
       "      <td>쾌적한데 맛은 가격대비 못 미치네요\\n특히 보리새우 백짬뽕은 너무 맛없었어요 ㅠㅠ</td>\n",
       "      <td>2021-06-29 18:47:00</td>\n",
       "      <td>2.5</td>\n",
       "      <td>2021</td>\n",
       "      <td>6</td>\n",
       "      <td>18</td>\n",
       "      <td>Tuesday</td>\n",
       "      <td>2021-06</td>\n",
       "    </tr>\n",
       "    <tr>\n",
       "      <th>3</th>\n",
       "      <td>51558</td>\n",
       "      <td>Chai797</td>\n",
       "      <td>Black</td>\n",
       "      <td>Chai797 BLACK</td>\n",
       "      <td>Chai797 Black 서래마을</td>\n",
       "      <td>경쾌한 맛사냥꾼_53243</td>\n",
       "      <td>NaN</td>\n",
       "      <td>2021-07-14 15:42:00</td>\n",
       "      <td>4.5</td>\n",
       "      <td>2021</td>\n",
       "      <td>7</td>\n",
       "      <td>15</td>\n",
       "      <td>Wednesday</td>\n",
       "      <td>2021-07</td>\n",
       "    </tr>\n",
       "    <tr>\n",
       "      <th>4</th>\n",
       "      <td>52125</td>\n",
       "      <td>Chai797</td>\n",
       "      <td>Black</td>\n",
       "      <td>Chai797 BLACK</td>\n",
       "      <td>Chai797 Black 서래마을</td>\n",
       "      <td>다름아</td>\n",
       "      <td>NaN</td>\n",
       "      <td>2021-07-15 19:23:00</td>\n",
       "      <td>4</td>\n",
       "      <td>2021</td>\n",
       "      <td>7</td>\n",
       "      <td>19</td>\n",
       "      <td>Thursday</td>\n",
       "      <td>2021-07</td>\n",
       "    </tr>\n",
       "  </tbody>\n",
       "</table>\n",
       "</div>"
      ],
      "text/plain": [
       "   review_id    brand   type     store_catchT         store_naver  \\\n",
       "0      14041  Chai797   JUCD  Chai797 롯데캐슬잠실점     Chai797 잠실롯데캐슬점   \n",
       "1      20150  Chai797    UCD     Chai797 청계천점       Chai797 청계천점    \n",
       "2      42933  Chai797   JUCD      Chai797 시청점        Chai797 시청점    \n",
       "3      51558  Chai797  Black    Chai797 BLACK  Chai797 Black 서래마을   \n",
       "4      52125  Chai797  Black    Chai797 BLACK  Chai797 Black 서래마을   \n",
       "\n",
       "         nickname                                            content  \\\n",
       "0            푸디60                                                NaN   \n",
       "1   재미있는 미식가_9435  맛은 그냥 보통보다 조금 괜찮은 정도지만 자리가 넓고 여유로워서 편하게 밥 먹을 수...   \n",
       "2             뽀삐이      쾌적한데 맛은 가격대비 못 미치네요\\n특히 보리새우 백짬뽕은 너무 맛없었어요 ㅠㅠ   \n",
       "3  경쾌한 맛사냥꾼_53243                                                NaN   \n",
       "4             다름아                                                NaN   \n",
       "\n",
       "                 date star  year  month  day    weekday  date_YM  \n",
       "0 2021-03-09 22:58:00  3.5  2021      3   22    Tuesday  2021-03  \n",
       "1 2021-04-21 18:37:00    4  2021      4   18  Wednesday  2021-04  \n",
       "2 2021-06-29 18:47:00  2.5  2021      6   18    Tuesday  2021-06  \n",
       "3 2021-07-14 15:42:00  4.5  2021      7   15  Wednesday  2021-07  \n",
       "4 2021-07-15 19:23:00    4  2021      7   19   Thursday  2021-07  "
      ]
     },
     "execution_count": 6,
     "metadata": {},
     "output_type": "execute_result"
    }
   ],
   "source": [
    "## 2. 분석 편의를 위해 year, month, day, hour, 요일 추출\n",
    "## 3. 다년간의 데이터이므로 연-월 변수도 생성 \n",
    "df['year'] = df['date'].dt.year\n",
    "df['month'] = df['date'].dt.month\n",
    "df['day'] = df['date'].dt.day\n",
    "df['day'] = df['date'].dt.hour\n",
    "df['weekday'] = df['date'].dt.day_name()\n",
    "df['date_YM'] = df['date'].astype(str).str[:7]\n",
    "\n",
    "df.head()"
   ]
  },
  {
   "cell_type": "code",
   "execution_count": 7,
   "id": "28737d7a-d390-4f94-add5-e4960d53faf5",
   "metadata": {
    "tags": []
   },
   "outputs": [
    {
     "data": {
      "text/plain": [
       "review_id        0\n",
       "brand            0\n",
       "type             0\n",
       "store_catchT     0\n",
       "store_naver      0\n",
       "nickname         1\n",
       "content         34\n",
       "date             0\n",
       "star             0\n",
       "year             0\n",
       "month            0\n",
       "day              0\n",
       "weekday          0\n",
       "date_YM          0\n",
       "dtype: int64"
      ]
     },
     "execution_count": 7,
     "metadata": {},
     "output_type": "execute_result"
    }
   ],
   "source": [
    "## null값 확인  \n",
    "df.isnull().sum()"
   ]
  },
  {
   "cell_type": "code",
   "execution_count": 8,
   "id": "2ad197fe-59c2-4e02-81c3-896ec076eb00",
   "metadata": {
    "tags": []
   },
   "outputs": [
    {
     "data": {
      "text/plain": [
       "\"\\nnickname이 없는 것은 분석에 지장 없으나, 리뷰내용('content')이 없는 것은 문제 \\n단 리뷰내용이 없더라도 별점(rating)값은 존재하므로, 일단 분석은 그대로 진행하되 추후 text분석 시에는 content=null값인 데이터들 삭제 검토하기로 함 \\n\""
      ]
     },
     "execution_count": 8,
     "metadata": {},
     "output_type": "execute_result"
    }
   ],
   "source": [
    "#df[df['nickname'].isnull()]\n",
    "#df[df['content'].isnull()]\n",
    "\n",
    "'''\n",
    "nickname이 없는 것은 분석에 지장 없으나, 리뷰내용('content')이 없는 것은 문제 \n",
    "단 리뷰내용이 없더라도 별점(rating)값은 존재하므로, 일단 분석은 그대로 진행하되 추후 text분석 시에는 content=null값인 데이터들 삭제 검토하기로 함 \n",
    "'''"
   ]
  },
  {
   "cell_type": "markdown",
   "id": "33533536-bfd1-4131-ab52-8fa280f2082a",
   "metadata": {},
   "source": [
    "--- \n",
    "### 데이터 탐색 \n",
    "- 연도별, 월별, 날짜/요일 및 시간대별 리뷰 건수 \n",
    "- 매장별 리뷰 건수 \n",
    "---"
   ]
  },
  {
   "cell_type": "code",
   "execution_count": 9,
   "id": "970ea4fc-0587-4c8e-b5c4-665ba0ecaa59",
   "metadata": {
    "tags": []
   },
   "outputs": [
    {
     "name": "stdout",
     "output_type": "stream",
     "text": [
      "year\n",
      "2020       1\n",
      "2021      42\n",
      "2022     651\n",
      "2023    1228\n",
      "Name: count, dtype: int64\n"
     ]
    },
    {
     "data": {
      "text/plain": [
       "<Axes: xlabel='year', ylabel='count'>"
      ]
     },
     "execution_count": 9,
     "metadata": {},
     "output_type": "execute_result"
    },
    {
     "data": {
      "image/png": "[encoded data removed]",
      "text/plain": [
       "<Figure size 600x300 with 1 Axes>"
      ]
     },
     "metadata": {},
     "output_type": "display_data"
    }
   ],
   "source": [
    "## 연도별 리뷰 건수 \n",
    "plt.figure(figsize=(6,3))\n",
    "year_cnt = df['year'].value_counts()\n",
    "print(year_cnt.sort_index())\n",
    "sns.countplot(data = df, x='year')"
   ]
  },
  {
   "cell_type": "code",
   "execution_count": 10,
   "id": "2fe08034-7eec-416f-b978-25fee0d672f3",
   "metadata": {
    "tags": []
   },
   "outputs": [
    {
     "name": "stdout",
     "output_type": "stream",
     "text": [
      "2022년: month\n",
      "1      11\n",
      "2      13\n",
      "3       8\n",
      "4      18\n",
      "5      28\n",
      "6      29\n",
      "7      44\n",
      "8      67\n",
      "9      87\n",
      "10     80\n",
      "11     50\n",
      "12    216\n",
      "Name: count, dtype: int64\n",
      "2023년: month\n",
      "1     125\n",
      "2     138\n",
      "3     119\n",
      "4     106\n",
      "5     137\n",
      "6      91\n",
      "7     123\n",
      "8     149\n",
      "9     138\n",
      "10    102\n",
      "Name: count, dtype: int64\n"
     ]
    },
    {
     "data": {
      "text/plain": [
       "(0.0, 300.0)"
      ]
     },
     "execution_count": 10,
     "metadata": {},
     "output_type": "execute_result"
    },
    {
     "data": {
      "image/png": "[encoded data removed]",
      "text/plain": [
       "<Figure size 1200x300 with 2 Axes>"
      ]
     },
     "metadata": {},
     "output_type": "display_data"
    }
   ],
   "source": [
    "## 2022~ 2023 월별 리뷰 건수 추이 파악 \n",
    "df_2022 = df[df['year'] == 2022]\n",
    "df_2023 = df[df['year'] == 2023]\n",
    "\n",
    "month_cnt_2022 = df_2022['month'].value_counts()\n",
    "print('2022년:', month_cnt_2022.sort_index())\n",
    "month_cnt_2023 = df_2023['month'].value_counts()\n",
    "print('2023년:', month_cnt_2023.sort_index())\n",
    "\n",
    "figure, (ax1,ax2) = plt.subplots(ncols=2)\n",
    "figure.set_size_inches(12,3)\n",
    "sns.countplot(data = df_2022, x='month', ax=ax1)\n",
    "sns.countplot(data = df_2023, x='month', ax=ax2)\n",
    "ax1.set(title = 'Year 2022: Reviews by month')\n",
    "ax2.set(title = 'Year 2023: Reviews by month')\n",
    "ax1.set_ylim(0, 300) \n",
    "ax2.set_ylim(0, 300) "
   ]
  },
  {
   "cell_type": "code",
   "execution_count": 11,
   "id": "6d29de0b-a38d-470e-a784-a8b8ff770774",
   "metadata": {
    "tags": []
   },
   "outputs": [
    {
     "name": "stdout",
     "output_type": "stream",
     "text": [
      "brand\n",
      "Chai797    498\n",
      "정육점        153\n",
      "Name: count, dtype: int64\n",
      "brand\n",
      "Chai797    869\n",
      "정육점        359\n",
      "Name: count, dtype: int64\n"
     ]
    },
    {
     "data": {
      "text/plain": [
       "(0.0, 1000.0)"
      ]
     },
     "execution_count": 11,
     "metadata": {},
     "output_type": "execute_result"
    },
    {
     "data": {
      "image/png": "[encoded data removed]",
      "text/plain": [
       "<Figure size 1000x300 with 2 Axes>"
      ]
     },
     "metadata": {},
     "output_type": "display_data"
    }
   ],
   "source": [
    "##  브랜드별 리뷰 건수 \n",
    "brand_cnt_2022 = df_2022['brand'].value_counts()\n",
    "print(brand_cnt_2022.sort_index())\n",
    "brand_cnt_2023 = df_2023['brand'].value_counts()\n",
    "print(brand_cnt_2023.sort_index())\n",
    "\n",
    "figure, (ax1,ax2) = plt.subplots(ncols=2)\n",
    "figure.set_size_inches(10,3)\n",
    "sns.countplot(data = df_2022, x='brand', ax=ax1)\n",
    "sns.countplot(data = df_2023, x='brand', ax=ax2)\n",
    "ax1.set(title = 'Year 2022: Reviews by brand')\n",
    "ax2.set(title = 'Year 2023: Reviews by brand')\n",
    "ax1.set_ylim(0, 1000) \n",
    "ax2.set_ylim(0, 1000) "
   ]
  },
  {
   "cell_type": "code",
   "execution_count": 12,
   "id": "dbbadbad-b9db-40a9-8837-7324e07a7d85",
   "metadata": {
    "tags": []
   },
   "outputs": [
    {
     "name": "stdout",
     "output_type": "stream",
     "text": [
      "store_naver\n",
      "Chai797 Black 서래마을    103\n",
      "Chai797 광화문점           58\n",
      "정육점 서래마을 본점            52\n",
      "Chai797 여의도점           48\n",
      "Chai797 종로 그랑 서울점      44\n",
      "Chai797 청계천점           44\n",
      "정육점 을지로점               40\n",
      "Chai797 삼성점            34\n",
      "Chai797 잠실롯데캐슬점        33\n",
      "Chai797 시청점            31\n",
      "Chai797 을지로점           30\n",
      "정육점 여의도점               27\n",
      "Chai797 Plus 서현점       25\n",
      "Chai797 광화문 SFC점       25\n",
      "Chai797 역삼 GFC         23\n",
      "정육점 강남점                20\n",
      "정육점 광화문 SFC점           14\n",
      "Name: count, dtype: int64\n"
     ]
    },
    {
     "data": {
      "text/plain": [
       "<Axes: xlabel='count', ylabel='Density'>"
      ]
     },
     "execution_count": 12,
     "metadata": {},
     "output_type": "execute_result"
    },
    {
     "data": {
      "image/png": "[encoded data removed]",
      "text/plain": [
       "<Figure size 640x480 with 1 Axes>"
      ]
     },
     "metadata": {},
     "output_type": "display_data"
    }
   ],
   "source": [
    "## 매장별 리뷰건수 분포 ('22년')\n",
    "store_cnt_2022 = df_2022['store_naver'].value_counts()\n",
    "b = store_cnt_2022.sort_values(ascending=False)\n",
    "print(b)\n",
    "sns.distplot(b)"
   ]
  },
  {
   "cell_type": "code",
   "execution_count": 13,
   "id": "ea395617-985c-44c4-bc23-0e780962362b",
   "metadata": {
    "tags": []
   },
   "outputs": [
    {
     "name": "stdout",
     "output_type": "stream",
     "text": [
      "store_naver\n",
      "Chai797 광화문 SFC점             220\n",
      "Chai797 Black 서래마을           202\n",
      "정육점 광화문 SFC점                 144\n",
      "Chai797 여의도점                  92\n",
      "정육점 서래마을 본점                   80\n",
      "Chai797 시청점                   73\n",
      "Chai797 청계천점                  58\n",
      "정육점 여의도점                      52\n",
      "정육점 강남점                       44\n",
      "Chai797 광화문점                  41\n",
      "정육점 을지로점                      39\n",
      "Chai797 종로 그랑 서울점             39\n",
      "Chai797 잠실롯데캐슬점               34\n",
      "Chai797 역삼 GFC                30\n",
      "Chai797 을지로점                  29\n",
      "Chai797 삼성점                   25\n",
      "Chai797 Plus 서현점              23\n",
      "Chai797 Plus 현대시티아울렛 동대문점      3\n",
      "Name: count, dtype: int64\n"
     ]
    },
    {
     "data": {
      "text/plain": [
       "<Axes: xlabel='count', ylabel='Density'>"
      ]
     },
     "execution_count": 13,
     "metadata": {},
     "output_type": "execute_result"
    },
    {
     "data": {
      "image/png": "[encoded data removed]",
      "text/plain": [
       "<Figure size 640x480 with 1 Axes>"
      ]
     },
     "metadata": {},
     "output_type": "display_data"
    }
   ],
   "source": [
    "## 매장별 리뷰건수 ('23년')\n",
    "store_cnt_2023 = df_2023['store_naver'].value_counts()\n",
    "a = store_cnt_2023.sort_values(ascending=False)\n",
    "print(a)\n",
    "sns.distplot(a)"
   ]
  },
  {
   "cell_type": "markdown",
   "id": "76497f76-7308-4aa8-a1ea-7b3f3430a398",
   "metadata": {},
   "source": [
    "--- \n",
    "- '23년 기준 총 리뷰건수는 약 12백건 (월평균 100~120건 내외, 네이버의 약 1/4 수준) \n",
    "- 브랜드별로는 Chai797과 정육점의 리뷰숫자가 약 6:4 (실제 매장수 비율은 7:3, 정육점 이용고객들이 리뷰가 조금 많은 편) \n",
    "- '23년 1개 매장당 평균 리뷰건수는 68건, 서래마을/SFC 등 몇몇 매장에 리뷰가 집중된 경향을 보임 \n",
    "--- "
   ]
  },
  {
   "cell_type": "code",
   "execution_count": 14,
   "id": "378aa2de-fb5d-4ad0-9b90-88783d165a3f",
   "metadata": {},
   "outputs": [
    {
     "data": {
      "text/html": [
       "<div>\n",
       "<style scoped>\n",
       "    .dataframe tbody tr th:only-of-type {\n",
       "        vertical-align: middle;\n",
       "    }\n",
       "\n",
       "    .dataframe tbody tr th {\n",
       "        vertical-align: top;\n",
       "    }\n",
       "\n",
       "    .dataframe thead th {\n",
       "        text-align: right;\n",
       "    }\n",
       "</style>\n",
       "<table border=\"1\" class=\"dataframe\">\n",
       "  <thead>\n",
       "    <tr style=\"text-align: right;\">\n",
       "      <th></th>\n",
       "      <th>review_cnt</th>\n",
       "    </tr>\n",
       "  </thead>\n",
       "  <tbody>\n",
       "    <tr>\n",
       "      <th>푸디60</th>\n",
       "      <td>1</td>\n",
       "    </tr>\n",
       "    <tr>\n",
       "      <th>재미있는 미식가_9435</th>\n",
       "      <td>1</td>\n",
       "    </tr>\n",
       "    <tr>\n",
       "      <th>뽀삐이</th>\n",
       "      <td>1</td>\n",
       "    </tr>\n",
       "    <tr>\n",
       "      <th>경쾌한 맛사냥꾼_53243</th>\n",
       "      <td>2</td>\n",
       "    </tr>\n",
       "    <tr>\n",
       "      <th>다름아</th>\n",
       "      <td>1</td>\n",
       "    </tr>\n",
       "  </tbody>\n",
       "</table>\n",
       "</div>"
      ],
      "text/plain": [
       "                review_cnt\n",
       "푸디60                     1\n",
       "재미있는 미식가_9435            1\n",
       "뽀삐이                      1\n",
       "경쾌한 맛사냥꾼_53243           2\n",
       "다름아                      1"
      ]
     },
     "execution_count": 14,
     "metadata": {},
     "output_type": "execute_result"
    }
   ],
   "source": [
    "## 고객 1명 기준으로 몇건의 리뷰를 작성하였는지 파악 \n",
    "from collections import Counter\n",
    "x1 = dict(Counter(df['nickname'])) ## 닉네임 중복횟수를 dict로 저장 \n",
    "x1_df = pd.DataFrame.from_dict(x1, orient='index')  ## 데이터프레임 형태로 변환 \n",
    "x1_df.columns = ['review_cnt']\n",
    "x1_df.head()"
   ]
  },
  {
   "cell_type": "code",
   "execution_count": 15,
   "id": "85b3fab6-e4fe-4ac1-9f89-0cf6df5edb17",
   "metadata": {
    "tags": []
   },
   "outputs": [
    {
     "name": "stdout",
     "output_type": "stream",
     "text": [
      "1인당 평균 리뷰수 =  1.1923076923076923\n",
      "1인 최다 리뷰횟수 =  8\n"
     ]
    },
    {
     "data": {
      "text/html": [
       "<div>\n",
       "<style scoped>\n",
       "    .dataframe tbody tr th:only-of-type {\n",
       "        vertical-align: middle;\n",
       "    }\n",
       "\n",
       "    .dataframe tbody tr th {\n",
       "        vertical-align: top;\n",
       "    }\n",
       "\n",
       "    .dataframe thead th {\n",
       "        text-align: right;\n",
       "    }\n",
       "</style>\n",
       "<table border=\"1\" class=\"dataframe\">\n",
       "  <thead>\n",
       "    <tr style=\"text-align: right;\">\n",
       "      <th></th>\n",
       "      <th>review_cnt</th>\n",
       "    </tr>\n",
       "  </thead>\n",
       "  <tbody>\n",
       "    <tr>\n",
       "      <th>꼼꼼한 마스터_85428</th>\n",
       "      <td>8</td>\n",
       "    </tr>\n",
       "    <tr>\n",
       "      <th>북한산사나이</th>\n",
       "      <td>8</td>\n",
       "    </tr>\n",
       "    <tr>\n",
       "      <th>nimgnujah</th>\n",
       "      <td>7</td>\n",
       "    </tr>\n",
       "    <tr>\n",
       "      <th>Dr. CG</th>\n",
       "      <td>7</td>\n",
       "    </tr>\n",
       "    <tr>\n",
       "      <th>abstrade</th>\n",
       "      <td>7</td>\n",
       "    </tr>\n",
       "    <tr>\n",
       "      <th>빛나는 셀럽_49520</th>\n",
       "      <td>5</td>\n",
       "    </tr>\n",
       "    <tr>\n",
       "      <th>DreamingPaul</th>\n",
       "      <td>5</td>\n",
       "    </tr>\n",
       "    <tr>\n",
       "      <th>맛셔너리</th>\n",
       "      <td>5</td>\n",
       "    </tr>\n",
       "    <tr>\n",
       "      <th>Ryanshin</th>\n",
       "      <td>5</td>\n",
       "    </tr>\n",
       "    <tr>\n",
       "      <th>hurr</th>\n",
       "      <td>5</td>\n",
       "    </tr>\n",
       "  </tbody>\n",
       "</table>\n",
       "</div>"
      ],
      "text/plain": [
       "               review_cnt\n",
       "꼼꼼한 마스터_85428           8\n",
       "북한산사나이                  8\n",
       "nimgnujah               7\n",
       "Dr. CG                  7\n",
       "abstrade                7\n",
       "빛나는 셀럽_49520            5\n",
       "DreamingPaul            5\n",
       "맛셔너리                    5\n",
       "Ryanshin                5\n",
       "hurr                    5"
      ]
     },
     "execution_count": 15,
     "metadata": {},
     "output_type": "execute_result"
    }
   ],
   "source": [
    "print('1인당 평균 리뷰수 = ', np.mean(x1_df['review_cnt']))\n",
    "print('1인 최다 리뷰횟수 = ', np.max(x1_df['review_cnt']))\n",
    "x1_df.sort_values('review_cnt', ascending = False)[:10]"
   ]
  },
  {
   "cell_type": "code",
   "execution_count": 16,
   "id": "a1602fb6-c461-4b67-81da-7cc59de57b8e",
   "metadata": {
    "tags": []
   },
   "outputs": [
    {
     "data": {
      "text/html": [
       "<div>\n",
       "<style scoped>\n",
       "    .dataframe tbody tr th:only-of-type {\n",
       "        vertical-align: middle;\n",
       "    }\n",
       "\n",
       "    .dataframe tbody tr th {\n",
       "        vertical-align: top;\n",
       "    }\n",
       "\n",
       "    .dataframe thead th {\n",
       "        text-align: right;\n",
       "    }\n",
       "</style>\n",
       "<table border=\"1\" class=\"dataframe\">\n",
       "  <thead>\n",
       "    <tr style=\"text-align: right;\">\n",
       "      <th></th>\n",
       "      <th>review_id</th>\n",
       "      <th>brand</th>\n",
       "      <th>type</th>\n",
       "      <th>store_catchT</th>\n",
       "      <th>store_naver</th>\n",
       "      <th>nickname</th>\n",
       "      <th>content</th>\n",
       "      <th>date</th>\n",
       "      <th>star</th>\n",
       "      <th>year</th>\n",
       "      <th>month</th>\n",
       "      <th>day</th>\n",
       "      <th>weekday</th>\n",
       "      <th>date_YM</th>\n",
       "    </tr>\n",
       "  </thead>\n",
       "  <tbody>\n",
       "    <tr>\n",
       "      <th>715</th>\n",
       "      <td>1644190</td>\n",
       "      <td>Chai797</td>\n",
       "      <td>Dining</td>\n",
       "      <td>Chai797 SFC점</td>\n",
       "      <td>Chai797 광화문 SFC점</td>\n",
       "      <td>꼼꼼한 마스터_85428</td>\n",
       "      <td>친절하고 담소 나누기 좋아요</td>\n",
       "      <td>2023-03-02 14:02:00</td>\n",
       "      <td>4.7</td>\n",
       "      <td>2023</td>\n",
       "      <td>3</td>\n",
       "      <td>14</td>\n",
       "      <td>Thursday</td>\n",
       "      <td>2023-03</td>\n",
       "    </tr>\n",
       "    <tr>\n",
       "      <th>718</th>\n",
       "      <td>1645587</td>\n",
       "      <td>Chai797</td>\n",
       "      <td>JUCD</td>\n",
       "      <td>Chai797 시청점</td>\n",
       "      <td>Chai797 시청점</td>\n",
       "      <td>꼼꼼한 마스터_85428</td>\n",
       "      <td>홀에도 독립공간처럼 돼 있는 곳들 많아서 편하게 대화하기 좋아요</td>\n",
       "      <td>2023-03-03 14:15:00</td>\n",
       "      <td>4.3</td>\n",
       "      <td>2023</td>\n",
       "      <td>3</td>\n",
       "      <td>14</td>\n",
       "      <td>Friday</td>\n",
       "      <td>2023-03</td>\n",
       "    </tr>\n",
       "    <tr>\n",
       "      <th>860</th>\n",
       "      <td>1730798</td>\n",
       "      <td>Chai797</td>\n",
       "      <td>JUCD</td>\n",
       "      <td>Chai797 GFC점</td>\n",
       "      <td>Chai797 역삼 GFC</td>\n",
       "      <td>꼼꼼한 마스터_85428</td>\n",
       "      <td>좋은 위치에 괜찮은 맛. 짬뽕이 좀 매워서 맵찔이에게는 힘들어요</td>\n",
       "      <td>2023-04-27 13:37:00</td>\n",
       "      <td>4.7</td>\n",
       "      <td>2023</td>\n",
       "      <td>4</td>\n",
       "      <td>13</td>\n",
       "      <td>Thursday</td>\n",
       "      <td>2023-04</td>\n",
       "    </tr>\n",
       "    <tr>\n",
       "      <th>903</th>\n",
       "      <td>1752386</td>\n",
       "      <td>Chai797</td>\n",
       "      <td>Dining</td>\n",
       "      <td>Chai797 SFC점</td>\n",
       "      <td>Chai797 광화문 SFC점</td>\n",
       "      <td>꼼꼼한 마스터_85428</td>\n",
       "      <td>위치 좋고 직원들 친절해서 좋아요. 짬뽕은 조금 매울수 있어요</td>\n",
       "      <td>2023-05-09 13:56:00</td>\n",
       "      <td>4.8</td>\n",
       "      <td>2023</td>\n",
       "      <td>5</td>\n",
       "      <td>13</td>\n",
       "      <td>Tuesday</td>\n",
       "      <td>2023-05</td>\n",
       "    </tr>\n",
       "    <tr>\n",
       "      <th>1361</th>\n",
       "      <td>2092494</td>\n",
       "      <td>Chai797</td>\n",
       "      <td>Dining</td>\n",
       "      <td>Chai797 SFC점</td>\n",
       "      <td>Chai797 광화문 SFC점</td>\n",
       "      <td>꼼꼼한 마스터_85428</td>\n",
       "      <td>런치 스페셜 구성, 맛 모두 우수.</td>\n",
       "      <td>2023-10-12 15:16:00</td>\n",
       "      <td>4.8</td>\n",
       "      <td>2023</td>\n",
       "      <td>10</td>\n",
       "      <td>15</td>\n",
       "      <td>Thursday</td>\n",
       "      <td>2023-10</td>\n",
       "    </tr>\n",
       "    <tr>\n",
       "      <th>1654</th>\n",
       "      <td>1666969</td>\n",
       "      <td>정육점</td>\n",
       "      <td>JUCD</td>\n",
       "      <td>바른고기정육점 강남점</td>\n",
       "      <td>정육점 강남점</td>\n",
       "      <td>꼼꼼한 마스터_85428</td>\n",
       "      <td>가격이 비싼 편이라면 서비스라도 좋아야 하는데...</td>\n",
       "      <td>2023-03-16 17:33:00</td>\n",
       "      <td>3.5</td>\n",
       "      <td>2023</td>\n",
       "      <td>3</td>\n",
       "      <td>17</td>\n",
       "      <td>Thursday</td>\n",
       "      <td>2023-03</td>\n",
       "    </tr>\n",
       "    <tr>\n",
       "      <th>1697</th>\n",
       "      <td>1720076</td>\n",
       "      <td>정육점</td>\n",
       "      <td>JUCD</td>\n",
       "      <td>바른고기정육점 강남점</td>\n",
       "      <td>정육점 강남점</td>\n",
       "      <td>꼼꼼한 마스터_85428</td>\n",
       "      <td>안심코스 먹었는데, 강남역 감안해도 살짝 비싸긴 함.그래도 손님 모시기에는 괜찮음.</td>\n",
       "      <td>2023-04-20 13:57:00</td>\n",
       "      <td>4.5</td>\n",
       "      <td>2023</td>\n",
       "      <td>4</td>\n",
       "      <td>13</td>\n",
       "      <td>Thursday</td>\n",
       "      <td>2023-04</td>\n",
       "    </tr>\n",
       "    <tr>\n",
       "      <th>1718</th>\n",
       "      <td>1751236</td>\n",
       "      <td>정육점</td>\n",
       "      <td>UCD</td>\n",
       "      <td>바른고기정육점 광화문SFC점</td>\n",
       "      <td>정육점 광화문 SFC점</td>\n",
       "      <td>꼼꼼한 마스터_85428</td>\n",
       "      <td>세트와 코스의 차이가 달랑 아이스크림 모나카 하나인데... 가격은 1만원</td>\n",
       "      <td>2023-05-08 18:09:00</td>\n",
       "      <td>4</td>\n",
       "      <td>2023</td>\n",
       "      <td>5</td>\n",
       "      <td>18</td>\n",
       "      <td>Monday</td>\n",
       "      <td>2023-05</td>\n",
       "    </tr>\n",
       "  </tbody>\n",
       "</table>\n",
       "</div>"
      ],
      "text/plain": [
       "      review_id    brand    type     store_catchT       store_naver  \\\n",
       "715     1644190  Chai797  Dining     Chai797 SFC점  Chai797 광화문 SFC점   \n",
       "718     1645587  Chai797    JUCD      Chai797 시청점      Chai797 시청점    \n",
       "860     1730798  Chai797    JUCD     Chai797 GFC점    Chai797 역삼 GFC   \n",
       "903     1752386  Chai797  Dining     Chai797 SFC점  Chai797 광화문 SFC점   \n",
       "1361    2092494  Chai797  Dining     Chai797 SFC점  Chai797 광화문 SFC점   \n",
       "1654    1666969      정육점    JUCD      바른고기정육점 강남점           정육점 강남점   \n",
       "1697    1720076      정육점    JUCD      바른고기정육점 강남점           정육점 강남점   \n",
       "1718    1751236      정육점     UCD  바른고기정육점 광화문SFC점      정육점 광화문 SFC점   \n",
       "\n",
       "           nickname                                         content  \\\n",
       "715   꼼꼼한 마스터_85428                                 친절하고 담소 나누기 좋아요   \n",
       "718   꼼꼼한 마스터_85428             홀에도 독립공간처럼 돼 있는 곳들 많아서 편하게 대화하기 좋아요   \n",
       "860   꼼꼼한 마스터_85428             좋은 위치에 괜찮은 맛. 짬뽕이 좀 매워서 맵찔이에게는 힘들어요   \n",
       "903   꼼꼼한 마스터_85428              위치 좋고 직원들 친절해서 좋아요. 짬뽕은 조금 매울수 있어요   \n",
       "1361  꼼꼼한 마스터_85428                             런치 스페셜 구성, 맛 모두 우수.   \n",
       "1654  꼼꼼한 마스터_85428                    가격이 비싼 편이라면 서비스라도 좋아야 하는데...   \n",
       "1697  꼼꼼한 마스터_85428  안심코스 먹었는데, 강남역 감안해도 살짝 비싸긴 함.그래도 손님 모시기에는 괜찮음.   \n",
       "1718  꼼꼼한 마스터_85428        세트와 코스의 차이가 달랑 아이스크림 모나카 하나인데... 가격은 1만원   \n",
       "\n",
       "                    date star  year  month  day   weekday  date_YM  \n",
       "715  2023-03-02 14:02:00  4.7  2023      3   14  Thursday  2023-03  \n",
       "718  2023-03-03 14:15:00  4.3  2023      3   14    Friday  2023-03  \n",
       "860  2023-04-27 13:37:00  4.7  2023      4   13  Thursday  2023-04  \n",
       "903  2023-05-09 13:56:00  4.8  2023      5   13   Tuesday  2023-05  \n",
       "1361 2023-10-12 15:16:00  4.8  2023     10   15  Thursday  2023-10  \n",
       "1654 2023-03-16 17:33:00  3.5  2023      3   17  Thursday  2023-03  \n",
       "1697 2023-04-20 13:57:00  4.5  2023      4   13  Thursday  2023-04  \n",
       "1718 2023-05-08 18:09:00    4  2023      5   18    Monday  2023-05  "
      ]
     },
     "execution_count": 16,
     "metadata": {},
     "output_type": "execute_result"
    }
   ],
   "source": [
    "## 리뷰자 별 리뷰내용을 살펴보자 \n",
    "reviewer = '꼼꼼한 마스터_85428'\n",
    "\n",
    "x1_1 = df[df['nickname'] == reviewer]\n",
    "x1_1"
   ]
  },
  {
   "cell_type": "markdown",
   "id": "db175912-58b9-422f-9290-5f157f18e78b",
   "metadata": {},
   "source": [
    "---\n",
    "### 별점분석 \n",
    "- star 변수의 타입을 숫자형태로 변경, 5점 만점이므로 2점 이하 부정적 & 3점 중립 & 4점 이상 긍정적으로 구분  \n",
    "- 전체 평점, 기간별 평점 추이, 브랜드/매장별 평점 비교 등 \n",
    "---"
   ]
  },
  {
   "cell_type": "code",
   "execution_count": 17,
   "id": "52349439-c000-405e-ba49-a882fdbffe36",
   "metadata": {
    "tags": []
   },
   "outputs": [
    {
     "data": {
      "text/html": [
       "<div>\n",
       "<style scoped>\n",
       "    .dataframe tbody tr th:only-of-type {\n",
       "        vertical-align: middle;\n",
       "    }\n",
       "\n",
       "    .dataframe tbody tr th {\n",
       "        vertical-align: top;\n",
       "    }\n",
       "\n",
       "    .dataframe thead th {\n",
       "        text-align: right;\n",
       "    }\n",
       "</style>\n",
       "<table border=\"1\" class=\"dataframe\">\n",
       "  <thead>\n",
       "    <tr style=\"text-align: right;\">\n",
       "      <th></th>\n",
       "      <th>review_id</th>\n",
       "      <th>brand</th>\n",
       "      <th>type</th>\n",
       "      <th>store_catchT</th>\n",
       "      <th>store_naver</th>\n",
       "      <th>nickname</th>\n",
       "      <th>content</th>\n",
       "      <th>date</th>\n",
       "      <th>star</th>\n",
       "      <th>year</th>\n",
       "      <th>month</th>\n",
       "      <th>day</th>\n",
       "      <th>weekday</th>\n",
       "      <th>date_YM</th>\n",
       "    </tr>\n",
       "  </thead>\n",
       "  <tbody>\n",
       "    <tr>\n",
       "      <th>836</th>\n",
       "      <td>1719556</td>\n",
       "      <td>Chai797</td>\n",
       "      <td>Dining</td>\n",
       "      <td>Chai797 SFC점</td>\n",
       "      <td>Chai797 광화문 SFC점</td>\n",
       "      <td>李福雨</td>\n",
       "      <td>명불허전,\\n음식완벽,\\n服?太棒,</td>\n",
       "      <td>2023-04-19 22:12:00</td>\n",
       "      <td>?人不露相！</td>\n",
       "      <td>2023</td>\n",
       "      <td>4</td>\n",
       "      <td>22</td>\n",
       "      <td>Wednesday</td>\n",
       "      <td>2023-04</td>\n",
       "    </tr>\n",
       "  </tbody>\n",
       "</table>\n",
       "</div>"
      ],
      "text/plain": [
       "     review_id    brand    type  store_catchT       store_naver nickname  \\\n",
       "836    1719556  Chai797  Dining  Chai797 SFC점  Chai797 광화문 SFC점      李福雨   \n",
       "\n",
       "                 content                date      star  year  month  day  \\\n",
       "836  명불허전,\\n음식완벽,\\n服?太棒, 2023-04-19 22:12:00   ?人不露相！   2023      4   22   \n",
       "\n",
       "       weekday  date_YM  \n",
       "836  Wednesday  2023-04  "
      ]
     },
     "execution_count": 17,
     "metadata": {},
     "output_type": "execute_result"
    }
   ],
   "source": [
    "## 별점 분석시 에러발생, 확인해보니 이상한 값 1건 존재 \n",
    "df[df['star'] == ' ?人不露相！ ']"
   ]
  },
  {
   "cell_type": "code",
   "execution_count": 18,
   "id": "0f90d5ab-7720-4a2a-aafa-a86a47e37746",
   "metadata": {
    "tags": []
   },
   "outputs": [],
   "source": [
    "## 값 제거 \n",
    "df = df[df['star'] != ' ?人不露相！ ']"
   ]
  },
  {
   "cell_type": "code",
   "execution_count": 19,
   "id": "461b6b09-56c6-4f16-9eb2-ffc423d07b70",
   "metadata": {
    "tags": []
   },
   "outputs": [
    {
     "name": "stdout",
     "output_type": "stream",
     "text": [
      ">> 전체 별점평균=  4.21\n"
     ]
    },
    {
     "data": {
      "text/plain": [
       "<Axes: >"
      ]
     },
     "execution_count": 19,
     "metadata": {},
     "output_type": "execute_result"
    },
    {
     "data": {
      "image/png": "[encoded data removed]",
      "text/plain": [
       "<Figure size 600x300 with 1 Axes>"
      ]
     },
     "metadata": {},
     "output_type": "display_data"
    }
   ],
   "source": [
    "df['star'] = df['star'].astype(float)\n",
    "\n",
    "print('>> 전체 별점평균= ', round(df['star'].mean(), 2))\n",
    "df['star'].hist(figsize = (6,3))"
   ]
  },
  {
   "cell_type": "code",
   "execution_count": 20,
   "id": "35770e28-d0e0-4620-91fe-b1149e0ff577",
   "metadata": {
    "tags": []
   },
   "outputs": [
    {
     "data": {
      "text/plain": [
       "[Text(0.5, 1.0, '월별 별점 추이')]"
      ]
     },
     "execution_count": 20,
     "metadata": {},
     "output_type": "execute_result"
    },
    {
     "data": {
      "image/png": "[encoded data removed]",
      "text/plain": [
       "<Figure size 1800x300 with 2 Axes>"
      ]
     },
     "metadata": {},
     "output_type": "display_data"
    }
   ],
   "source": [
    "## 리뷰가 본격화된 '22년 이후, 평균 별점 (브랜드별 연도 및 월별 점수) \n",
    "df_over_2022 = df[df['year'] >= 2022] \n",
    "\n",
    "figure, (ax1,ax2) = plt.subplots(ncols=2)\n",
    "figure.set_size_inches(18,3)\n",
    "sns.barplot(data=df_over_2022, x='brand', y='star', hue='year', ci=0, ax=ax1)\n",
    "sns.lineplot(data=df_over_2022, x='date_YM', y='star', hue='brand', ci=0, ax=ax2)\n",
    "plt.ylim([0, 5])  \n",
    "plt.xticks(rotation=45)\n",
    "ax1.set(title = '2022~2023년 평균 별점')\n",
    "ax2.set(title = '월별 별점 추이')"
   ]
  },
  {
   "cell_type": "markdown",
   "id": "33cf7c1b-6d4e-4164-be8e-6ee0eec8f802",
   "metadata": {
    "tags": []
   },
   "source": [
    "- 평균 4점대 이상의 높은 수준을 꾸준하게 유지하고 있음 "
   ]
  },
  {
   "cell_type": "code",
   "execution_count": 21,
   "id": "38e3b15d-be0a-44ae-a901-e15e3782aa04",
   "metadata": {
    "tags": []
   },
   "outputs": [
    {
     "data": {
      "text/plain": [
       "Text(0.5, 1.0, '매장별 별점 평균 - 2022~2023년')"
      ]
     },
     "execution_count": 21,
     "metadata": {},
     "output_type": "execute_result"
    },
    {
     "data": {
      "image/png": "[encoded data removed]",
      "text/plain": [
       "<Figure size 600x800 with 1 Axes>"
      ]
     },
     "metadata": {},
     "output_type": "display_data"
    }
   ],
   "source": [
    "## 매장별 별점 평균 \n",
    "df_sorted = df_over_2022.groupby('store_naver')['star'].mean().sort_values(ascending=True)\n",
    "plt.figure(figsize=(6,8))\n",
    "df_sorted.plot(kind='barh')\n",
    "plt.xlim([0,5])\n",
    "plt.title('매장별 별점 평균 - 2022~2023년')"
   ]
  },
  {
   "cell_type": "code",
   "execution_count": 22,
   "id": "75bcdf80-8412-4f60-ab5f-0493b6628f35",
   "metadata": {
    "tags": []
   },
   "outputs": [],
   "source": [
    "#df_over_2022.groupby('brand')['star'].mean().sort_values(ascending=False)\n",
    "#df_over_2022.groupby('store_naver')['star'].mean().sort_values(ascending=False)\n",
    "#df_over_2022.groupby('date_YM')['star'].mean().sort_index(ascending=True)"
   ]
  },
  {
   "cell_type": "code",
   "execution_count": 23,
   "id": "bcc131ae-46f1-41f9-b9b0-8dd699e296df",
   "metadata": {
    "tags": []
   },
   "outputs": [
    {
     "data": {
      "text/html": [
       "<div>\n",
       "<style scoped>\n",
       "    .dataframe tbody tr th:only-of-type {\n",
       "        vertical-align: middle;\n",
       "    }\n",
       "\n",
       "    .dataframe tbody tr th {\n",
       "        vertical-align: top;\n",
       "    }\n",
       "\n",
       "    .dataframe thead th {\n",
       "        text-align: right;\n",
       "    }\n",
       "</style>\n",
       "<table border=\"1\" class=\"dataframe\">\n",
       "  <thead>\n",
       "    <tr style=\"text-align: right;\">\n",
       "      <th></th>\n",
       "      <th>review_id</th>\n",
       "      <th>brand</th>\n",
       "      <th>type</th>\n",
       "      <th>store_catchT</th>\n",
       "      <th>store_naver</th>\n",
       "      <th>nickname</th>\n",
       "      <th>content</th>\n",
       "      <th>date</th>\n",
       "      <th>star</th>\n",
       "      <th>year</th>\n",
       "      <th>month</th>\n",
       "      <th>day</th>\n",
       "      <th>weekday</th>\n",
       "      <th>date_YM</th>\n",
       "      <th>star_seg</th>\n",
       "    </tr>\n",
       "  </thead>\n",
       "  <tbody>\n",
       "    <tr>\n",
       "      <th>29</th>\n",
       "      <td>233400</td>\n",
       "      <td>Chai797</td>\n",
       "      <td>JUCD</td>\n",
       "      <td>Chai797 GFC점</td>\n",
       "      <td>Chai797 역삼 GFC</td>\n",
       "      <td>abstrade</td>\n",
       "      <td>NaN</td>\n",
       "      <td>2022-01-03 20:18:00</td>\n",
       "      <td>5.0</td>\n",
       "      <td>2022</td>\n",
       "      <td>1</td>\n",
       "      <td>20</td>\n",
       "      <td>Monday</td>\n",
       "      <td>2022-01</td>\n",
       "      <td>1.긍정</td>\n",
       "    </tr>\n",
       "    <tr>\n",
       "      <th>30</th>\n",
       "      <td>249584</td>\n",
       "      <td>Chai797</td>\n",
       "      <td>UCD</td>\n",
       "      <td>Chai797 청계천점</td>\n",
       "      <td>Chai797 청계천점</td>\n",
       "      <td>끌로딘</td>\n",
       "      <td>종종 방문하는곳인데 오늘 먹은 어향표고새우는 좀 많이 실망했어요. 미리튀겨놨다 다시...</td>\n",
       "      <td>2022-01-12 21:45:00</td>\n",
       "      <td>2.5</td>\n",
       "      <td>2022</td>\n",
       "      <td>1</td>\n",
       "      <td>21</td>\n",
       "      <td>Wednesday</td>\n",
       "      <td>2022-01</td>\n",
       "      <td>3.부정</td>\n",
       "    </tr>\n",
       "  </tbody>\n",
       "</table>\n",
       "</div>"
      ],
      "text/plain": [
       "    review_id    brand  type  store_catchT     store_naver  nickname  \\\n",
       "29     233400  Chai797  JUCD  Chai797 GFC점  Chai797 역삼 GFC  abstrade   \n",
       "30     249584  Chai797   UCD  Chai797 청계천점   Chai797 청계천점        끌로딘   \n",
       "\n",
       "                                              content                date  \\\n",
       "29                                                NaN 2022-01-03 20:18:00   \n",
       "30  종종 방문하는곳인데 오늘 먹은 어향표고새우는 좀 많이 실망했어요. 미리튀겨놨다 다시... 2022-01-12 21:45:00   \n",
       "\n",
       "    star  year  month  day    weekday  date_YM star_seg  \n",
       "29   5.0  2022      1   20     Monday  2022-01     1.긍정  \n",
       "30   2.5  2022      1   21  Wednesday  2022-01     3.부정  "
      ]
     },
     "execution_count": 23,
     "metadata": {},
     "output_type": "execute_result"
    }
   ],
   "source": [
    "## 별점이 3점을 기준으로 부정/중립/긍정 구분\n",
    "df_over_2022['star_seg'] = df_over_2022['star'].apply(lambda x: '1.긍정' if x > 3 else '2.중립' if x == 3 else '3.부정')\n",
    "df_over_2022.head(2)"
   ]
  },
  {
   "cell_type": "code",
   "execution_count": 24,
   "id": "792a1b85-e747-44ab-816f-3b6cbcd54af4",
   "metadata": {
    "tags": []
   },
   "outputs": [
    {
     "name": "stdout",
     "output_type": "stream",
     "text": [
      "star_seg\n",
      "1.긍정    1591\n",
      "2.중립      66\n",
      "3.부정     221\n",
      "Name: count, dtype: int64\n"
     ]
    },
    {
     "data": {
      "text/plain": [
       "<Axes: xlabel='star_seg'>"
      ]
     },
     "execution_count": 24,
     "metadata": {},
     "output_type": "execute_result"
    },
    {
     "data": {
      "image/png": "[encoded data removed]",
      "text/plain": [
       "<Figure size 500x300 with 1 Axes>"
      ]
     },
     "metadata": {},
     "output_type": "display_data"
    }
   ],
   "source": [
    "df_starSeg = df_over_2022['star_seg'].value_counts()\n",
    "print(df_starSeg.sort_index())\n",
    "\n",
    "df_starSeg.sort_index().plot(kind='bar', figsize=(5,3), rot=0)"
   ]
  },
  {
   "cell_type": "code",
   "execution_count": 25,
   "id": "55a1a76c-897f-489b-9c16-9343a0980ffc",
   "metadata": {
    "tags": []
   },
   "outputs": [
    {
     "data": {
      "text/plain": [
       "<Axes: xlabel='date_YM', ylabel='count'>"
      ]
     },
     "execution_count": 25,
     "metadata": {},
     "output_type": "execute_result"
    },
    {
     "data": {
      "image/png": "[encoded data removed]",
      "text/plain": [
       "<Figure size 2000x400 with 1 Axes>"
      ]
     },
     "metadata": {},
     "output_type": "display_data"
    }
   ],
   "source": [
    "df_bad = df_over_2022[df_over_2022['star_seg'] == '3.부정'].sort_values('date_YM')\n",
    "\n",
    "plt.figure(figsize=(20, 4))\n",
    "sns.countplot(data = df_bad, x='date_YM')"
   ]
  },
  {
   "cell_type": "markdown",
   "id": "f6baf699-6b69-409a-9a49-893e209322ed",
   "metadata": {
    "tags": []
   },
   "source": [
    "- 부정적 리뷰가 계속 증가 또는 감소하는 등의 추세는 보이지 않는다. "
   ]
  },
  {
   "cell_type": "code",
   "execution_count": 26,
   "id": "f3c99ae4-ed64-4766-9b97-d503494f731b",
   "metadata": {
    "tags": []
   },
   "outputs": [
    {
     "name": "stdout",
     "output_type": "stream",
     "text": [
      "['Chai797 청계천점 ' 'Chai797 을지로점' '정육점 여의도점' 'Chai797 역삼 GFC' 'Chai797 삼성점'\n",
      " 'Chai797 Plus 서현점' 'Chai797 종로 그랑 서울점' 'Chai797 Black 서래마을'\n",
      " 'Chai797 광화문점' '정육점 강남점' 'Chai797 여의도점 ' 'Chai797 시청점 ' '정육점 서래마을 본점'\n",
      " 'Chai797 잠실롯데캐슬점' '정육점 광화문 SFC점' 'Chai797 광화문 SFC점' '정육점 을지로점']\n"
     ]
    }
   ],
   "source": [
    "## 특정 매장에 대한 부정적 리뷰 건들의 원문을 살펴보자. 먼저 전체 매장명 출력\n",
    "print(df_bad['store_naver'].unique())"
   ]
  },
  {
   "cell_type": "code",
   "execution_count": 27,
   "id": "117ab2e4-43c8-4ade-803a-c5967f9a4d0d",
   "metadata": {
    "tags": []
   },
   "outputs": [
    {
     "name": "stdout",
     "output_type": "stream",
     "text": [
      ">> 부정 리뷰 건수 =  17\n"
     ]
    },
    {
     "data": {
      "text/html": [
       "<div>\n",
       "<style scoped>\n",
       "    .dataframe tbody tr th:only-of-type {\n",
       "        vertical-align: middle;\n",
       "    }\n",
       "\n",
       "    .dataframe tbody tr th {\n",
       "        vertical-align: top;\n",
       "    }\n",
       "\n",
       "    .dataframe thead th {\n",
       "        text-align: right;\n",
       "    }\n",
       "</style>\n",
       "<table border=\"1\" class=\"dataframe\">\n",
       "  <thead>\n",
       "    <tr style=\"text-align: right;\">\n",
       "      <th></th>\n",
       "      <th>store_naver</th>\n",
       "      <th>date</th>\n",
       "      <th>content</th>\n",
       "    </tr>\n",
       "  </thead>\n",
       "  <tbody>\n",
       "    <tr>\n",
       "      <th>1301</th>\n",
       "      <td>Chai797 을지로점</td>\n",
       "      <td>2023-09-19 15:13:00</td>\n",
       "      <td>음식이 너무짜요</td>\n",
       "    </tr>\n",
       "    <tr>\n",
       "      <th>1252</th>\n",
       "      <td>Chai797 을지로점</td>\n",
       "      <td>2023-09-05 13:34:00</td>\n",
       "      <td>짜장면의 면 양은 많으나 싱거웠음\\n요리2개를 주문 하고 각각 2군데로 소분을 요청했으나 안된다고 함. \\n따로 접시를 준다고 함. 응대 서비스는 실망스러움.</td>\n",
       "    </tr>\n",
       "    <tr>\n",
       "      <th>1243</th>\n",
       "      <td>Chai797 을지로점</td>\n",
       "      <td>2023-09-02 12:12:00</td>\n",
       "      <td>가격 대비 맛이 좋은 것은 아니네요</td>\n",
       "    </tr>\n",
       "    <tr>\n",
       "      <th>1144</th>\n",
       "      <td>Chai797 을지로점</td>\n",
       "      <td>2023-08-05 17:37:00</td>\n",
       "      <td>페르소나를 그려본다면 40대 와이셔츠 입은 아저씨들이 힙해보이려고 먹는 곳. 딤섬은 전자렌지 뎁히는건지 차갑게 나와서 어이가 없었던 것 빼고는 다 무난했음</td>\n",
       "    </tr>\n",
       "    <tr>\n",
       "      <th>1037</th>\n",
       "      <td>Chai797 을지로점</td>\n",
       "      <td>2023-06-29 21:47:00</td>\n",
       "      <td>접시부터 너무 지저분하고 , 저가뷔페 음식 먹는 느낌... 완전실망</td>\n",
       "    </tr>\n",
       "    <tr>\n",
       "      <th>1012</th>\n",
       "      <td>Chai797 을지로점</td>\n",
       "      <td>2023-06-20 13:54:00</td>\n",
       "      <td>방문할 때마다 늦게 나오고 제 각각 나와서 별로에요</td>\n",
       "    </tr>\n",
       "    <tr>\n",
       "      <th>877</th>\n",
       "      <td>Chai797 을지로점</td>\n",
       "      <td>2023-05-04 14:22:00</td>\n",
       "      <td>맛은 많이 아쉽습니다 \\n특히 딤섬종류가요</td>\n",
       "    </tr>\n",
       "    <tr>\n",
       "      <th>779</th>\n",
       "      <td>Chai797 을지로점</td>\n",
       "      <td>2023-03-23 22:01:00</td>\n",
       "      <td>가성비 극대노...근처 노포 중식당이 훨남</td>\n",
       "    </tr>\n",
       "    <tr>\n",
       "      <th>546</th>\n",
       "      <td>Chai797 을지로점</td>\n",
       "      <td>2023-01-11 09:36:00</td>\n",
       "      <td>점심 코스요리를 먹었는데, 짜고 비리고(세상에 중국요리에서 비린맛은 처음이네요) , 서비스도 처음 출근한 알바가 교육도 제대로 받지 않아 실수 투성이고… 가격대비 최악의 경험</td>\n",
       "    </tr>\n",
       "    <tr>\n",
       "      <th>478</th>\n",
       "      <td>Chai797 을지로점</td>\n",
       "      <td>2022-12-25 03:21:00</td>\n",
       "      <td>크리스마스인데도 가게가 텅텅 비어 있는데는 다 이유가 있는 것 같네요. 같이 간 일행 모두 맛이 없다고 입을 모았습니다. 딤섬은 그냥 한섬 만두 쪄 먹는 게 더 나을 것 같았고, 꿔바로우는 진짜 자르는 족족 고기가 튀김 옷과 분리가 되어 떨어지는데다 튀김옷이 너무 너무 딱딱했어요. 볶음밥은 평범했고, 짬뽕은 국물만 떠먹고 면은 다 남겼어요. 더 문젠 식사한지 벌써 10시간이 넘었는데 아직도 속이 안좋아요. 근처 중국집에서 점심을 먹어도 이정도는 아닌데. 음식 맛 직접 좀 보시고 개선 좀 하시길요.</td>\n",
       "    </tr>\n",
       "    <tr>\n",
       "      <th>197</th>\n",
       "      <td>Chai797 을지로점</td>\n",
       "      <td>2022-08-30 13:36:00</td>\n",
       "      <td>미리 예약을 하고 가서 11시 30분에 바로 입장한 후 자리를 안내 받기는 했지만, 한번에 주문을 받다 보니 오래 기다려야 했습니다. 코스로 나온 음식들의 맛은 평범 이하...</td>\n",
       "    </tr>\n",
       "    <tr>\n",
       "      <th>146</th>\n",
       "      <td>Chai797 을지로점</td>\n",
       "      <td>2022-07-30 15:25:00</td>\n",
       "      <td>중식당에서 이정도 요리 실력이라는 것은 체인점의 한계인가요? 서비스 인테리어 다 좋지만 음식 자체가 edge가 없네용</td>\n",
       "    </tr>\n",
       "    <tr>\n",
       "      <th>114</th>\n",
       "      <td>Chai797 을지로점</td>\n",
       "      <td>2022-07-05 20:08:00</td>\n",
       "      <td>20분 기다려서 먹은 꿔바로우는 보람도 없이 너무 딱딱했어요</td>\n",
       "    </tr>\n",
       "    <tr>\n",
       "      <th>108</th>\n",
       "      <td>Chai797 을지로점</td>\n",
       "      <td>2022-06-28 13:50:00</td>\n",
       "      <td>보리새우 짬뽕이 비렸음\\n계산시 음식이 비리다고 이야기함.\\n주방에 전달하겠다고함.\\n조치끝...\\n\\n직접전화하니 예약인 안된다고 하던데.\\n캐치테이블로는 왜 예약이 되는 건가요...</td>\n",
       "    </tr>\n",
       "    <tr>\n",
       "      <th>104</th>\n",
       "      <td>Chai797 을지로점</td>\n",
       "      <td>2022-06-24 13:43:00</td>\n",
       "      <td>앞에 누군가가 문을 열고 들어가길래 따라들어갔더니 귀청 떨어질 소리로 12시부터 입장하실께요 하는데 무슨 오마카세 일식집 온 줄 알았네요 나와서 기다리니 말한 시간보다 일찍 열어서 다른 사람 다 들어가더군요 같은 말을 해도 아다르고 어다른데 아직 준비중이라 조금 있다가 들어오시기 바랍니다 라던지 충분히 잘 응대할 수 있었을텐데 사람응대하는 직업가진 분 맞나 싶었습니다</td>\n",
       "    </tr>\n",
       "    <tr>\n",
       "      <th>96</th>\n",
       "      <td>Chai797 을지로점</td>\n",
       "      <td>2022-06-10 14:36:00</td>\n",
       "      <td>지배인인지 목소리 허스키한분 사람 기분 나쁘게 하는 재주 있습디다</td>\n",
       "    </tr>\n",
       "    <tr>\n",
       "      <th>33</th>\n",
       "      <td>Chai797 을지로점</td>\n",
       "      <td>2022-01-26 07:40:00</td>\n",
       "      <td>NaN</td>\n",
       "    </tr>\n",
       "  </tbody>\n",
       "</table>\n",
       "</div>"
      ],
      "text/plain": [
       "       store_naver                date  \\\n",
       "1301  Chai797 을지로점 2023-09-19 15:13:00   \n",
       "1252  Chai797 을지로점 2023-09-05 13:34:00   \n",
       "1243  Chai797 을지로점 2023-09-02 12:12:00   \n",
       "1144  Chai797 을지로점 2023-08-05 17:37:00   \n",
       "1037  Chai797 을지로점 2023-06-29 21:47:00   \n",
       "1012  Chai797 을지로점 2023-06-20 13:54:00   \n",
       "877   Chai797 을지로점 2023-05-04 14:22:00   \n",
       "779   Chai797 을지로점 2023-03-23 22:01:00   \n",
       "546   Chai797 을지로점 2023-01-11 09:36:00   \n",
       "478   Chai797 을지로점 2022-12-25 03:21:00   \n",
       "197   Chai797 을지로점 2022-08-30 13:36:00   \n",
       "146   Chai797 을지로점 2022-07-30 15:25:00   \n",
       "114   Chai797 을지로점 2022-07-05 20:08:00   \n",
       "108   Chai797 을지로점 2022-06-28 13:50:00   \n",
       "104   Chai797 을지로점 2022-06-24 13:43:00   \n",
       "96    Chai797 을지로점 2022-06-10 14:36:00   \n",
       "33    Chai797 을지로점 2022-01-26 07:40:00   \n",
       "\n",
       "                                                                                                                                                                                                                                                                                       content  \n",
       "1301                                                                                                                                                                                                                                                                                  음식이 너무짜요  \n",
       "1252                                                                                                                                                                                                  짜장면의 면 양은 많으나 싱거웠음\\n요리2개를 주문 하고 각각 2군데로 소분을 요청했으나 안된다고 함. \\n따로 접시를 준다고 함. 응대 서비스는 실망스러움.  \n",
       "1243                                                                                                                                                                                                                                                                       가격 대비 맛이 좋은 것은 아니네요  \n",
       "1144                                                                                                                                                                                                    페르소나를 그려본다면 40대 와이셔츠 입은 아저씨들이 힙해보이려고 먹는 곳. 딤섬은 전자렌지 뎁히는건지 차갑게 나와서 어이가 없었던 것 빼고는 다 무난했음  \n",
       "1037                                                                                                                                                                                                                                                     접시부터 너무 지저분하고 , 저가뷔페 음식 먹는 느낌... 완전실망  \n",
       "1012                                                                                                                                                                                                                                                              방문할 때마다 늦게 나오고 제 각각 나와서 별로에요  \n",
       "877                                                                                                                                                                                                                                                                    맛은 많이 아쉽습니다 \\n특히 딤섬종류가요  \n",
       "779                                                                                                                                                                                                                                                                    가성비 극대노...근처 노포 중식당이 훨남  \n",
       "546                                                                                                                                                                                          점심 코스요리를 먹었는데, 짜고 비리고(세상에 중국요리에서 비린맛은 처음이네요) , 서비스도 처음 출근한 알바가 교육도 제대로 받지 않아 실수 투성이고… 가격대비 최악의 경험  \n",
       "478   크리스마스인데도 가게가 텅텅 비어 있는데는 다 이유가 있는 것 같네요. 같이 간 일행 모두 맛이 없다고 입을 모았습니다. 딤섬은 그냥 한섬 만두 쪄 먹는 게 더 나을 것 같았고, 꿔바로우는 진짜 자르는 족족 고기가 튀김 옷과 분리가 되어 떨어지는데다 튀김옷이 너무 너무 딱딱했어요. 볶음밥은 평범했고, 짬뽕은 국물만 떠먹고 면은 다 남겼어요. 더 문젠 식사한지 벌써 10시간이 넘었는데 아직도 속이 안좋아요. 근처 중국집에서 점심을 먹어도 이정도는 아닌데. 음식 맛 직접 좀 보시고 개선 좀 하시길요.  \n",
       "197                                                                                                                                                                                         미리 예약을 하고 가서 11시 30분에 바로 입장한 후 자리를 안내 받기는 했지만, 한번에 주문을 받다 보니 오래 기다려야 했습니다. 코스로 나온 음식들의 맛은 평범 이하...  \n",
       "146                                                                                                                                                                                                                          중식당에서 이정도 요리 실력이라는 것은 체인점의 한계인가요? 서비스 인테리어 다 좋지만 음식 자체가 edge가 없네용  \n",
       "114                                                                                                                                                                                                                                                          20분 기다려서 먹은 꿔바로우는 보람도 없이 너무 딱딱했어요  \n",
       "108                                                                                                                                                                                    보리새우 짬뽕이 비렸음\\n계산시 음식이 비리다고 이야기함.\\n주방에 전달하겠다고함.\\n조치끝...\\n\\n직접전화하니 예약인 안된다고 하던데.\\n캐치테이블로는 왜 예약이 되는 건가요...  \n",
       "104                                                                             앞에 누군가가 문을 열고 들어가길래 따라들어갔더니 귀청 떨어질 소리로 12시부터 입장하실께요 하는데 무슨 오마카세 일식집 온 줄 알았네요 나와서 기다리니 말한 시간보다 일찍 열어서 다른 사람 다 들어가더군요 같은 말을 해도 아다르고 어다른데 아직 준비중이라 조금 있다가 들어오시기 바랍니다 라던지 충분히 잘 응대할 수 있었을텐데 사람응대하는 직업가진 분 맞나 싶었습니다  \n",
       "96                                                                                                                                                                                                                                                        지배인인지 목소리 허스키한분 사람 기분 나쁘게 하는 재주 있습디다  \n",
       "33                                                                                                                                                                                                                                                                                         NaN  "
      ]
     },
     "execution_count": 27,
     "metadata": {},
     "output_type": "execute_result"
    }
   ],
   "source": [
    "## want_store = 'xxxx' 에 원하는 매장명을 입력하라, 지정한 매정에 대해 부정적 리뷰 전체를 최신순서로 표시한다. \n",
    "want_store = 'Chai797 을지로점'\n",
    "\n",
    "pd.set_option('display.max_colwidth', None)\n",
    "pd.set_option('display.max_rows', None)\n",
    "\n",
    "df_want_store = df_bad[df_bad['store_naver'] == want_store]\n",
    "print('>> 부정 리뷰 건수 = ', df_want_store.shape[0])\n",
    "df_want_store[['store_naver', 'date', 'content']].sort_values(by='date', ascending = False)"
   ]
  },
  {
   "cell_type": "code",
   "execution_count": null,
   "id": "369cb045-79ac-4629-ae78-15904c752669",
   "metadata": {
    "tags": []
   },
   "outputs": [],
   "source": []
  },
  {
   "cell_type": "code",
   "execution_count": null,
   "id": "836c8709-cdfc-4cba-80da-a43f8598ad8e",
   "metadata": {},
   "outputs": [],
   "source": []
  }
 ],
 "metadata": {
  "kernelspec": {
   "display_name": "Python 3 (ipykernel)",
   "language": "python",
   "name": "python3"
  },
  "language_info": {
   "codemirror_mode": {
    "name": "ipython",
    "version": 3
   },
   "file_extension": ".py",
   "mimetype": "text/x-python",
   "name": "python",
   "nbconvert_exporter": "python",
   "pygments_lexer": "ipython3",
   "version": "3.11.5"
  }
 },
 "nbformat": 4,
 "nbformat_minor": 5
}
